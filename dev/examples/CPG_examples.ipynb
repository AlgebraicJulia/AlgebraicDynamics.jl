{
 "cells": [
  {
   "cell_type": "markdown",
   "source": [
    "# Open Circular Port Graph Examples"
   ],
   "metadata": {}
  },
  {
   "outputs": [],
   "cell_type": "code",
   "source": [
    "using AlgebraicDynamics\n",
    "using AlgebraicDynamics.CPortGraphDynam: draw, barbell, gridpath, grid, meshpath\n",
    "using Catlab\n",
    "\n",
    "using OrdinaryDiffEq\n",
    "using Plots, Plots.PlotMeasures\n",
    "using PrettyTables"
   ],
   "metadata": {},
   "execution_count": null
  },
  {
   "cell_type": "markdown",
   "source": [
    "## SIR Epidemiology Model"
   ],
   "metadata": {}
  },
  {
   "cell_type": "markdown",
   "source": [
    "An SIR epidemiology model has three types of people: susceptible, infected, and recovered. When a susceptible person interacts with infected person, the susceptible person also becomes infected. Over time infected people  recover. Transition rates determine the how frequently susceptible people come into contact with infected people and how fast infected people recover. The system evolves according to the law of mass action."
   ],
   "metadata": {}
  },
  {
   "cell_type": "markdown",
   "source": [
    "In a multi-city SIR model, each city has susceptible, infected, and recovered populations. To see the spread of the disease we will consider both susceptible and infected people moving between cities. To define a multi-city SIR model, we can compose multiple single-city SIR models using the composition syntax of open CPGs. The composition pattern will consist of three boxes each of which will be filled by a single-city SIR model. Ports expose the susceptible and infected populations of each city. One set of wires connect the susceptible and infected populations of cities 1 and 2. A second set of wires connect the susceptible and infected popuation of cities 2 and 3."
   ],
   "metadata": {}
  },
  {
   "outputs": [],
   "cell_type": "code",
   "source": [
    "# Define the composition pattern\n",
    "d₀ = OpenCPortGraph()\n",
    "add_parts!(d₀, :Box, 1)\n",
    "d₁ = barbell(2)\n",
    "F = ACSetTransformation((Box=[2],), d₀, d₁)\n",
    "G = ACSetTransformation((Box=[1],), d₀, d₁)\n",
    "d₂ = apex(pushout(F,G))\n",
    "\n",
    "# Define the primitive systems\n",
    "β, μ, α₁, α₂ = 0.4, 0.4, 0.01, 0.01\n",
    "\n",
    "sirfuncb = (u,x,p,t)->[-β*u[1]*u[2] - α₁*(u[1]-x[1]), # Ṡ\n",
    "                        β*u[1]*u[2] - μ*u[2] - α₂*(u[2]-x[2]), #İ\n",
    "                        μ*u[2] # Ṙ\n",
    "                        ]\n",
    "sirfuncm = (u,x,p,t)->[-β*u[1]*u[2] - α₁*(u[1]-(x[1]+x[3])/2),\n",
    "                        β*u[1]*u[2] - μ*u[2] - α₂*(u[2]-(x[2]+x[4])/2),\n",
    "                        μ*u[2]\n",
    "                       ]\n",
    "\n",
    "boundary  = ContinuousMachine{Float64}(2,3,sirfuncb, (u,p,t)->u[1:2])\n",
    "middle    = ContinuousMachine{Float64}(4,3, sirfuncm, (u,p,t)->u[[1,2,1,2]])\n",
    "\n",
    "# Compose\n",
    "threecity = oapply(d₂, [boundary,middle,boundary])"
   ],
   "metadata": {},
   "execution_count": null
  },
  {
   "cell_type": "markdown",
   "source": [
    "First, we will approximate the solution to the three city SIR model using Euler's method. The initial condition has 100 susceptible people in each city a single infected person in the first city. We show the infected populations in each city over time."
   ],
   "metadata": {}
  },
  {
   "outputs": [],
   "cell_type": "code",
   "source": [
    "u0 = [100,1,0,100,0,0,100,0,0.0]\n",
    "\n",
    "h = 0.01\n",
    "tspan = (0.0, 1.0)\n",
    "threecity_approx = euler_approx(threecity, h)\n",
    "prob = DiscreteProblem(threecity_approx, u0, [], tspan, nothing)\n",
    "sol = solve(prob, FunctionMap(); dt = h)\n",
    "\n",
    "map(sol) do u\n",
    "    return (i1=u[2], i2=u[5], i3=u[8])\n",
    "end |> pretty_table"
   ],
   "metadata": {},
   "execution_count": null
  },
  {
   "cell_type": "markdown",
   "source": [
    "Next, we will solve the continuous system and plot the results. Over time the infected populations increase and the susceptible populations decrease. The delays in the plots illustrate how the disease spreads from city 1 to city 2 and then from city 2 to city 3."
   ],
   "metadata": {}
  },
  {
   "outputs": [],
   "cell_type": "code",
   "source": [
    "# Solve and plot\n",
    "prob = ODEProblem(threecity, u0, tspan)\n",
    "sol = solve(prob, Tsit5(); dtmax = 0.01)\n",
    "\n",
    "plot(sol, lw=2, title = \"SIR Epidemiology Model\", bottom_margin=10mm, left_margin=10mm,\n",
    "    label=[\"S\" \"I\" \"R\"])"
   ],
   "metadata": {},
   "execution_count": null
  },
  {
   "cell_type": "markdown",
   "source": [
    "## Cellular automata"
   ],
   "metadata": {}
  },
  {
   "cell_type": "markdown",
   "source": [
    " Circular port graphs are particularly useful for modeling systems where the composition pattern is given by a grid and where the dynamics are repetative. In the case of cellular automata the composition pattern is a row of $n$ cells each of which is connected to its two neighbors. The primitive systems are identical machines whose discrete dynamics are a specified rule. See [here](https://mathworld.wolfram.com/ElementaryCellularAutomaton.html) for a complete set of rules and the patterns they generate."
   ],
   "metadata": {}
  },
  {
   "outputs": [],
   "cell_type": "code",
   "source": [
    "function Rule(k::Int)\n",
    "    (left_neighbor, x, right_neighbor) ->\n",
    "    Bool(digits(k, base=2, pad=8)[1 + right_neighbor + 2*x + 4*left_neighbor])\n",
    "end\n",
    "\n",
    "# Define the composition pattern\n",
    "n = 100\n",
    "row = apex(gridpath(n, 1))\n",
    "\n",
    "# Define the primitive system which will be repeated for each cell\n",
    "rule = DiscreteMachine{Bool}(2, 1, 2,\n",
    "            (u, x, p, t)->Rule(p)(x[2], u[1], x[1]),\n",
    "            (u,p,t)->[u[1], u[1]])\n",
    "\n",
    "# Compose\n",
    "automaton = oapply(row, rule)\n",
    "\n",
    "# Solve and plot\n",
    "u0 = zeros(Int, n); u0[Int(n/2)] = 1\n",
    "\n",
    "rule_number = 126\n",
    "tspan = (0.0, 100.0)\n",
    "prob = DiscreteProblem(automaton, u0, [0,0], tspan, rule_number)\n",
    "sol = solve(prob, FunctionMap())\n",
    "spy(transpose(reduce(hcat, sol.u)))"
   ],
   "metadata": {},
   "execution_count": null
  }
 ],
 "nbformat_minor": 3,
 "metadata": {
  "language_info": {
   "file_extension": ".jl",
   "mimetype": "application/julia",
   "name": "julia",
   "version": "1.10.5"
  },
  "kernelspec": {
   "name": "julia-1.10",
   "display_name": "Julia 1.10.5",
   "language": "julia"
  }
 },
 "nbformat": 4
}
