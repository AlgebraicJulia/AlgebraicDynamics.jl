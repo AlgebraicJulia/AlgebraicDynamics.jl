{
 "cells": [
  {
   "cell_type": "markdown",
   "source": [
    "# Ross-Macdonald Malaria Modeling"
   ],
   "metadata": {}
  },
  {
   "cell_type": "markdown",
   "source": [
    "Authors: Sean L. Wu and Sophie Libkind"
   ],
   "metadata": {}
  },
  {
   "outputs": [],
   "cell_type": "code",
   "source": [
    "using AlgebraicDynamics\n",
    "using Catlab.WiringDiagrams, Catlab.Graphics\n",
    "\n",
    "using ComponentArrays\n",
    "using DelayDiffEq, DifferentialEquations\n",
    "using Plots"
   ],
   "metadata": {},
   "execution_count": null
  },
  {
   "cell_type": "markdown",
   "source": [
    "The Ross-Macdonald (RM) model is the canonical model of malaria transmission, first expressed by\n",
    "Sir Ronald Ross in 1911. The simplest form of the model is given by a system of 2 nonlinear ordinary\n",
    "differential equations describing $Z$, parasite prevalence in the mosquito vector population, and $X$,\n",
    "parasite prevalence in the vertebrate host population:\n",
    "$$ \\dot X = mazbZ(1 - X) - rX, \\quad \\dot Z = acX (e^{-gn} - Z) - gZ  \\quad (1)$$"
   ],
   "metadata": {}
  },
  {
   "cell_type": "markdown",
   "source": [
    "The RM model is of supreme importance to modeling of malaria and other mosquito transmitted diseases\n",
    "because it is the simplest model that retains the fundamental processes involved in transmission: recovery\n",
    "of infected hosts, death of infected mosquitoes, and parasite transmission between discordant pairs of\n",
    "vectors and hosts. In this sense it represents the irreducible complexity to modeling mosquito borne\n",
    "diseases, such that any simpler model would be insufficient."
   ],
   "metadata": {}
  },
  {
   "cell_type": "markdown",
   "source": [
    "The model assumes that mosquitoes take bloodmeals (bites) on vertebrate hosts with rate $a$.\n",
    "Therefore, the per-capita rate at which susceptible mosquitoes become infected is $acX$, where $c$\n",
    "is the transmission efficiency from infectious humans to susceptible mosquitoes (probability of\n",
    "parasites successfully invading the mosquito given a bite occurs) and $X$ is the probability the\n",
    " bite lands on an infectious human. $1-Z$ is the proportion of mosquitoes who are susceptible but\n",
    "given an incubation period of $n$ days during which mosquitoes suffer per-capita mortality at rate\n",
    "$g$, only a proportion $e^{-gn}$ survive incubation to become infectious. Therefore the classic\n",
    "RM model will have statics that are consistent with the incorporation of an incubation period of\n",
    "fixed duration, but dynamics will not, as the delay is not incorporated into the equations."
   ],
   "metadata": {}
  },
  {
   "cell_type": "markdown",
   "source": [
    "Susceptible humans acquire infection at a rate $mabZ$, where $m = M/H$, the ratio of mosquitoes to\n",
    "humans, $a$ is as before, and $b$ is the transmission efficiency from infectious mosquitoes to\n",
    "susceptible humans. Therefore $mabZ$ gives the per-capita rate at which susceptible humans recieve\n",
    "parasites from the mosquito population. Infectious humans recover at a rate $r$ (the rate at which the\n",
    "immune system clears parasites). Because $m$ is considered a constant parameter, the model ignores\n",
    "seasonal fluctuations in mosquito (or host) population sizes. However, because the timescale of host\n",
    "dynamcis is typically slow in relation to mosquito dynamics, the approximation is often suitable\n",
    "over a transmission season."
   ],
   "metadata": {}
  },
  {
   "cell_type": "markdown",
   "source": [
    "The model's threshold criterion between the trivial equilibrium where both $Z,X$ are equal to zero\n",
    "(no disease) and the endemic equilibrium can be expressed by the basic reproductive number, giving\n",
    "the expected number of secondary infections arising from the introduction of a single infectious human,\n",
    "$$R_0 = \\frac{ma^2bce^{-gn}}{rg}.$$ The endemic equilibrium is therefore:\n",
    "$$\\bar{X}= \\frac{R_{0}-1}{R_{0} + \\frac{ac}{g}}, \\quad \\bar{Z} = \\frac{ac\\bar{X}}{g + ac\\bar{X}} e^{-gn}.$$"
   ],
   "metadata": {}
  },
  {
   "cell_type": "markdown",
   "source": [
    "From these equations, the nonlinear relationships that characterize observed malaria transmission can be\n",
    "understood. We implement them as follows:"
   ],
   "metadata": {}
  },
  {
   "cell_type": "markdown",
   "source": [
    "## Diagram of Systems\n",
    "First we must construct a diagram of systems which describes the interaction between the mosquito and\n",
    "host populations. The arrows between the two subsystems represents the bidirectional infection during bloodmeals."
   ],
   "metadata": {}
  },
  {
   "outputs": [],
   "cell_type": "code",
   "source": [
    "rm = WiringDiagram([], [:mosquitos, :humans])\n",
    "mosq_box   = add_box!(rm, Box(:mosquitos, [:x], [:z]))\n",
    "human_box  = add_box!(rm, Box(:humans, [:z], [:x]))\n",
    "output_box = output_id(rm)\n",
    "\n",
    "add_wires!(rm, Pair[\n",
    "    (mosq_box, 1)  => (human_box, 1),\n",
    "    (human_box, 1) => (mosq_box, 1),\n",
    "    (mosq_box, 1)  => (output_box, 1),\n",
    "    (human_box, 1) => (output_box, 2)]\n",
    ")\n",
    "\n",
    "\n",
    "to_graphviz(rm)"
   ],
   "metadata": {},
   "execution_count": null
  },
  {
   "cell_type": "markdown",
   "source": [
    "## ODE Model\n",
    "Next we implement the concrete mosquito and host dynamics given in Equation (1), and apply them to the diagram\n",
    "of systems. This composition is the complete Ross-Macdonald model which we can solve and plot."
   ],
   "metadata": {}
  },
  {
   "outputs": [],
   "cell_type": "code",
   "source": [
    "dZdt = function(u,x,p,t)\n",
    "    Z = u[1]\n",
    "    X = x[1]\n",
    "    [p.a*p.c*X*(exp(-p.g*p.n) - Z) - p.g*Z]\n",
    "end\n",
    "\n",
    "dXdt = function(u,x,p,t)\n",
    "    X = u[1]\n",
    "    Z = x[1]\n",
    "    [p.m*p.a*p.b*Z*(1 - X) - p.r*X]\n",
    "end"
   ],
   "metadata": {},
   "execution_count": null
  },
  {
   "outputs": [],
   "cell_type": "code",
   "source": [
    "mosquito_model = ContinuousMachine{Float64}(1, 1, 1, dZdt, (u,p,t) -> u)\n",
    "human_model    = ContinuousMachine{Float64}(1, 1, 1, dXdt, (u,p,t) ->  u)\n",
    "\n",
    "malaria_model = oapply(rm,\n",
    "    Dict(:humans => human_model, :mosquitos => mosquito_model)\n",
    ")"
   ],
   "metadata": {},
   "execution_count": null
  },
  {
   "outputs": [],
   "cell_type": "code",
   "source": [
    "params = ComponentArray(a = 0.3, b = 0.55, c = 0.15,\n",
    "    g = 0.1, n = 10, r = 1.0/200, m = 0.5)\n",
    "\n",
    "\n",
    "u0 = [0.1, 0.3]\n",
    "tspan = (0.0, 365.0*2)\n",
    "\n",
    "prob = ODEProblem(malaria_model, u0, tspan, params)\n",
    "sol = solve(prob, Tsit5());"
   ],
   "metadata": {},
   "execution_count": null
  },
  {
   "outputs": [],
   "cell_type": "code",
   "source": [
    "plot(sol, malaria_model,\n",
    "    lw=2, title = \"Ross-Macdonald Malaria model\",\n",
    "    xlabel = \"time\", ylabel = \"proportion infectious\",\n",
    "    color = [\"magenta\" \"blue\"]\n",
    ")\n",
    "\n",
    "# Plot the equilibrium behavior as well\n",
    "a, b, c, g, n, r, m = params\n",
    "R0 = (m*a^2*b*c*exp(-g*n))/(r*g)\n",
    "X̄ = (R0 - 1)/(R0 + (a*c)/g)\n",
    "Z̄ = (a*c*X̄)/(g + a*c*X̄)*exp(-g*n)\n",
    "\n",
    "N = length(sol)\n",
    "plot!(sol.t, fill(X̄, N), label = \"human equilibrium\", ls = :dash, lw = 2, color = \"blue\")\n",
    "plot!(sol.t, fill(Z̄, N), label = \"mosquito equilibrium\", ls = :dash, lw = 2, color = \"magenta\")"
   ],
   "metadata": {},
   "execution_count": null
  },
  {
   "cell_type": "markdown",
   "source": [
    "## ODE Model using instantaneous machines\n",
    "One way to decouple systems or isolate coupling points between different parts of a dynamical system\n",
    "is to use instantaneous machines, which allow processing of information to occur without (optionally) storing\n",
    "state themselves."
   ],
   "metadata": {}
  },
  {
   "cell_type": "markdown",
   "source": [
    "In this case we seperate the bloodmeal, where pathogen transmission occurs between the two\n",
    "species, into a seperate machine. This way, the dynamics of the human and mosquito machines\n",
    "do not need the other's state value, all the information has already been computed in\n",
    "the bloodmeal machine. For such a simple system, this arrangement may be superfluous, but in\n",
    "complex systems it can be beneficial to have seperate components which compute terms which\n",
    "are dependent on state variables \"external\" to a particular machine."
   ],
   "metadata": {}
  },
  {
   "outputs": [],
   "cell_type": "code",
   "source": [
    "rmb = WiringDiagram([], [:mosquitos, :humans, :bloodmeal])\n",
    "mosquito_box = add_box!(rmb, Box(:mosquitos, [:κ], [:Z]))\n",
    "human_box = add_box!(rmb, Box(:humans, [:EIR], [:X]))\n",
    "bloodmeal_box = add_box!(rmb, Box(:bloodmeal, [:X, :Z], [:κ, :EIR]))\n",
    "output_box = output_id(rmb)\n",
    "\n",
    "add_wires!(rmb, Pair[\n",
    "    (bloodmeal_box, 1)  => (mosquito_box, 1),\n",
    "    (bloodmeal_box, 2) => (human_box, 1),\n",
    "    (human_box, 1)  => (bloodmeal_box, 1),\n",
    "    (mosquito_box, 1) => (bloodmeal_box, 2),\n",
    "    (mosquito_box, 1)  => (output_box, 1),\n",
    "    (human_box, 1) => (output_box, 2)]\n",
    ")"
   ],
   "metadata": {},
   "execution_count": null
  },
  {
   "cell_type": "markdown",
   "source": [
    "The wiring diagram is below. The bloodmeal machine computes the EIR (entomological inoculation rate)\n",
    "which is proportional to the force of infection upon susceptible humans, and the net infectiousness\n",
    "of humans to mosquitoes, commonly denoted $\\kappa$. The EIR is $maZ$ where $Z$ is the mosquito\n",
    "state variable, and $\\kappa$ is $cX$ where $X$ is the human state variable."
   ],
   "metadata": {}
  },
  {
   "cell_type": "markdown",
   "source": [
    "These two terms are sent from the bloodmeal machine to the mosquito and human machines\n",
    "via their input ports. Then the dynamical system filling the mosquito machine is\n",
    "$\\dot{Z} = a\\kappa (e^{-gn} - Z) - gZ$ and $\\dot{X} = bEIR(1-X) - rX$ is the dynamical system\n",
    "filling the human machine."
   ],
   "metadata": {}
  },
  {
   "outputs": [],
   "cell_type": "code",
   "source": [
    "to_graphviz(rmb)"
   ],
   "metadata": {},
   "execution_count": null
  },
  {
   "outputs": [],
   "cell_type": "code",
   "source": [
    "bloodmeal = function(u,x,p,t)\n",
    "    X = x[1]\n",
    "    Z = x[2]\n",
    "    [p.c*X, p.m*p.a*Z]\n",
    "end\n",
    "\n",
    "dZdt = function(u,x,p,t)\n",
    "    Z = u[1]\n",
    "    κ = x[1]\n",
    "    [p.a*κ*(exp(-p.g*p.n) - Z) - p.g*Z]\n",
    "end\n",
    "\n",
    "dXdt = function(u,x,p,t)\n",
    "    X = u[1]\n",
    "    EIR = x[1]\n",
    "    [p.b*EIR*(1 - X) - p.r*X]\n",
    "end\n",
    "\n",
    "bloodmeal_model = InstantaneousContinuousMachine{Float64}(2, 0, 2, (u,x,p,t)->u, bloodmeal, [1=>1,2=>2])\n",
    "mosquito_model = ContinuousMachine{Float64}(1, 1, 1, dZdt, (u,p,t) -> u)\n",
    "human_model    = ContinuousMachine{Float64}(1, 1, 1, dXdt, (u,p,t) ->  u)\n",
    "\n",
    "instantaneous_mosquito_model = InstantaneousContinuousMachine{Float64}(mosquito_model)\n",
    "instantaneous_human_model = InstantaneousContinuousMachine{Float64}(human_model)\n",
    "\n",
    "malaria_model = oapply(rmb,\n",
    "    Dict(:mosquitos => instantaneous_mosquito_model, :humans => instantaneous_human_model, :bloodmeal => bloodmeal_model)\n",
    ")"
   ],
   "metadata": {},
   "execution_count": null
  },
  {
   "cell_type": "markdown",
   "source": [
    "We use the same parameter values as previously given to solve the composed system, and plot\n",
    "the analytic equilibrium. Results are the same as for the previous system."
   ],
   "metadata": {}
  },
  {
   "outputs": [],
   "cell_type": "code",
   "source": [
    "prob = ODEProblem(malaria_model, u0, tspan, params)\n",
    "sol = solve(prob, Tsit5());"
   ],
   "metadata": {},
   "execution_count": null
  },
  {
   "outputs": [],
   "cell_type": "code",
   "source": [
    "plot(sol, label = [\"mosquitos\" \"humans\"],\n",
    "    lw=2, title = \"Ross-Macdonald Malaria model\",\n",
    "    xlabel = \"time\", ylabel = \"proportion infectious\",\n",
    "    color = [\"magenta\" \"blue\"]\n",
    ")\n",
    "N = length(sol)\n",
    "plot!(sol.t, fill(X̄, N), label = \"human equilibrium\", ls = :dash, lw = 2, color = \"blue\")\n",
    "plot!(sol.t, fill(Z̄, N), label = \"mosquito equilibrium\", ls = :dash, lw = 2, color = \"magenta\")"
   ],
   "metadata": {},
   "execution_count": null
  },
  {
   "cell_type": "markdown",
   "source": [
    "## Delay Model\n",
    "The previous models did not capture the incubation period for the disease in the\n",
    "mosquito population. To do so we can replace the models with delay differential equations\n",
    "and apply them to the same diagram of systems representing the bloodmeal."
   ],
   "metadata": {}
  },
  {
   "outputs": [],
   "cell_type": "code",
   "source": [
    "dzdt_delay = function(u,x,h,p,t)\n",
    "    Y, Z = u\n",
    "    Y_delay, Z_delay = h(p, t - p.n)\n",
    "    X, X_delay = x[1]\n",
    "\n",
    "    [p.a*p.c*X*(1 - Y - Z) -\n",
    "        p.a*p.c*X_delay*(1 - Y_delay - Z_delay)*exp(-p.g*p.n) -\n",
    "        p.g*Y,\n",
    "    p.a*p.c*X_delay*(1 - Y_delay - Z_delay)*exp(-p.g*p.n) -\n",
    "        p.g*Z]\n",
    "end\n",
    "\n",
    "dxdt_delay = function(u,x,h,p,t)\n",
    "    X, = u\n",
    "    Z, _ = x[1]\n",
    "    [p.m*p.a*p.b*Z*(1 - X) - p.r*X]\n",
    "end"
   ],
   "metadata": {},
   "execution_count": null
  },
  {
   "outputs": [],
   "cell_type": "code",
   "source": [
    "mosquito_delay_model = DelayMachine{Float64, 2}(\n",
    "    1, 2, 1, dzdt_delay, (u,h,p,t) -> [[u[2], h(p,t - p.n)[2]]])\n",
    "\n",
    "human_delay_model = DelayMachine{Float64, 2}(\n",
    "    1, 1, 1, dxdt_delay, (u,h,p,t) -> [[u[1], h(p, t - p.n)[1]]])\n",
    "\n",
    "malaria_delay_model = oapply(rm,\n",
    "    Dict(:humans => human_delay_model, :mosquitos => mosquito_delay_model)\n",
    ")"
   ],
   "metadata": {},
   "execution_count": null
  },
  {
   "outputs": [],
   "cell_type": "code",
   "source": [
    "params = ComponentArray(a = 0.3, b = 0.55, c = 0.15,\n",
    "    g = 0.1, n = 10, r = 1.0/200, m = 0.5)\n",
    "\n",
    "u0_delay = [0.09, .01, 0.3]\n",
    "tspan = (0.0, 365.0*3)\n",
    "hist(p,t) = u0_delay;\n",
    "\n",
    "prob = DDEProblem(malaria_delay_model, u0_delay, [], hist, tspan, params)\n",
    "alg = MethodOfSteps(Tsit5())\n",
    "sol = solve(prob, alg)\n",
    "\n",
    "plot(sol, label=[\"non-infectious mosquito population\" \"infectious mosquito population\" \"host population\"],\n",
    "    lw=2, title = \"Ross-Macdonald malaria model\",\n",
    "    xlabel = \"time\", ylabel = \"proportion infectious\",\n",
    "    color = [\"magenta\" \"red\" \"blue\"]\n",
    ")\n",
    "N = length(sol)\n",
    "plot!(sol.t, fill(X̄, N), label = \"human equilibrium\", ls = :dash, lw = 2, color = \"blue\")\n",
    "plot!(sol.t, fill(Z̄, N), label = \"infectious mosquito equilibrium\", ls = :dash, lw = 2, color = \"red\")"
   ],
   "metadata": {},
   "execution_count": null
  },
  {
   "cell_type": "markdown",
   "source": [
    "While the equilibrium points of the two models are identical, they exhibit different dynamical behavior\n",
    "before settling down to equilibrium. Because models are often used to examine how the system may respond\n",
    "to intervention, incorporating additional biological realism can produce more plausible results regarding\n",
    "the expected time for interventions to affect the system. In any case, such simple models are best used as\n",
    "tools to explain basic concepts in malaria epidemiology rather than descriptions of real systems, which are\n",
    "likely far from equilibrium and affected by weather, climate, policy, and other external forces."
   ],
   "metadata": {}
  }
 ],
 "nbformat_minor": 3,
 "metadata": {
  "language_info": {
   "file_extension": ".jl",
   "mimetype": "application/julia",
   "name": "julia",
   "version": "1.10.5"
  },
  "kernelspec": {
   "name": "julia-1.10",
   "display_name": "Julia 1.10.5",
   "language": "julia"
  }
 },
 "nbformat": 4
}
