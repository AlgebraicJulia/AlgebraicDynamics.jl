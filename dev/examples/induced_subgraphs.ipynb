{
 "cells": [
  {
   "cell_type": "markdown",
   "source": [
    "# Induced Subgraphs as a Site\n",
    "\n",
    "This code should eventually find a home upstream in Catlab."
   ],
   "metadata": {}
  },
  {
   "outputs": [],
   "cell_type": "code",
   "source": [
    "using Catlab\n",
    "using Catlab.Graphs\n",
    "using Catlab.Graphics\n",
    "\n",
    "\n",
    "draw_subobject = to_graphviz ∘ dom ∘ hom\n",
    "draw(g) = to_graphviz(g, node_labels=true)\n",
    "is_subobject(X::Subobject,Y::Subobject) = force(meet(X,Y)) == force(X)\n",
    "\n",
    "function restrict(g::Graph, U::FinFunction)\n",
    "  codom(U) == vertices(g) && error(\"U is not a subset of the vertex set:$U, $(vertices(g))\")\n",
    "  h₀ = Subobject(g, V=collect(U))\n",
    "  h = negate(negate(h₀))\n",
    "  return h\n",
    "end\n",
    "\n",
    "\"\"\"    is_cover(S::FinSet, opens::Multcospan)\n",
    "\n",
    "Validates that the union of subsets is the entire set\n",
    "This is used in the constructor for ModuleCover.\n",
    "\"\"\"\n",
    "function is_cover(S::FinSet, opens::Multicospan)\n",
    "  sort(foldl(∪, map(opens) do Ui\n",
    "    collect(Ui)\n",
    "  end)) == collect(S)\n",
    "end\n",
    "\n",
    "\"\"\"    is_cover(G::Graph, opens::Multcospan)\n",
    "\n",
    "Validates that the union of the induced subgraphs is the entire graph.\n",
    "This is used in the constructor for ModuleCover.\n",
    "\n",
    "TODO: There has to be a better way to check if a subgraph is the whole graph\n",
    "\"\"\"\n",
    "function is_cover(G::Graph, opens::Multicospan)\n",
    "  g = foldl(join,\n",
    "      map(legs(opens)) do Ui\n",
    "          restrict(G, Ui)\n",
    "      end\n",
    "  )\n",
    "  collect(g.components.V) == vertices(G) && collect(g.components.E) == 1:ne(G)\n",
    "end\n",
    "\n",
    "\"\"\"    ModuleCover(G::Graph, opens::Multicospan)\n",
    "\n",
    "A struct for storing a graph along with a covering family of induced subgraphs.\n",
    "We store the collect of vertex sets as a multicospan in FinSet. And this induces the\n",
    "covering family on G. The constructor checks that every vertex and every edge is in at least one open.\n",
    "\"\"\"\n",
    "struct ModuleCover\n",
    "  G::Graph\n",
    "  opens::Multicospan\n",
    "  function ModuleCover(G::Graph, opens::Multicospan)\n",
    "    length(apex(opens)) == nv(G) || error(\"opens must cover the vertex set of the graph.\")\n",
    "    is_cover(apex(opens), opens) || error(\"Not every vertex in G appears in an induced subgraph.\")\n",
    "    is_cover(G, opens) || error(\"Not every edge in G appears in an induced subgraph formed by restriction along the opens.\")\n",
    "    return new(G, opens)\n",
    "  end\n",
    "end\n",
    "\n",
    "Base.getindex(cov::ModuleCover, i) = legs(cov.opens)[i]\n",
    "\n",
    "function Base.show(io::IO, cov::ModuleCover)\n",
    "  println(io, \"ModuleCover:\")\n",
    "  show(io, cov.G)\n",
    "  print(io, \"\\nCovering Family:\")\n",
    "  map(enumerate(cov.opens)) do (i,Ui)\n",
    "    print(io,\"\\n  U[$i]: \")\n",
    "    show(io, collect(Ui))\n",
    "  end\n",
    "end"
   ],
   "metadata": {},
   "execution_count": null
  },
  {
   "cell_type": "markdown",
   "source": [
    "```julia\n",
    "struct CTLNCover\n",
    "  ctln::CTLNetwork\n",
    "  cov::ModuleCover\n",
    "  function CTLNCover(ctln::CTLNCover, cov::ModuleCover)\n",
    "    apex(cov) == ctln.G || error(\"CTLN and Cover don't have the same graph\")\n",
    "    return new(ctln, cov)\n",
    "  end\n",
    "end\n",
    "```"
   ],
   "metadata": {}
  },
  {
   "outputs": [],
   "cell_type": "code",
   "source": [
    "using Test\n",
    "\n",
    "g = @acset Graph begin\n",
    "  V = 3\n",
    "  E = 3\n",
    "  src = [1,2,3]\n",
    "  tgt = [2,3,1]\n",
    "end\n",
    "\n",
    "@test_throws Exception ModuleCover(g,\n",
    "              Multicospan(FinSet(3),\n",
    "                [FinFunction([1], 3),\n",
    "                FinFunction([2,1], 3),\n",
    "                  FinFunction([2,3], 3)]))\n",
    "\n",
    "\n",
    "cov2 = ModuleCover(g,\n",
    "       Multicospan(FinSet(3),\n",
    "        [FinFunction([1,3], 3),\n",
    "         FinFunction([2,1], 3),\n",
    "          FinFunction([2,3], 3)]))\n",
    "\n",
    "@test is_cover(FinSet(3), cov2.opens)"
   ],
   "metadata": {},
   "execution_count": null
  },
  {
   "cell_type": "markdown",
   "source": [
    "You can draw the restrictions the graph along the opens in the cover"
   ],
   "metadata": {}
  },
  {
   "outputs": [],
   "cell_type": "code",
   "source": [
    "draw(restrict(cov2.G, cov2[1]))"
   ],
   "metadata": {},
   "execution_count": null
  },
  {
   "cell_type": "markdown",
   "source": [
    "The second edge connects vertices 2 and 3."
   ],
   "metadata": {}
  },
  {
   "outputs": [],
   "cell_type": "code",
   "source": [
    "draw(restrict(cov2.G, cov2[2]))"
   ],
   "metadata": {},
   "execution_count": null
  },
  {
   "cell_type": "markdown",
   "source": [
    "Together, these three restrictions cover the graph, which is evidence that it is a valid cover."
   ],
   "metadata": {}
  },
  {
   "outputs": [],
   "cell_type": "code",
   "source": [
    "draw(restrict(cov2.G, cov2[3]))"
   ],
   "metadata": {},
   "execution_count": null
  }
 ],
 "nbformat_minor": 3,
 "metadata": {
  "language_info": {
   "file_extension": ".jl",
   "mimetype": "application/julia",
   "name": "julia",
   "version": "1.10.4"
  },
  "kernelspec": {
   "name": "julia-1.10",
   "display_name": "Julia 1.10.4",
   "language": "julia"
  }
 },
 "nbformat": 4
}
