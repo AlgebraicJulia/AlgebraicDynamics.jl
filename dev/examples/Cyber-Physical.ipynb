{
 "cells": [
  {
   "cell_type": "markdown",
   "source": [
    "# Cyber Physical Systems Example"
   ],
   "metadata": {}
  },
  {
   "cell_type": "markdown",
   "source": [
    "Authors: Georgios Bakirtzis [https://bakirtzis.net/](https://bakirtzis.net) and Raul Gonzalez Garcia (raulg@iastate.edu)\n",
    "\n",
    "The following example is a mechanization from\n",
    "1. Compositional Cyber-Physical Systems Modeling - [http://dx.doi.org/10.4204/EPTCS.333.9](http://dx.doi.org/10.4204/EPTCS.333.9)\n",
    "2. Categorical Semantics of Cyber-Physical Systems Theory - [https://doi.org/10.1145/3461669](https://doi.org/10.1145/3461669)"
   ],
   "metadata": {}
  },
  {
   "outputs": [],
   "cell_type": "code",
   "source": [
    "using AlgebraicDynamics\n",
    "using Catlab\n",
    "\n",
    "using LabelledArrays\n",
    "using DifferentialEquations\n",
    "using Plots"
   ],
   "metadata": {},
   "execution_count": null
  },
  {
   "cell_type": "markdown",
   "source": [
    "We use  functorial semantics to model a cyper-physical system, namely an unmanned aerial vehicle (UAV).\n",
    "We define a diagram of systems (the composition syntax) that is the architecture of the composition.\n",
    "Then, we apply behaviors of the individual parts of the system to the architecture. This composition produces\n",
    "a complete UAV model."
   ],
   "metadata": {}
  },
  {
   "cell_type": "markdown",
   "source": [
    "We first have to define our boxes and specify what the inports and outports are.\n",
    "For example, the sensor box has two inports `:e` and `:s` and one outport `s_prime`."
   ],
   "metadata": {}
  },
  {
   "outputs": [],
   "cell_type": "code",
   "source": [
    "s = Box(:sensor, [:s, :e], [:s′])\n",
    "c = Box(:controller, [:d, :s′], [:c])\n",
    "d = Box(:dynamics, [:c], [:s]);"
   ],
   "metadata": {},
   "execution_count": null
  },
  {
   "cell_type": "markdown",
   "source": [
    "A wiring diagram has outer inports and outports which define the interface of target system.\n",
    "Then we add the boxes and wires to the diagram and visualize the result."
   ],
   "metadata": {}
  },
  {
   "outputs": [],
   "cell_type": "code",
   "source": [
    "UAV = WiringDiagram([:e,:d], [:s])\n",
    "\n",
    "sensor     = add_box!(UAV, s)\n",
    "controller = add_box!(UAV, c)\n",
    "dynamics   = add_box!(UAV, d)\n",
    "\n",
    "add_wires!(UAV, [\n",
    "    # net inputs\n",
    "    (input_id(UAV), 1) => (sensor, 2),\n",
    "    (input_id(UAV), 2) => (controller, 2),\n",
    "\n",
    "    # connections\n",
    "    (sensor, 1) => (controller, 1),\n",
    "    (controller, 1) => (dynamics, 1),\n",
    "    (dynamics, 1) => (sensor, 1),\n",
    "\n",
    "    # net output\n",
    "    (dynamics, 1) => (output_id(UAV), 1)\n",
    "]);"
   ],
   "metadata": {},
   "execution_count": null
  },
  {
   "outputs": [],
   "cell_type": "code",
   "source": [
    "to_graphviz(UAV)"
   ],
   "metadata": {},
   "execution_count": null
  },
  {
   "cell_type": "markdown",
   "source": [
    "Then we assign behaviors to inhabit the boxes."
   ],
   "metadata": {}
  },
  {
   "outputs": [],
   "cell_type": "code",
   "source": [
    "function 𝗟(𝐖)\n",
    "    𝐿(u, x, p, t) = [ -p.𝓐l * (u[1] - x[1] - x[2]) ] # sc\n",
    "    𝐶(u, x, p, t) = [ -p.𝓐c * (u[1] + p.𝓑c*x[1] - x[2]) ] # sl\n",
    "    𝐷(u, x, p, t) = LVector(α = -0.313*u[1] +  56.7*u[2] +  0.232*x[1],\n",
    "                             q = -0.013*u[1] - 0.426*u[2] + 0.0203*x[1],\n",
    "                             θ =  56.7*u[2]              )\n",
    "\n",
    "    u_𝐿(u,p,t) = [ u[1] ] # outputs sl\n",
    "    u_𝐶(u,p,t) = [ u[1] ] # outputs sc\n",
    "    u_𝐷(u,p,t) = [ u[3] ] # outputs θ\n",
    "\n",
    "    return oapply(𝐖,\n",
    "                  Dict(:sensor     => ContinuousMachine{Float64}(2, 1, 1, 𝐿, u_𝐿),\n",
    "                       :controller => ContinuousMachine{Float64}(2, 1, 1, 𝐶, u_𝐶),\n",
    "                       :dynamics   => ContinuousMachine{Float64}(1, 3, 1, 𝐷, u_𝐷)))\n",
    "end\n",
    "\n",
    "𝑢ᵤₐᵥ = 𝗟(UAV)"
   ],
   "metadata": {},
   "execution_count": null
  },
  {
   "cell_type": "markdown",
   "source": [
    "Lastly, we compute and plot the solution."
   ],
   "metadata": {}
  },
  {
   "outputs": [],
   "cell_type": "code",
   "source": [
    "# initial values\n",
    "xₒ = LVector( e = 0.01,  # [e, d] -> [θ offset, 𝛿 control input]\n",
    "              d = 0.05);\n",
    "\n",
    "uₒ = [0.0, 0, 0, 0, 0]\n",
    "tspan = (0, 20.0)\n",
    "\n",
    "params = (𝓐l = 100,  # decay constant of sensor\n",
    "          𝓐c = 100,  # decay constant of controller\n",
    "          𝓑c = 0)    # ratio of velocity to reference velocity\n",
    "\n",
    "prob = ODEProblem(𝑢ᵤₐᵥ, uₒ, xₒ, tspan, params)\n",
    "sol = solve(prob, alg_hints=[:stiff]);"
   ],
   "metadata": {},
   "execution_count": null
  },
  {
   "outputs": [],
   "cell_type": "code",
   "source": [
    "plot(sol, vars = [1,2, ((t,y) -> (t, y*1e2), 0, 4), 3, 5],\n",
    "    label = [\"sl\" \"sc\" \"α\" \"q\" \"θ\"],\n",
    "    lw = 2, title  = \"Aircraft pitch behaviour\",\n",
    "    xlabel = \"time\", ylabel = \"response\"\n",
    ")"
   ],
   "metadata": {},
   "execution_count": null
  }
 ],
 "nbformat_minor": 3,
 "metadata": {
  "language_info": {
   "file_extension": ".jl",
   "mimetype": "application/julia",
   "name": "julia",
   "version": "1.10.4"
  },
  "kernelspec": {
   "name": "julia-1.10",
   "display_name": "Julia 1.10.4",
   "language": "julia"
  }
 },
 "nbformat": 4
}
