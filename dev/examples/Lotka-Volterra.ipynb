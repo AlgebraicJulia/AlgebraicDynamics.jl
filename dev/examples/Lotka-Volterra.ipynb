{
 "cells": [
  {
   "cell_type": "markdown",
   "source": [
    "# Lotka-Volterra Three Ways"
   ],
   "metadata": {}
  },
  {
   "cell_type": "markdown",
   "source": [
    "We will give three examples of deriving the Lotka-Volterra equations $$ \\dot r(t) = \\alpha r(t) - \\beta r(t)f(t), \\dot f(t) = \\gamma f(t) r(t) - \\delta f(t)$$ as a composition of primitive systems. First, we will show it as the composition of resource sharers where the undirected composition pattern is an undirected wiring diagram. Second, we will show it as the composition of machines where the directed composition pattern is a wiring diagram. Lastly, we will show it as the composition of machines where the directed composition pattern is an open circular port graph (open CPG)."
   ],
   "metadata": {}
  },
  {
   "cell_type": "markdown",
   "source": [
    "Although these examples are quite small and you can easily work them out by hand,  this approach is based on the solid mathematical theory of operad algebras that allows you to scale to larger and more complex problems."
   ],
   "metadata": {}
  },
  {
   "cell_type": "markdown",
   "source": [
    "## Undirected composition\n",
    "### Undirected wiring diagrams"
   ],
   "metadata": {}
  },
  {
   "cell_type": "markdown",
   "source": [
    "A standard Lotka-Volterra predator-prey model is the composition of three resource sharers:"
   ],
   "metadata": {}
  },
  {
   "cell_type": "markdown",
   "source": [
    "1. a model of rabbit growth: this resource sharer has dynamics $\\dot r(t) = \\alpha r(t)$ and one port which exposes the rabbit population.\n",
    "2. a model of rabbit/fox predation: this resource sharer has dynamics $$\\dot r(t) = -\\beta r(t) f(t), \\dot f(t) = \\gamma r(t)f(t)$$ and two ports which expose the rabbit and fox populations respectively\n",
    "3. a model of fox population decline: this resource sharer has dynamics $\\dot f(t) = -\\delta f(t)$ and one port which exposes the fox population."
   ],
   "metadata": {}
  },
  {
   "cell_type": "markdown",
   "source": [
    "However, there are not two independent rabbit populations --- one that grows and one that gets eaten by foxes. Likewise, there are not two independent fox populations --- one that declines and one that feasts on rabbits. To capture these interactions between the trio of resource sharers, we compose them by identifying the exposed rabbit populations and identifying the exposed fox populations."
   ],
   "metadata": {}
  },
  {
   "outputs": [],
   "cell_type": "code",
   "source": [
    "using AlgebraicDynamics\n",
    "using Catlab.WiringDiagrams, Catlab.Programs\n",
    "\n",
    "using ComponentArrays\n",
    "using OrdinaryDiffEq, Plots, Plots.PlotMeasures\n",
    "\n",
    "const UWD = UndirectedWiringDiagram\n",
    "\n",
    "# Define the primitive systems\n",
    "dotr(u,p,t) = p.α*u\n",
    "dotrf(u,p,t) = [-p.β*u[1]*u[2], p.γ*u[1]*u[2]]\n",
    "dotf(u,p,t) = -p.δ*u\n",
    "\n",
    "rabbit_growth = ContinuousResourceSharer{Float64}(1, dotr)\n",
    "rabbitfox_predation = ContinuousResourceSharer{Float64}(2, dotrf)\n",
    "fox_decline = ContinuousResourceSharer{Float64}(1, dotf)\n",
    "\n",
    "# Define the composition pattern\n",
    "rf = @relation (rabbits,foxes) begin\n",
    "    growth(rabbits)\n",
    "    predation(rabbits,foxes)\n",
    "    decline(foxes)\n",
    "end\n",
    "\n",
    "# Compose\n",
    "rabbitfox_system = oapply(rf, [rabbit_growth, rabbitfox_predation, fox_decline])\n",
    "\n",
    "\n",
    "# Solve and plot\n",
    "u0 = [10.0, 100.0]\n",
    "params = ComponentArray(α=.3, β=0.015, γ=0.015, δ=0.7)\n",
    "tspan = (0.0, 100.0)\n",
    "\n",
    "prob = ODEProblem(rabbitfox_system, u0, tspan, params)\n",
    "sol = solve(prob, Tsit5())\n",
    "\n",
    "plot(sol, rabbitfox_system,\n",
    "    lw=2, title = \"Lotka-Volterra Predator-Prey Model\",\n",
    "    xlabel = \"time\", ylabel = \"population size\"\n",
    ")"
   ],
   "metadata": {},
   "execution_count": null
  },
  {
   "cell_type": "markdown",
   "source": [
    "## Directed composition\n",
    "A standard Lotka-Volterra predator-prey model is the composition of two machines:"
   ],
   "metadata": {}
  },
  {
   "cell_type": "markdown",
   "source": [
    "1. Evolution of a rabbit population: this machine has one input which represents a population of predators, $h(t)$, that hunt rabbits. This machine has one output which emits the rabbit population $r(t)$. The dynamics of this machine is the driven ODE $\\dot r(t) = \\alpha r(t) - \\beta r(t) h(t).$"
   ],
   "metadata": {}
  },
  {
   "cell_type": "markdown",
   "source": [
    "2. Evoluation of a fox population: this machine has one input which represents a population of prey, $e(t)$, that are eaten by foxes. This machine has one output which emits the fox population $f(t)$. The dynamics of this machine is the driven ODE $\\dot f(t) =\\gamma f(t)e(t) - \\delta f(t).$"
   ],
   "metadata": {}
  },
  {
   "cell_type": "markdown",
   "source": [
    "### Wiring diagrams\n",
    "Since foxes hunt rabbit, these machines compose by setting the fox population to be the input for rabbit evolution. Likewise, we set the rabbit population to be the input for fox evolution. We first implement this setting of inputs using a wiring diagram as our composition pattern."
   ],
   "metadata": {}
  },
  {
   "outputs": [],
   "cell_type": "code",
   "source": [
    "using AlgebraicDynamics.DWDDynam\n",
    "\n",
    "# Define the primitive systems\n",
    "dotr(u, x, p, t) = [p.α*u[1] - p.β*u[1]*x[1]]\n",
    "dotf(u, x, p, t) = [p.γ*u[1]*x[1] - p.δ*u[1]]\n",
    "\n",
    "rabbit = ContinuousMachine{Float64}(1,1,1, dotr, (u, p, t) -> u)\n",
    "fox    = ContinuousMachine{Float64}(1,1,1, dotf, (u, p, t) -> u)\n",
    "\n",
    "# Define the composition pattern\n",
    "rabbitfox_pattern = WiringDiagram([], [:rabbits, :foxes])\n",
    "rabbit_box = add_box!(rabbitfox_pattern, Box(:rabbit, [:pop], [:pop]))\n",
    "fox_box = add_box!(rabbitfox_pattern, Box(:fox, [:pop], [:pop]))\n",
    "\n",
    "add_wires!(rabbitfox_pattern, Pair[\n",
    "    (rabbit_box, 1) => (fox_box, 1),\n",
    "    (fox_box, 1)    => (rabbit_box, 1),\n",
    "    (rabbit_box, 1) => (output_id(rabbitfox_pattern), 1),\n",
    "    (fox_box, 1)    => (output_id(rabbitfox_pattern), 2)\n",
    "])\n",
    "\n",
    "# Compose\n",
    "rabbitfox_system = oapply(rabbitfox_pattern, [rabbit, fox])\n",
    "\n",
    "# Solve and plot\n",
    "u0 = [10.0, 100.0]\n",
    "params = ComponentArray(α=.3, β=0.015, γ=0.015, δ=0.7)\n",
    "tspan = (0.0, 100.0)\n",
    "\n",
    "prob = ODEProblem(rabbitfox_system, u0, tspan, params)\n",
    "sol = solve(prob, Tsit5())\n",
    "\n",
    "plot(sol, rabbitfox_system, params,\n",
    "    lw=2, title = \"Lotka-Volterra Predator-Prey Model\",\n",
    "    xlabel = \"time\", ylabel = \"population size\"\n",
    ")"
   ],
   "metadata": {},
   "execution_count": null
  },
  {
   "cell_type": "markdown",
   "source": [
    "### Open CPG\n",
    "We next implement the setting of inputs using an open CPG as our composition pattern. We will use a barbell CPG. A barbell has two boxes connected by $n$ wires. In this instance we will set $n$ to $1$ since each machine receives and emits exactly one piece of information."
   ],
   "metadata": {}
  },
  {
   "outputs": [],
   "cell_type": "code",
   "source": [
    "using AlgebraicDynamics.CPortGraphDynam\n",
    "using AlgebraicDynamics.CPortGraphDynam: barbell\n",
    "\n",
    "# Define the composition pattern\n",
    "rabbitfox_pattern = barbell(1)\n",
    "\n",
    "# Compose\n",
    "rabbitfox_system = oapply(rabbitfox_pattern, [rabbit, fox])\n",
    "\n",
    "u0 = [10.0, 100.0]\n",
    "params = ComponentArray(α=.3, β=0.015, γ=0.015, δ=0.7)\n",
    "tspan = (0.0, 100.0)\n",
    "\n",
    "prob = ODEProblem(rabbitfox_system, u0, tspan, params)\n",
    "sol = solve(prob, FRK65(0))\n",
    "\n",
    "plot(sol, lw=2, bottom_margin=10mm, left_margin=10mm, title = \"Lotka-Volterra Predator-Prey Model\", label=[\"rabbits\" \"foxes\"])\n",
    "xlabel!(\"Time\")\n",
    "ylabel!(\"Population size\")"
   ],
   "metadata": {},
   "execution_count": null
  }
 ],
 "nbformat_minor": 3,
 "metadata": {
  "language_info": {
   "file_extension": ".jl",
   "mimetype": "application/julia",
   "name": "julia",
   "version": "1.10.4"
  },
  "kernelspec": {
   "name": "julia-1.10",
   "display_name": "Julia 1.10.4",
   "language": "julia"
  }
 },
 "nbformat": 4
}
