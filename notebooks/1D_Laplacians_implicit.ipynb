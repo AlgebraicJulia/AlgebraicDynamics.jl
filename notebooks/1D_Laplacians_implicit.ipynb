{
 "cells": [
  {
   "cell_type": "code",
   "execution_count": 3,
   "metadata": {},
   "outputs": [
    {
     "name": "stderr",
     "output_type": "stream",
     "text": [
      "WARNING: using LinearAlgebra.LinearAlgebra in module Main conflicts with an existing identifier.\n"
     ]
    }
   ],
   "source": [
    "using LinearAlgebra\n",
    "using Plots\n",
    "# import LinearAlgebra: ⋅\n",
    "using Catlab\n",
    "import Catlab.Theories:\n",
    "  Ob, Hom, dom, codom, compose, ⋅, ∘, id, oplus, ⊕, mzero, swap,\n",
    "  dagger, dunit, dcounit, mcopy, Δ, delete, ◊, mmerge, ∇, create, □,\n",
    "  plus, +, zero, coplus, cozero, meet, top, join, bottom,\n",
    "  proj1, proj2, pair, copair\n",
    "\n",
    "using Catlab.LinearAlgebra\n",
    "import Catlab.LinearAlgebra: scalar\n",
    "using Test\n",
    "using AlgebraicDynamics.LinRels"
   ]
  },
  {
   "cell_type": "code",
   "execution_count": 134,
   "metadata": {},
   "outputs": [
    {
     "data": {
      "text/plain": [
       "100.0"
      ]
     },
     "execution_count": 134,
     "metadata": {},
     "output_type": "execute_result"
    }
   ],
   "source": [
    "Δt = 0.01\n",
    "Δx = 1\n",
    "α = 1\n",
    "k = Δx^2/(Δt*α)"
   ]
  },
  {
   "cell_type": "code",
   "execution_count": 135,
   "metadata": {},
   "outputs": [
    {
     "data": {
      "text/plain": [
       "#4 (generic function with 1 method)"
      ]
     },
     "execution_count": 135,
     "metadata": {},
     "output_type": "execute_result"
    }
   ],
   "source": [
    "X,Z = Ob.([ FreeLinearRelations ], [:X,:Z])\n",
    "lap = Hom(:lap,Z, X⊕X⊕X⊕X)\n",
    "\n",
    "F = semantics(Dict(X=>LinRelDom(1),\n",
    "                   Z=>LinRelDom(0),\n",
    "                   lap=>(zero(LinRelDom(1))⋅LinRel([1 (-(2 + k)) 1 k],1*I(4)))))"
   ]
  },
  {
   "cell_type": "code",
   "execution_count": 136,
   "metadata": {},
   "outputs": [],
   "source": [
    "laplacian = (id(X)⊕scalar(X,-2)⊕id(X))⋅(id(X)⊕plus(X))⋅plus(X)⋅cozero(X);"
   ]
  },
  {
   "cell_type": "code",
   "execution_count": 137,
   "metadata": {},
   "outputs": [
    {
     "data": {
      "text/plain": [
       "\u001b[32m\u001b[1mTest Passed\u001b[22m\u001b[39m"
      ]
     },
     "execution_count": 137,
     "metadata": {},
     "output_type": "execute_result"
    }
   ],
   "source": [
    "@test F(laplacian)([0.3, 0.2, 0.1],[])\n",
    "@test F(laplacian)([0.1, 0.1, 0.1],[])"
   ]
  },
  {
   "cell_type": "code",
   "execution_count": 138,
   "metadata": {},
   "outputs": [
    {
     "data": {
      "text/latex": [
       "$\\left(\\left(\\left(\\eta_{X} \\oplus \\mathrm{id}_{X} \\oplus \\mathrm{id}_{X}\\right) \\cdot \\left(\\mathrm{id}_{X} \\oplus \\sigma_{X,X} \\oplus \\mathrm{id}_{X}\\right)\\right) \\cdot \\left(\\mathrm{id}_{X} \\oplus \\mathrm{id}_{X} \\oplus \\nabla_{X} \\oplus \\eta_{X}\\right)\\right) \\cdot \\left(\\mathrm{id}_{X} \\oplus \\left(\\left(\\left(\\left(\\mathrm{id}_{X} \\oplus \\mathop{\\mathrm{scalar}}\\left[X,-2\\right] \\oplus \\mathrm{id}_{X}\\right) \\cdot \\left(\\mathrm{id}_{X} \\oplus \\nabla_{X}\\right)\\right) \\cdot \\nabla_{X}\\right) \\cdot \\mathop{\\mathrm{cozero}}\\left[X\\right]\\right) \\oplus \\mathrm{id}_{X}\\right) : X \\oplus X \\to X \\oplus X$"
      ],
      "text/plain": [
       "compose(compose(compose(oplus(dunit(X),id(X),id(X)),oplus(id(X),swap(X,X),id(X))),oplus(id(X),id(X),mmerge(X),dunit(X))),oplus(id(X),compose(compose(compose(oplus(id(X),scalar(X,-2),id(X)),oplus(id(X),plus(X))),plus(X)),cozero(X)),id(X)))"
      ]
     },
     "execution_count": 138,
     "metadata": {},
     "output_type": "execute_result"
    }
   ],
   "source": [
    "fit_laplacian = (dunit(X)⊕id(X)⊕id(X))⋅(id(X)⊕swap(X,X)⊕id(X))⋅(id(X)⊕id(X)⊕mmerge(X)⊕dunit(X))⋅(id(X)⊕laplacian⊕id(X))"
   ]
  },
  {
   "cell_type": "code",
   "execution_count": 139,
   "metadata": {},
   "outputs": [
    {
     "data": {
      "text/plain": [
       "\u001b[32m\u001b[1mTest Passed\u001b[22m\u001b[39m"
      ]
     },
     "execution_count": 139,
     "metadata": {},
     "output_type": "execute_result"
    }
   ],
   "source": [
    "@test F(fit_laplacian)([1,1],[1,1])\n",
    "@test F(fit_laplacian)([1,2],[2,3])"
   ]
  },
  {
   "cell_type": "code",
   "execution_count": 140,
   "metadata": {},
   "outputs": [
    {
     "data": {
      "text/latex": [
       "$\\lozenge_{X} \\oplus \\mathrm{id}_{X} : X \\oplus X \\to X$"
      ],
      "text/plain": [
       "oplus(delete(X),id(X))"
      ]
     },
     "execution_count": 140,
     "metadata": {},
     "output_type": "execute_result"
    }
   ],
   "source": [
    "cap = id(X)⊕create(X)\n",
    "cup = delete(X)⊕id(X)"
   ]
  },
  {
   "cell_type": "code",
   "execution_count": 141,
   "metadata": {},
   "outputs": [
    {
     "data": {
      "text/plain": [
       "true"
      ]
     },
     "execution_count": 141,
     "metadata": {},
     "output_type": "execute_result"
    }
   ],
   "source": [
    "#\n",
    "# x1 - o - o - o - y1\n",
    "#\n",
    "F(cap⋅fit_laplacian⋅fit_laplacian⋅fit_laplacian⋅cup)([0],[12])"
   ]
  },
  {
   "cell_type": "code",
   "execution_count": 142,
   "metadata": {},
   "outputs": [
    {
     "data": {
      "text/plain": [
       "true"
      ]
     },
     "execution_count": 142,
     "metadata": {},
     "output_type": "execute_result"
    }
   ],
   "source": [
    "#\n",
    "# x1 - x2 - o - y1 - y2\n",
    "#\n",
    "F(fit_laplacian⋅fit_laplacian⋅fit_laplacian)([0,1],[3,4])"
   ]
  },
  {
   "cell_type": "code",
   "execution_count": 143,
   "metadata": {},
   "outputs": [
    {
     "data": {
      "text/plain": [
       "true"
      ]
     },
     "execution_count": 143,
     "metadata": {},
     "output_type": "execute_result"
    }
   ],
   "source": [
    "#\n",
    "# x1 - o - o - y1\n",
    "#\n",
    "F(cap⋅fit_laplacian⋅fit_laplacian⋅cup)([0],[12])"
   ]
  },
  {
   "cell_type": "code",
   "execution_count": 144,
   "metadata": {},
   "outputs": [
    {
     "data": {
      "text/plain": [
       "2×1 Array{Float64,2}:\n",
       " -0.6985367247883869\n",
       " -0.7155742058807832"
      ]
     },
     "execution_count": 144,
     "metadata": {},
     "output_type": "execute_result"
    }
   ],
   "source": [
    "solve(F(fit_laplacian⋅fit_laplacian⋅fit_laplacian⋅fit_laplacian⋅fit_laplacian⋅fit_laplacian⋅fit_laplacian⋅fit_laplacian⋅fit_laplacian⋅fit_laplacian⋅fit_laplacian⋅fit_laplacian⋅fit_laplacian⋅fit_laplacian⋅fit_laplacian⋅fit_laplacian⋅fit_laplacian⋅fit_laplacian⋅fit_laplacian⋅fit_laplacian⋅fit_laplacian⋅fit_laplacian⋅fit_laplacian⋅fit_laplacian⋅fit_laplacian⋅fit_laplacian⋅fit_laplacian⋅fit_laplacian⋅fit_laplacian⋅fit_laplacian⋅fit_laplacian⋅fit_laplacian⋅fit_laplacian⋅fit_laplacian⋅fit_laplacian⋅fit_laplacian⋅fit_laplacian⋅fit_laplacian⋅fit_laplacian⋅fit_laplacian), [1,2])"
   ]
  },
  {
   "cell_type": "code",
   "execution_count": 145,
   "metadata": {},
   "outputs": [
    {
     "data": {
      "text/latex": [
       "$\\left(\\left(\\sigma_{X,X} \\oplus \\left(\\square_{Z} \\cdot \\mathrm{lap}\\right) \\oplus \\mathrm{id}_{X}\\right) \\cdot \\left(\\mathrm{id}_{X} \\oplus \\varepsilon_{X} \\oplus \\left(\\Delta_{X} \\cdot \\left(\\mathrm{id}_{X} \\oplus \\Delta_{X}\\right)\\right) \\oplus \\mathrm{id}_{X} \\oplus \\varepsilon_{X}\\right)\\right) \\cdot \\left(\\varepsilon_{X} \\oplus \\mathrm{id}_{X \\oplus X \\oplus X}\\right) : X \\oplus X \\oplus X \\to X \\oplus X \\oplus X$"
      ],
      "text/plain": [
       "compose(compose(oplus(swap(X,X),compose(create(Z),lap),id(X)),oplus(id(X),dcounit(X),compose(mcopy(X),oplus(id(X),mcopy(X))),id(X),dcounit(X))),oplus(dcounit(X),id(oplus(X,X,X))))"
      ]
     },
     "execution_count": 145,
     "metadata": {},
     "output_type": "execute_result"
    }
   ],
   "source": [
    "cup = zero(X)⊕create(X)\n",
    "cap = delete(X)⊕cozero(X)\n",
    "t_laplacian = (id(X)⊕scalar(X,-2)⊕id(X))⋅(id(X)⊕plus(X))⋅plus(X);\n",
    "t_fit_laplacian = (swap(X,X)⊕(create(Z)⋅lap)⊕id(X))⋅(id(X)⊕dcounit(X)⊕(mcopy(X)⋅(id(X)⊕mcopy(X)))⊕id(X)⊕dcounit(X))⋅(dcounit(X)⊕id(X⊕X⊕X))"
   ]
  },
  {
   "cell_type": "code",
   "execution_count": 146,
   "metadata": {},
   "outputs": [
    {
     "data": {
      "text/plain": [
       "chain_time_lapl (generic function with 1 method)"
      ]
     },
     "execution_count": 146,
     "metadata": {},
     "output_type": "execute_result"
    }
   ],
   "source": [
    "function time_compose(a, b)\n",
    "    a_time = length(dom(a).args) - 2\n",
    "    b_time = length(dom(b).args) - 2\n",
    "    a_bundle = reduce(⊕,[X for i in 1:a_time])\n",
    "    b_bundle = reduce(⊕,[X for i in 1:b_time])\n",
    "    (a⊕id(b_bundle))⋅(id(a_bundle)⊕b)\n",
    "end\n",
    "\n",
    "function add_time(ind::Int, size::Int)\n",
    "    cur_lap = time_laplacian\n",
    "    for j in 1:ind-1\n",
    "        cur_lap = id(X) ⊕ cur_lap\n",
    "    end\n",
    "    for j in ind+1:size\n",
    "        cur_lap = cur_lap ⊕ id(X)\n",
    "    end\n",
    "    cur_lap\n",
    "end\n",
    "\n",
    "function chain_time_lapl(n::Int64)\n",
    "    if n == 1\n",
    "        return time_laplacian\n",
    "    end\n",
    "    lapls = [add_time(i, n) for i in 1:n]\n",
    "    chain = compose(lapls...)\n",
    "end"
   ]
  },
  {
   "cell_type": "code",
   "execution_count": 147,
   "metadata": {},
   "outputs": [
    {
     "data": {
      "text/latex": [
       "$\\left(\\left(\\left(\\left(\\left(\\left(\\left(\\left(\\left(\\left(\\left(\\left(\\sigma_{X,X} \\oplus \\left(\\square_{Z} \\cdot \\mathrm{lap}\\right) \\oplus \\mathrm{id}_{X}\\right) \\cdot \\left(\\mathrm{id}_{X} \\oplus \\varepsilon_{X} \\oplus \\left(\\Delta_{X} \\cdot \\left(\\mathrm{id}_{X} \\oplus \\Delta_{X}\\right)\\right) \\oplus \\mathrm{id}_{X} \\oplus \\varepsilon_{X}\\right)\\right) \\cdot \\left(\\varepsilon_{X} \\oplus \\mathrm{id}_{X \\oplus X \\oplus X}\\right)\\right) \\oplus \\mathrm{id}_{X}\\right) \\cdot \\left(\\mathrm{id}_{X} \\oplus \\left(\\left(\\left(\\sigma_{X,X} \\oplus \\left(\\square_{Z} \\cdot \\mathrm{lap}\\right) \\oplus \\mathrm{id}_{X}\\right) \\cdot \\left(\\mathrm{id}_{X} \\oplus \\varepsilon_{X} \\oplus \\left(\\Delta_{X} \\cdot \\left(\\mathrm{id}_{X} \\oplus \\Delta_{X}\\right)\\right) \\oplus \\mathrm{id}_{X} \\oplus \\varepsilon_{X}\\right)\\right) \\cdot \\left(\\varepsilon_{X} \\oplus \\mathrm{id}_{X \\oplus X \\oplus X}\\right)\\right)\\right)\\right) \\oplus \\mathrm{id}_{X \\oplus X}\\right) \\cdot \\left(\\mathrm{id}_{X \\oplus X} \\oplus \\left(\\left(\\left(\\left(\\left(\\sigma_{X,X} \\oplus \\left(\\square_{Z} \\cdot \\mathrm{lap}\\right) \\oplus \\mathrm{id}_{X}\\right) \\cdot \\left(\\mathrm{id}_{X} \\oplus \\varepsilon_{X} \\oplus \\left(\\Delta_{X} \\cdot \\left(\\mathrm{id}_{X} \\oplus \\Delta_{X}\\right)\\right) \\oplus \\mathrm{id}_{X} \\oplus \\varepsilon_{X}\\right)\\right) \\cdot \\left(\\varepsilon_{X} \\oplus \\mathrm{id}_{X \\oplus X \\oplus X}\\right)\\right) \\oplus \\mathrm{id}_{X}\\right) \\cdot \\left(\\mathrm{id}_{X} \\oplus \\left(\\left(\\left(\\sigma_{X,X} \\oplus \\left(\\square_{Z} \\cdot \\mathrm{lap}\\right) \\oplus \\mathrm{id}_{X}\\right) \\cdot \\left(\\mathrm{id}_{X} \\oplus \\varepsilon_{X} \\oplus \\left(\\Delta_{X} \\cdot \\left(\\mathrm{id}_{X} \\oplus \\Delta_{X}\\right)\\right) \\oplus \\mathrm{id}_{X} \\oplus \\varepsilon_{X}\\right)\\right) \\cdot \\left(\\varepsilon_{X} \\oplus \\mathrm{id}_{X \\oplus X \\oplus X}\\right)\\right)\\right)\\right)\\right)\\right) \\oplus \\mathrm{id}_{X \\oplus X \\oplus X \\oplus X}\\right) \\cdot \\left(\\mathrm{id}_{X \\oplus X \\oplus X \\oplus X} \\oplus \\left(\\left(\\left(\\left(\\left(\\left(\\left(\\sigma_{X,X} \\oplus \\left(\\square_{Z} \\cdot \\mathrm{lap}\\right) \\oplus \\mathrm{id}_{X}\\right) \\cdot \\left(\\mathrm{id}_{X} \\oplus \\varepsilon_{X} \\oplus \\left(\\Delta_{X} \\cdot \\left(\\mathrm{id}_{X} \\oplus \\Delta_{X}\\right)\\right) \\oplus \\mathrm{id}_{X} \\oplus \\varepsilon_{X}\\right)\\right) \\cdot \\left(\\varepsilon_{X} \\oplus \\mathrm{id}_{X \\oplus X \\oplus X}\\right)\\right) \\oplus \\mathrm{id}_{X}\\right) \\cdot \\left(\\mathrm{id}_{X} \\oplus \\left(\\left(\\left(\\sigma_{X,X} \\oplus \\left(\\square_{Z} \\cdot \\mathrm{lap}\\right) \\oplus \\mathrm{id}_{X}\\right) \\cdot \\left(\\mathrm{id}_{X} \\oplus \\varepsilon_{X} \\oplus \\left(\\Delta_{X} \\cdot \\left(\\mathrm{id}_{X} \\oplus \\Delta_{X}\\right)\\right) \\oplus \\mathrm{id}_{X} \\oplus \\varepsilon_{X}\\right)\\right) \\cdot \\left(\\varepsilon_{X} \\oplus \\mathrm{id}_{X \\oplus X \\oplus X}\\right)\\right)\\right)\\right) \\oplus \\mathrm{id}_{X \\oplus X}\\right) \\cdot \\left(\\mathrm{id}_{X \\oplus X} \\oplus \\left(\\left(\\left(\\left(\\left(\\sigma_{X,X} \\oplus \\left(\\square_{Z} \\cdot \\mathrm{lap}\\right) \\oplus \\mathrm{id}_{X}\\right) \\cdot \\left(\\mathrm{id}_{X} \\oplus \\varepsilon_{X} \\oplus \\left(\\Delta_{X} \\cdot \\left(\\mathrm{id}_{X} \\oplus \\Delta_{X}\\right)\\right) \\oplus \\mathrm{id}_{X} \\oplus \\varepsilon_{X}\\right)\\right) \\cdot \\left(\\varepsilon_{X} \\oplus \\mathrm{id}_{X \\oplus X \\oplus X}\\right)\\right) \\oplus \\mathrm{id}_{X}\\right) \\cdot \\left(\\mathrm{id}_{X} \\oplus \\left(\\left(\\left(\\sigma_{X,X} \\oplus \\left(\\square_{Z} \\cdot \\mathrm{lap}\\right) \\oplus \\mathrm{id}_{X}\\right) \\cdot \\left(\\mathrm{id}_{X} \\oplus \\varepsilon_{X} \\oplus \\left(\\Delta_{X} \\cdot \\left(\\mathrm{id}_{X} \\oplus \\Delta_{X}\\right)\\right) \\oplus \\mathrm{id}_{X} \\oplus \\varepsilon_{X}\\right)\\right) \\cdot \\left(\\varepsilon_{X} \\oplus \\mathrm{id}_{X \\oplus X \\oplus X}\\right)\\right)\\right)\\right)\\right)\\right)\\right)\\right) \\oplus \\mathrm{id}_{X \\oplus X \\oplus X \\oplus X \\oplus X \\oplus X \\oplus X \\oplus X}\\right) \\cdot \\left(\\mathrm{id}_{X \\oplus X \\oplus X \\oplus X \\oplus X \\oplus X \\oplus X \\oplus X} \\oplus \\left(\\left(\\left(\\left(\\left(\\left(\\left(\\left(\\left(\\sigma_{X,X} \\oplus \\left(\\square_{Z} \\cdot \\mathrm{lap}\\right) \\oplus \\mathrm{id}_{X}\\right) \\cdot \\left(\\mathrm{id}_{X} \\oplus \\varepsilon_{X} \\oplus \\left(\\Delta_{X} \\cdot \\left(\\mathrm{id}_{X} \\oplus \\Delta_{X}\\right)\\right) \\oplus \\mathrm{id}_{X} \\oplus \\varepsilon_{X}\\right)\\right) \\cdot \\left(\\varepsilon_{X} \\oplus \\mathrm{id}_{X \\oplus X \\oplus X}\\right)\\right) \\oplus \\mathrm{id}_{X}\\right) \\cdot \\left(\\mathrm{id}_{X} \\oplus \\left(\\left(\\left(\\sigma_{X,X} \\oplus \\left(\\square_{Z} \\cdot \\mathrm{lap}\\right) \\oplus \\mathrm{id}_{X}\\right) \\cdot \\left(\\mathrm{id}_{X} \\oplus \\varepsilon_{X} \\oplus \\left(\\Delta_{X} \\cdot \\left(\\mathrm{id}_{X} \\oplus \\Delta_{X}\\right)\\right) \\oplus \\mathrm{id}_{X} \\oplus \\varepsilon_{X}\\right)\\right) \\cdot \\left(\\varepsilon_{X} \\oplus \\mathrm{id}_{X \\oplus X \\oplus X}\\right)\\right)\\right)\\right) \\oplus \\mathrm{id}_{X \\oplus X}\\right) \\cdot \\left(\\mathrm{id}_{X \\oplus X} \\oplus \\left(\\left(\\left(\\left(\\left(\\sigma_{X,X} \\oplus \\left(\\square_{Z} \\cdot \\mathrm{lap}\\right) \\oplus \\mathrm{id}_{X}\\right) \\cdot \\left(\\mathrm{id}_{X} \\oplus \\varepsilon_{X} \\oplus \\left(\\Delta_{X} \\cdot \\left(\\mathrm{id}_{X} \\oplus \\Delta_{X}\\right)\\right) \\oplus \\mathrm{id}_{X} \\oplus \\varepsilon_{X}\\right)\\right) \\cdot \\left(\\varepsilon_{X} \\oplus \\mathrm{id}_{X \\oplus X \\oplus X}\\right)\\right) \\oplus \\mathrm{id}_{X}\\right) \\cdot \\left(\\mathrm{id}_{X} \\oplus \\left(\\left(\\left(\\sigma_{X,X} \\oplus \\left(\\square_{Z} \\cdot \\mathrm{lap}\\right) \\oplus \\mathrm{id}_{X}\\right) \\cdot \\left(\\mathrm{id}_{X} \\oplus \\varepsilon_{X} \\oplus \\left(\\Delta_{X} \\cdot \\left(\\mathrm{id}_{X} \\oplus \\Delta_{X}\\right)\\right) \\oplus \\mathrm{id}_{X} \\oplus \\varepsilon_{X}\\right)\\right) \\cdot \\left(\\varepsilon_{X} \\oplus \\mathrm{id}_{X \\oplus X \\oplus X}\\right)\\right)\\right)\\right)\\right)\\right) \\oplus \\mathrm{id}_{X \\oplus X \\oplus X \\oplus X}\\right) \\cdot \\left(\\mathrm{id}_{X \\oplus X \\oplus X \\oplus X} \\oplus \\left(\\left(\\left(\\left(\\left(\\left(\\left(\\sigma_{X,X} \\oplus \\left(\\square_{Z} \\cdot \\mathrm{lap}\\right) \\oplus \\mathrm{id}_{X}\\right) \\cdot \\left(\\mathrm{id}_{X} \\oplus \\varepsilon_{X} \\oplus \\left(\\Delta_{X} \\cdot \\left(\\mathrm{id}_{X} \\oplus \\Delta_{X}\\right)\\right) \\oplus \\mathrm{id}_{X} \\oplus \\varepsilon_{X}\\right)\\right) \\cdot \\left(\\varepsilon_{X} \\oplus \\mathrm{id}_{X \\oplus X \\oplus X}\\right)\\right) \\oplus \\mathrm{id}_{X}\\right) \\cdot \\left(\\mathrm{id}_{X} \\oplus \\left(\\left(\\left(\\sigma_{X,X} \\oplus \\left(\\square_{Z} \\cdot \\mathrm{lap}\\right) \\oplus \\mathrm{id}_{X}\\right) \\cdot \\left(\\mathrm{id}_{X} \\oplus \\varepsilon_{X} \\oplus \\left(\\Delta_{X} \\cdot \\left(\\mathrm{id}_{X} \\oplus \\Delta_{X}\\right)\\right) \\oplus \\mathrm{id}_{X} \\oplus \\varepsilon_{X}\\right)\\right) \\cdot \\left(\\varepsilon_{X} \\oplus \\mathrm{id}_{X \\oplus X \\oplus X}\\right)\\right)\\right)\\right) \\oplus \\mathrm{id}_{X \\oplus X}\\right) \\cdot \\left(\\mathrm{id}_{X \\oplus X} \\oplus \\left(\\left(\\left(\\left(\\left(\\sigma_{X,X} \\oplus \\left(\\square_{Z} \\cdot \\mathrm{lap}\\right) \\oplus \\mathrm{id}_{X}\\right) \\cdot \\left(\\mathrm{id}_{X} \\oplus \\varepsilon_{X} \\oplus \\left(\\Delta_{X} \\cdot \\left(\\mathrm{id}_{X} \\oplus \\Delta_{X}\\right)\\right) \\oplus \\mathrm{id}_{X} \\oplus \\varepsilon_{X}\\right)\\right) \\cdot \\left(\\varepsilon_{X} \\oplus \\mathrm{id}_{X \\oplus X \\oplus X}\\right)\\right) \\oplus \\mathrm{id}_{X}\\right) \\cdot \\left(\\mathrm{id}_{X} \\oplus \\left(\\left(\\left(\\sigma_{X,X} \\oplus \\left(\\square_{Z} \\cdot \\mathrm{lap}\\right) \\oplus \\mathrm{id}_{X}\\right) \\cdot \\left(\\mathrm{id}_{X} \\oplus \\varepsilon_{X} \\oplus \\left(\\Delta_{X} \\cdot \\left(\\mathrm{id}_{X} \\oplus \\Delta_{X}\\right)\\right) \\oplus \\mathrm{id}_{X} \\oplus \\varepsilon_{X}\\right)\\right) \\cdot \\left(\\varepsilon_{X} \\oplus \\mathrm{id}_{X \\oplus X \\oplus X}\\right)\\right)\\right)\\right)\\right)\\right)\\right)\\right)\\right)\\right) \\oplus \\mathrm{id}_{X \\oplus X \\oplus X \\oplus X \\oplus X \\oplus X \\oplus X \\oplus X \\oplus X \\oplus X \\oplus X \\oplus X \\oplus X \\oplus X \\oplus X \\oplus X}\\right) \\cdot \\left(\\mathrm{id}_{X \\oplus X \\oplus X \\oplus X \\oplus X \\oplus X \\oplus X \\oplus X \\oplus X \\oplus X \\oplus X \\oplus X \\oplus X \\oplus X \\oplus X \\oplus X} \\oplus \\left(\\left(\\left(\\left(\\left(\\left(\\left(\\left(\\left(\\left(\\left(\\sigma_{X,X} \\oplus \\left(\\square_{Z} \\cdot \\mathrm{lap}\\right) \\oplus \\mathrm{id}_{X}\\right) \\cdot \\left(\\mathrm{id}_{X} \\oplus \\varepsilon_{X} \\oplus \\left(\\Delta_{X} \\cdot \\left(\\mathrm{id}_{X} \\oplus \\Delta_{X}\\right)\\right) \\oplus \\mathrm{id}_{X} \\oplus \\varepsilon_{X}\\right)\\right) \\cdot \\left(\\varepsilon_{X} \\oplus \\mathrm{id}_{X \\oplus X \\oplus X}\\right)\\right) \\oplus \\mathrm{id}_{X}\\right) \\cdot \\left(\\mathrm{id}_{X} \\oplus \\left(\\left(\\left(\\sigma_{X,X} \\oplus \\left(\\square_{Z} \\cdot \\mathrm{lap}\\right) \\oplus \\mathrm{id}_{X}\\right) \\cdot \\left(\\mathrm{id}_{X} \\oplus \\varepsilon_{X} \\oplus \\left(\\Delta_{X} \\cdot \\left(\\mathrm{id}_{X} \\oplus \\Delta_{X}\\right)\\right) \\oplus \\mathrm{id}_{X} \\oplus \\varepsilon_{X}\\right)\\right) \\cdot \\left(\\varepsilon_{X} \\oplus \\mathrm{id}_{X \\oplus X \\oplus X}\\right)\\right)\\right)\\right) \\oplus \\mathrm{id}_{X \\oplus X}\\right) \\cdot \\left(\\mathrm{id}_{X \\oplus X} \\oplus \\left(\\left(\\left(\\left(\\left(\\sigma_{X,X} \\oplus \\left(\\square_{Z} \\cdot \\mathrm{lap}\\right) \\oplus \\mathrm{id}_{X}\\right) \\cdot \\left(\\mathrm{id}_{X} \\oplus \\varepsilon_{X} \\oplus \\left(\\Delta_{X} \\cdot \\left(\\mathrm{id}_{X} \\oplus \\Delta_{X}\\right)\\right) \\oplus \\mathrm{id}_{X} \\oplus \\varepsilon_{X}\\right)\\right) \\cdot \\left(\\varepsilon_{X} \\oplus \\mathrm{id}_{X \\oplus X \\oplus X}\\right)\\right) \\oplus \\mathrm{id}_{X}\\right) \\cdot \\left(\\mathrm{id}_{X} \\oplus \\left(\\left(\\left(\\sigma_{X,X} \\oplus \\left(\\square_{Z} \\cdot \\mathrm{lap}\\right) \\oplus \\mathrm{id}_{X}\\right) \\cdot \\left(\\mathrm{id}_{X} \\oplus \\varepsilon_{X} \\oplus \\left(\\Delta_{X} \\cdot \\left(\\mathrm{id}_{X} \\oplus \\Delta_{X}\\right)\\right) \\oplus \\mathrm{id}_{X} \\oplus \\varepsilon_{X}\\right)\\right) \\cdot \\left(\\varepsilon_{X} \\oplus \\mathrm{id}_{X \\oplus X \\oplus X}\\right)\\right)\\right)\\right)\\right)\\right) \\oplus \\mathrm{id}_{X \\oplus X \\oplus X \\oplus X}\\right) \\cdot \\left(\\mathrm{id}_{X \\oplus X \\oplus X \\oplus X} \\oplus \\left(\\left(\\left(\\left(\\left(\\left(\\left(\\sigma_{X,X} \\oplus \\left(\\square_{Z} \\cdot \\mathrm{lap}\\right) \\oplus \\mathrm{id}_{X}\\right) \\cdot \\left(\\mathrm{id}_{X} \\oplus \\varepsilon_{X} \\oplus \\left(\\Delta_{X} \\cdot \\left(\\mathrm{id}_{X} \\oplus \\Delta_{X}\\right)\\right) \\oplus \\mathrm{id}_{X} \\oplus \\varepsilon_{X}\\right)\\right) \\cdot \\left(\\varepsilon_{X} \\oplus \\mathrm{id}_{X \\oplus X \\oplus X}\\right)\\right) \\oplus \\mathrm{id}_{X}\\right) \\cdot \\left(\\mathrm{id}_{X} \\oplus \\left(\\left(\\left(\\sigma_{X,X} \\oplus \\left(\\square_{Z} \\cdot \\mathrm{lap}\\right) \\oplus \\mathrm{id}_{X}\\right) \\cdot \\left(\\mathrm{id}_{X} \\oplus \\varepsilon_{X} \\oplus \\left(\\Delta_{X} \\cdot \\left(\\mathrm{id}_{X} \\oplus \\Delta_{X}\\right)\\right) \\oplus \\mathrm{id}_{X} \\oplus \\varepsilon_{X}\\right)\\right) \\cdot \\left(\\varepsilon_{X} \\oplus \\mathrm{id}_{X \\oplus X \\oplus X}\\right)\\right)\\right)\\right) \\oplus \\mathrm{id}_{X \\oplus X}\\right) \\cdot \\left(\\mathrm{id}_{X \\oplus X} \\oplus \\left(\\left(\\left(\\left(\\left(\\sigma_{X,X} \\oplus \\left(\\square_{Z} \\cdot \\mathrm{lap}\\right) \\oplus \\mathrm{id}_{X}\\right) \\cdot \\left(\\mathrm{id}_{X} \\oplus \\varepsilon_{X} \\oplus \\left(\\Delta_{X} \\cdot \\left(\\mathrm{id}_{X} \\oplus \\Delta_{X}\\right)\\right) \\oplus \\mathrm{id}_{X} \\oplus \\varepsilon_{X}\\right)\\right) \\cdot \\left(\\varepsilon_{X} \\oplus \\mathrm{id}_{X \\oplus X \\oplus X}\\right)\\right) \\oplus \\mathrm{id}_{X}\\right) \\cdot \\left(\\mathrm{id}_{X} \\oplus \\left(\\left(\\left(\\sigma_{X,X} \\oplus \\left(\\square_{Z} \\cdot \\mathrm{lap}\\right) \\oplus \\mathrm{id}_{X}\\right) \\cdot \\left(\\mathrm{id}_{X} \\oplus \\varepsilon_{X} \\oplus \\left(\\Delta_{X} \\cdot \\left(\\mathrm{id}_{X} \\oplus \\Delta_{X}\\right)\\right) \\oplus \\mathrm{id}_{X} \\oplus \\varepsilon_{X}\\right)\\right) \\cdot \\left(\\varepsilon_{X} \\oplus \\mathrm{id}_{X \\oplus X \\oplus X}\\right)\\right)\\right)\\right)\\right)\\right)\\right)\\right) \\oplus \\mathrm{id}_{X \\oplus X \\oplus X \\oplus X \\oplus X \\oplus X \\oplus X \\oplus X}\\right) \\cdot \\left(\\mathrm{id}_{X \\oplus X \\oplus X \\oplus X \\oplus X \\oplus X \\oplus X \\oplus X} \\oplus \\left(\\left(\\left(\\left(\\left(\\left(\\left(\\left(\\left(\\sigma_{X,X} \\oplus \\left(\\square_{Z} \\cdot \\mathrm{lap}\\right) \\oplus \\mathrm{id}_{X}\\right) \\cdot \\left(\\mathrm{id}_{X} \\oplus \\varepsilon_{X} \\oplus \\left(\\Delta_{X} \\cdot \\left(\\mathrm{id}_{X} \\oplus \\Delta_{X}\\right)\\right) \\oplus \\mathrm{id}_{X} \\oplus \\varepsilon_{X}\\right)\\right) \\cdot \\left(\\varepsilon_{X} \\oplus \\mathrm{id}_{X \\oplus X \\oplus X}\\right)\\right) \\oplus \\mathrm{id}_{X}\\right) \\cdot \\left(\\mathrm{id}_{X} \\oplus \\left(\\left(\\left(\\sigma_{X,X} \\oplus \\left(\\square_{Z} \\cdot \\mathrm{lap}\\right) \\oplus \\mathrm{id}_{X}\\right) \\cdot \\left(\\mathrm{id}_{X} \\oplus \\varepsilon_{X} \\oplus \\left(\\Delta_{X} \\cdot \\left(\\mathrm{id}_{X} \\oplus \\Delta_{X}\\right)\\right) \\oplus \\mathrm{id}_{X} \\oplus \\varepsilon_{X}\\right)\\right) \\cdot \\left(\\varepsilon_{X} \\oplus \\mathrm{id}_{X \\oplus X \\oplus X}\\right)\\right)\\right)\\right) \\oplus \\mathrm{id}_{X \\oplus X}\\right) \\cdot \\left(\\mathrm{id}_{X \\oplus X} \\oplus \\left(\\left(\\left(\\left(\\left(\\sigma_{X,X} \\oplus \\left(\\square_{Z} \\cdot \\mathrm{lap}\\right) \\oplus \\mathrm{id}_{X}\\right) \\cdot \\left(\\mathrm{id}_{X} \\oplus \\varepsilon_{X} \\oplus \\left(\\Delta_{X} \\cdot \\left(\\mathrm{id}_{X} \\oplus \\Delta_{X}\\right)\\right) \\oplus \\mathrm{id}_{X} \\oplus \\varepsilon_{X}\\right)\\right) \\cdot \\left(\\varepsilon_{X} \\oplus \\mathrm{id}_{X \\oplus X \\oplus X}\\right)\\right) \\oplus \\mathrm{id}_{X}\\right) \\cdot \\left(\\mathrm{id}_{X} \\oplus \\left(\\left(\\left(\\sigma_{X,X} \\oplus \\left(\\square_{Z} \\cdot \\mathrm{lap}\\right) \\oplus \\mathrm{id}_{X}\\right) \\cdot \\left(\\mathrm{id}_{X} \\oplus \\varepsilon_{X} \\oplus \\left(\\Delta_{X} \\cdot \\left(\\mathrm{id}_{X} \\oplus \\Delta_{X}\\right)\\right) \\oplus \\mathrm{id}_{X} \\oplus \\varepsilon_{X}\\right)\\right) \\cdot \\left(\\varepsilon_{X} \\oplus \\mathrm{id}_{X \\oplus X \\oplus X}\\right)\\right)\\right)\\right)\\right)\\right) \\oplus \\mathrm{id}_{X \\oplus X \\oplus X \\oplus X}\\right) \\cdot \\left(\\mathrm{id}_{X \\oplus X \\oplus X \\oplus X} \\oplus \\left(\\left(\\left(\\left(\\left(\\left(\\left(\\sigma_{X,X} \\oplus \\left(\\square_{Z} \\cdot \\mathrm{lap}\\right) \\oplus \\mathrm{id}_{X}\\right) \\cdot \\left(\\mathrm{id}_{X} \\oplus \\varepsilon_{X} \\oplus \\left(\\Delta_{X} \\cdot \\left(\\mathrm{id}_{X} \\oplus \\Delta_{X}\\right)\\right) \\oplus \\mathrm{id}_{X} \\oplus \\varepsilon_{X}\\right)\\right) \\cdot \\left(\\varepsilon_{X} \\oplus \\mathrm{id}_{X \\oplus X \\oplus X}\\right)\\right) \\oplus \\mathrm{id}_{X}\\right) \\cdot \\left(\\mathrm{id}_{X} \\oplus \\left(\\left(\\left(\\sigma_{X,X} \\oplus \\left(\\square_{Z} \\cdot \\mathrm{lap}\\right) \\oplus \\mathrm{id}_{X}\\right) \\cdot \\left(\\mathrm{id}_{X} \\oplus \\varepsilon_{X} \\oplus \\left(\\Delta_{X} \\cdot \\left(\\mathrm{id}_{X} \\oplus \\Delta_{X}\\right)\\right) \\oplus \\mathrm{id}_{X} \\oplus \\varepsilon_{X}\\right)\\right) \\cdot \\left(\\varepsilon_{X} \\oplus \\mathrm{id}_{X \\oplus X \\oplus X}\\right)\\right)\\right)\\right) \\oplus \\mathrm{id}_{X \\oplus X}\\right) \\cdot \\left(\\mathrm{id}_{X \\oplus X} \\oplus \\left(\\left(\\left(\\left(\\left(\\sigma_{X,X} \\oplus \\left(\\square_{Z} \\cdot \\mathrm{lap}\\right) \\oplus \\mathrm{id}_{X}\\right) \\cdot \\left(\\mathrm{id}_{X} \\oplus \\varepsilon_{X} \\oplus \\left(\\Delta_{X} \\cdot \\left(\\mathrm{id}_{X} \\oplus \\Delta_{X}\\right)\\right) \\oplus \\mathrm{id}_{X} \\oplus \\varepsilon_{X}\\right)\\right) \\cdot \\left(\\varepsilon_{X} \\oplus \\mathrm{id}_{X \\oplus X \\oplus X}\\right)\\right) \\oplus \\mathrm{id}_{X}\\right) \\cdot \\left(\\mathrm{id}_{X} \\oplus \\left(\\left(\\left(\\sigma_{X,X} \\oplus \\left(\\square_{Z} \\cdot \\mathrm{lap}\\right) \\oplus \\mathrm{id}_{X}\\right) \\cdot \\left(\\mathrm{id}_{X} \\oplus \\varepsilon_{X} \\oplus \\left(\\Delta_{X} \\cdot \\left(\\mathrm{id}_{X} \\oplus \\Delta_{X}\\right)\\right) \\oplus \\mathrm{id}_{X} \\oplus \\varepsilon_{X}\\right)\\right) \\cdot \\left(\\varepsilon_{X} \\oplus \\mathrm{id}_{X \\oplus X \\oplus X}\\right)\\right)\\right)\\right)\\right)\\right)\\right)\\right)\\right)\\right)\\right) : X \\oplus X \\oplus X \\oplus X \\oplus X \\oplus X \\oplus X \\oplus X \\oplus X \\oplus X \\oplus X \\oplus X \\oplus X \\oplus X \\oplus X \\oplus X \\oplus X \\oplus X \\oplus X \\oplus X \\oplus X \\oplus X \\oplus X \\oplus X \\oplus X \\oplus X \\oplus X \\oplus X \\oplus X \\oplus X \\oplus X \\oplus X \\oplus X \\oplus X \\to X \\oplus X \\oplus X \\oplus X \\oplus X \\oplus X \\oplus X \\oplus X \\oplus X \\oplus X \\oplus X \\oplus X \\oplus X \\oplus X \\oplus X \\oplus X \\oplus X \\oplus X \\oplus X \\oplus X \\oplus X \\oplus X \\oplus X \\oplus X \\oplus X \\oplus X \\oplus X \\oplus X \\oplus X \\oplus X \\oplus X \\oplus X \\oplus X \\oplus X$"
      ],
      "text/plain": [
       "compose(oplus(compose(oplus(compose(oplus(compose(oplus(compose(oplus(compose(compose(oplus(swap(X,X),compose(create(Z),lap),id(X)),oplus(id(X),dcounit(X),compose(mcopy(X),oplus(id(X),mcopy(X))),id(X),dcounit(X))),oplus(dcounit(X),id(oplus(X,X,X)))),id(X)),oplus(id(X),compose(compose(oplus(swap(X,X),compose(create(Z),lap),id(X)),oplus(id(X),dcounit(X),compose(mcopy(X),oplus(id(X),mcopy(X))),id(X),dcounit(X))),oplus(dcounit(X),id(oplus(X,X,X)))))),id(oplus(X,X))),oplus(id(oplus(X,X)),compose(oplus(compose(compose(oplus(swap(X,X),compose(create(Z),lap),id(X)),oplus(id(X),dcounit(X),compose(mcopy(X),oplus(id(X),mcopy(X))),id(X),dcounit(X))),oplus(dcounit(X),id(oplus(X,X,X)))),id(X)),oplus(id(X),compose(compose(oplus(swap(X,X),compose(create(Z),lap),id(X)),oplus(id(X),dcounit(X),compose(mcopy(X),oplus(id(X),mcopy(X))),id(X),dcounit(X))),oplus(dcounit(X),id(oplus(X,X,X)))))))),id(oplus(X,X,X,X))),oplus(id(oplus(X,X,X,X)),compose(oplus(compose(oplus(compose(compose(oplus(swap(X,X),compose(create(Z),lap),id(X)),oplus(id(X),dcounit(X),compose(mcopy(X),oplus(id(X),mcopy(X))),id(X),dcounit(X))),oplus(dcounit(X),id(oplus(X,X,X)))),id(X)),oplus(id(X),compose(compose(oplus(swap(X,X),compose(create(Z),lap),id(X)),oplus(id(X),dcounit(X),compose(mcopy(X),oplus(id(X),mcopy(X))),id(X),dcounit(X))),oplus(dcounit(X),id(oplus(X,X,X)))))),id(oplus(X,X))),oplus(id(oplus(X,X)),compose(oplus(compose(compose(oplus(swap(X,X),compose(create(Z),lap),id(X)),oplus(id(X),dcounit(X),compose(mcopy(X),oplus(id(X),mcopy(X))),id(X),dcounit(X))),oplus(dcounit(X),id(oplus(X,X,X)))),id(X)),oplus(id(X),compose(compose(oplus(swap(X,X),compose(create(Z),lap),id(X)),oplus(id(X),dcounit(X),compose(mcopy(X),oplus(id(X),mcopy(X))),id(X),dcounit(X))),oplus(dcounit(X),id(oplus(X,X,X)))))))))),id(oplus(X,X,X,X,X,X,X,X))),oplus(id(oplus(X,X,X,X,X,X,X,X)),compose(oplus(compose(oplus(compose(oplus(compose(compose(oplus(swap(X,X),compose(create(Z),lap),id(X)),oplus(id(X),dcounit(X),compose(mcopy(X),oplus(id(X),mcopy(X))),id(X),dcounit(X))),oplus(dcounit(X),id(oplus(X,X,X)))),id(X)),oplus(id(X),compose(compose(oplus(swap(X,X),compose(create(Z),lap),id(X)),oplus(id(X),dcounit(X),compose(mcopy(X),oplus(id(X),mcopy(X))),id(X),dcounit(X))),oplus(dcounit(X),id(oplus(X,X,X)))))),id(oplus(X,X))),oplus(id(oplus(X,X)),compose(oplus(compose(compose(oplus(swap(X,X),compose(create(Z),lap),id(X)),oplus(id(X),dcounit(X),compose(mcopy(X),oplus(id(X),mcopy(X))),id(X),dcounit(X))),oplus(dcounit(X),id(oplus(X,X,X)))),id(X)),oplus(id(X),compose(compose(oplus(swap(X,X),compose(create(Z),lap),id(X)),oplus(id(X),dcounit(X),compose(mcopy(X),oplus(id(X),mcopy(X))),id(X),dcounit(X))),oplus(dcounit(X),id(oplus(X,X,X)))))))),id(oplus(X,X,X,X))),oplus(id(oplus(X,X,X,X)),compose(oplus(compose(oplus(compose(compose(oplus(swap(X,X),compose(create(Z),lap),id(X)),oplus(id(X),dcounit(X),compose(mcopy(X),oplus(id(X),mcopy(X))),id(X),dcounit(X))),oplus(dcounit(X),id(oplus(X,X,X)))),id(X)),oplus(id(X),compose(compose(oplus(swap(X,X),compose(create(Z),lap),id(X)),oplus(id(X),dcounit(X),compose(mcopy(X),oplus(id(X),mcopy(X))),id(X),dcounit(X))),oplus(dcounit(X),id(oplus(X,X,X)))))),id(oplus(X,X))),oplus(id(oplus(X,X)),compose(oplus(compose(compose(oplus(swap(X,X),compose(create(Z),lap),id(X)),oplus(id(X),dcounit(X),compose(mcopy(X),oplus(id(X),mcopy(X))),id(X),dcounit(X))),oplus(dcounit(X),id(oplus(X,X,X)))),id(X)),oplus(id(X),compose(compose(oplus(swap(X,X),compose(create(Z),lap),id(X)),oplus(id(X),dcounit(X),compose(mcopy(X),oplus(id(X),mcopy(X))),id(X),dcounit(X))),oplus(dcounit(X),id(oplus(X,X,X)))))))))))),id(oplus(X,X,X,X,X,X,X,X,X,X,X,X,X,X,X,X))),oplus(id(oplus(X,X,X,X,X,X,X,X,X,X,X,X,X,X,X,X)),compose(oplus(compose(oplus(compose(oplus(compose(oplus(compose(compose(oplus(swap(X,X),compose(create(Z),lap),id(X)),oplus(id(X),dcounit(X),compose(mcopy(X),oplus(id(X),mcopy(X))),id(X),dcounit(X))),oplus(dcounit(X),id(oplus(X,X,X)))),id(X)),oplus(id(X),compose(compose(oplus(swap(X,X),compose(create(Z),lap),id(X)),oplus(id(X),dcounit(X),compose(mcopy(X),oplus(id(X),mcopy(X))),id(X),dcounit(X))),oplus(dcounit(X),id(oplus(X,X,X)))))),id(oplus(X,X))),oplus(id(oplus(X,X)),compose(oplus(compose(compose(oplus(swap(X,X),compose(create(Z),lap),id(X)),oplus(id(X),dcounit(X),compose(mcopy(X),oplus(id(X),mcopy(X))),id(X),dcounit(X))),oplus(dcounit(X),id(oplus(X,X,X)))),id(X)),oplus(id(X),compose(compose(oplus(swap(X,X),compose(create(Z),lap),id(X)),oplus(id(X),dcounit(X),compose(mcopy(X),oplus(id(X),mcopy(X))),id(X),dcounit(X))),oplus(dcounit(X),id(oplus(X,X,X)))))))),id(oplus(X,X,X,X))),oplus(id(oplus(X,X,X,X)),compose(oplus(compose(oplus(compose(compose(oplus(swap(X,X),compose(create(Z),lap),id(X)),oplus(id(X),dcounit(X),compose(mcopy(X),oplus(id(X),mcopy(X))),id(X),dcounit(X))),oplus(dcounit(X),id(oplus(X,X,X)))),id(X)),oplus(id(X),compose(compose(oplus(swap(X,X),compose(create(Z),lap),id(X)),oplus(id(X),dcounit(X),compose(mcopy(X),oplus(id(X),mcopy(X))),id(X),dcounit(X))),oplus(dcounit(X),id(oplus(X,X,X)))))),id(oplus(X,X))),oplus(id(oplus(X,X)),compose(oplus(compose(compose(oplus(swap(X,X),compose(create(Z),lap),id(X)),oplus(id(X),dcounit(X),compose(mcopy(X),oplus(id(X),mcopy(X))),id(X),dcounit(X))),oplus(dcounit(X),id(oplus(X,X,X)))),id(X)),oplus(id(X),compose(compose(oplus(swap(X,X),compose(create(Z),lap),id(X)),oplus(id(X),dcounit(X),compose(mcopy(X),oplus(id(X),mcopy(X))),id(X),dcounit(X))),oplus(dcounit(X),id(oplus(X,X,X)))))))))),id(oplus(X,X,X,X,X,X,X,X))),oplus(id(oplus(X,X,X,X,X,X,X,X)),compose(oplus(compose(oplus(compose(oplus(compose(compose(oplus(swap(X,X),compose(create(Z),lap),id(X)),oplus(id(X),dcounit(X),compose(mcopy(X),oplus(id(X),mcopy(X))),id(X),dcounit(X))),oplus(dcounit(X),id(oplus(X,X,X)))),id(X)),oplus(id(X),compose(compose(oplus(swap(X,X),compose(create(Z),lap),id(X)),oplus(id(X),dcounit(X),compose(mcopy(X),oplus(id(X),mcopy(X))),id(X),dcounit(X))),oplus(dcounit(X),id(oplus(X,X,X)))))),id(oplus(X,X))),oplus(id(oplus(X,X)),compose(oplus(compose(compose(oplus(swap(X,X),compose(create(Z),lap),id(X)),oplus(id(X),dcounit(X),compose(mcopy(X),oplus(id(X),mcopy(X))),id(X),dcounit(X))),oplus(dcounit(X),id(oplus(X,X,X)))),id(X)),oplus(id(X),compose(compose(oplus(swap(X,X),compose(create(Z),lap),id(X)),oplus(id(X),dcounit(X),compose(mcopy(X),oplus(id(X),mcopy(X))),id(X),dcounit(X))),oplus(dcounit(X),id(oplus(X,X,X)))))))),id(oplus(X,X,X,X))),oplus(id(oplus(X,X,X,X)),compose(oplus(compose(oplus(compose(compose(oplus(swap(X,X),compose(create(Z),lap),id(X)),oplus(id(X),dcounit(X),compose(mcopy(X),oplus(id(X),mcopy(X))),id(X),dcounit(X))),oplus(dcounit(X),id(oplus(X,X,X)))),id(X)),oplus(id(X),compose(compose(oplus(swap(X,X),compose(create(Z),lap),id(X)),oplus(id(X),dcounit(X),compose(mcopy(X),oplus(id(X),mcopy(X))),id(X),dcounit(X))),oplus(dcounit(X),id(oplus(X,X,X)))))),id(oplus(X,X))),oplus(id(oplus(X,X)),compose(oplus(compose(compose(oplus(swap(X,X),compose(create(Z),lap),id(X)),oplus(id(X),dcounit(X),compose(mcopy(X),oplus(id(X),mcopy(X))),id(X),dcounit(X))),oplus(dcounit(X),id(oplus(X,X,X)))),id(X)),oplus(id(X),compose(compose(oplus(swap(X,X),compose(create(Z),lap),id(X)),oplus(id(X),dcounit(X),compose(mcopy(X),oplus(id(X),mcopy(X))),id(X),dcounit(X))),oplus(dcounit(X),id(oplus(X,X,X))))))))))))))"
      ]
     },
     "execution_count": 147,
     "metadata": {},
     "output_type": "execute_result"
    }
   ],
   "source": [
    "lap_2 = time_compose(t_fit_laplacian, t_fit_laplacian)\n",
    "lap_4 = time_compose(lap_2, lap_2)\n",
    "lap_8 = time_compose(lap_4, lap_4)\n",
    "lap_16 = time_compose(lap_8, lap_8)\n",
    "lap_32 = time_compose(lap_16, lap_16)"
   ]
  },
  {
   "cell_type": "code",
   "execution_count": 148,
   "metadata": {},
   "outputs": [
    {
     "data": {
      "text/plain": [
       "LinRel{Array{Float64,2},Array{Float64,2}}([-0.0031507761978481993 -0.0034663164636618295 … 0.003971597887087706 0.0; -0.003604960196971153 -0.0034670597858942223 … 0.004000244324280633 0.0; … ; 5.509594477813969e-6 0.00011348625426585494 … -0.00015555281663247713 0.0; 9.979323062573342e-5 -1.2824222764302753e-5 … 0.04025220450487281 0.0], [-0.003124422345585199 -0.0034323861104923544 … 0.003931969869182872 0.0; -0.003613459464871035 -0.003471736904038563 … 0.0039011379478811566 0.0; … ; 3.98839205060918e-6 0.00011662896941500588 … 0.00023374127280073023 0.0; 9.7875602496313e-5 -1.1429346147211753e-5 … 0.03946523717411842 0.0])"
      ]
     },
     "execution_count": 148,
     "metadata": {},
     "output_type": "execute_result"
    }
   ],
   "source": [
    "A = F((cup⊕id(reduce(⊕,[X for i in 1:32])))⋅lap_32⋅(id(reduce(⊕,[X for i in 1:32]))⊕cap))"
   ]
  },
  {
   "cell_type": "code",
   "execution_count": 149,
   "metadata": {},
   "outputs": [
    {
     "data": {
      "text/plain": [
       "LinRel{Array{Float64,2},Array{Float64,2}}([0.005118110137673431 0.0 … 0.002161971475436075 0.0; 0.0019408786520684607 0.0 … 0.0011888309731945435 0.0; … ; -0.0035496322752911046 0.0 … 0.004053608594791128 0.0; 0.01021372827687737 0.0 … 0.009072419264688327 0.0], [0.004796444443825432 0.0 … 0.0020412482669346097 0.0; 0.0017041875542658362 0.0 … 0.0011332159972603608 0.0; … ; -0.0031311578685024252 0.0 … 0.004393056408013603 0.0; 0.009310953056992588 0.0 … 0.008544232186615689 0.0])"
      ]
     },
     "execution_count": 149,
     "metadata": {},
     "output_type": "execute_result"
    }
   ],
   "source": [
    "A2 = A⋅A\n",
    "A4 = A2⋅A2"
   ]
  },
  {
   "cell_type": "code",
   "execution_count": 150,
   "metadata": {},
   "outputs": [
    {
     "data": {
      "text/plain": [
       "32×168 Array{Float64,2}:\n",
       "  0.00511811   0.0  -0.00259323   …   0.0143515     0.00216197   0.0\n",
       "  0.00194088   0.0  -0.00506995       0.0121096     0.00118883   0.0\n",
       " -0.00777705   0.0   0.000668223      0.00243293   -0.00122985   0.0\n",
       "  0.0046487    0.0   0.00787219      -0.00784515   -0.001023     0.0\n",
       "  0.00528303   0.0  -0.00157524      -0.000789944  -0.00368431   0.0\n",
       " -0.000660236  0.0  -0.000527017  …  -0.00489925   -0.00136969   0.0\n",
       "  0.00202699   0.0   0.00311305      -0.00199669   -0.00411444   0.0\n",
       "  0.00476178   0.0  -0.00239601       0.0100628    -0.00120001   0.0\n",
       " -0.000665168  0.0  -0.002096         0.00130693   -0.00260327   0.0\n",
       " -0.000784032  0.0   0.00162583       0.000845371   0.00060397   0.0\n",
       " -0.00202878   0.0   0.000316386  …  -0.00232151   -0.00197497   0.0\n",
       "  0.00262936   0.0  -0.00320681      -0.00114255    0.00252389   0.0\n",
       " -0.00332099   0.0  -0.00145781       0.000163308   0.00115497   0.0\n",
       "  ⋮                               ⋱   ⋮                             \n",
       "  0.019982     0.0   0.00568172   …  -0.00537497    0.0322945    0.0\n",
       " -0.00889919   0.0   0.0105512       -0.00169373   -0.0160232    0.0\n",
       "  0.00660483   0.0  -0.0143955        0.00306818   -0.00616762   0.0\n",
       "  0.00355874   0.0   0.0142689       -0.00560362   -0.000616726  0.0\n",
       " -0.0178601    0.0   0.00642703       0.00180987   -6.65254e-5   0.0\n",
       "  0.00853566   0.0   0.00102064   …  -0.000977231  -0.00921098   0.0\n",
       "  0.00407507   0.0   0.010112         0.000681681  -0.00477574   0.0\n",
       " -0.00141931   0.0  -0.0033102       -0.000284239   0.00352389   0.0\n",
       "  0.00336454   0.0   4.8102e-5       -0.000854747  -0.00354472   0.0\n",
       " -0.00603328   0.0  -0.00288225       0.00130512    0.00868301   0.0\n",
       " -0.00354963   0.0  -0.00746987   …  -0.00245383    0.00405361   0.0\n",
       "  0.0102137    0.0   0.00688516       0.0134509     0.00907242   0.0"
      ]
     },
     "execution_count": 150,
     "metadata": {},
     "output_type": "execute_result"
    }
   ],
   "source": [
    "A4.A"
   ]
  },
  {
   "cell_type": "code",
   "execution_count": 151,
   "metadata": {},
   "outputs": [],
   "source": [
    "sol = Array{Array{Float64,1},1}()\n",
    "a_cur = [0;0;0;0;0;0;0;0;0;0;0;0;0;0;0;1;1;0;0;0;0;0;0;0;0;0;0;0;0;0;0;0]\n",
    "for i in 1:100\n",
    "    b = A4.A\\a_cur\n",
    "    a_cur = A4.B*b\n",
    "    push!(sol, a_cur)\n",
    "end"
   ]
  },
  {
   "cell_type": "code",
   "execution_count": 152,
   "metadata": {},
   "outputs": [
    {
     "data": {
      "image/svg+xml": [
       "<?xml version=\"1.0\" encoding=\"utf-8\"?>\n",
       "<svg xmlns=\"http://www.w3.org/2000/svg\" xmlns:xlink=\"http://www.w3.org/1999/xlink\" width=\"600\" height=\"400\" viewBox=\"0 0 2400 1600\">\n",
       "<defs>\n",
       "  <clipPath id=\"clip430\">\n",
       "    <rect x=\"0\" y=\"0\" width=\"2400\" height=\"1600\"/>\n",
       "  </clipPath>\n",
       "</defs>\n",
       "<path clip-path=\"url(#clip430)\" d=\"\n",
       "M0 1600 L2400 1600 L2400 0 L0 0  Z\n",
       "  \" fill=\"#ffffff\" fill-rule=\"evenodd\" fill-opacity=\"1\"/>\n",
       "<defs>\n",
       "  <clipPath id=\"clip431\">\n",
       "    <rect x=\"480\" y=\"0\" width=\"1681\" height=\"1600\"/>\n",
       "  </clipPath>\n",
       "</defs>\n",
       "<path clip-path=\"url(#clip430)\" d=\"\n",
       "M161.598 1486.45 L2112.76 1486.45 L2112.76 47.2441 L161.598 47.2441  Z\n",
       "  \" fill=\"#ffffff\" fill-rule=\"evenodd\" fill-opacity=\"1\"/>\n",
       "<defs>\n",
       "  <clipPath id=\"clip432\">\n",
       "    <rect x=\"161\" y=\"47\" width=\"1952\" height=\"1440\"/>\n",
       "  </clipPath>\n",
       "</defs>\n",
       "<polyline clip-path=\"url(#clip432)\" style=\"stroke:#000000; stroke-width:2; stroke-opacity:0.1; fill:none\" points=\"\n",
       "  435.98,1486.45 435.98,47.2441 \n",
       "  \"/>\n",
       "<polyline clip-path=\"url(#clip432)\" style=\"stroke:#000000; stroke-width:2; stroke-opacity:0.1; fill:none\" points=\"\n",
       "  740.848,1486.45 740.848,47.2441 \n",
       "  \"/>\n",
       "<polyline clip-path=\"url(#clip432)\" style=\"stroke:#000000; stroke-width:2; stroke-opacity:0.1; fill:none\" points=\"\n",
       "  1045.72,1486.45 1045.72,47.2441 \n",
       "  \"/>\n",
       "<polyline clip-path=\"url(#clip432)\" style=\"stroke:#000000; stroke-width:2; stroke-opacity:0.1; fill:none\" points=\"\n",
       "  1350.58,1486.45 1350.58,47.2441 \n",
       "  \"/>\n",
       "<polyline clip-path=\"url(#clip432)\" style=\"stroke:#000000; stroke-width:2; stroke-opacity:0.1; fill:none\" points=\"\n",
       "  1655.45,1486.45 1655.45,47.2441 \n",
       "  \"/>\n",
       "<polyline clip-path=\"url(#clip432)\" style=\"stroke:#000000; stroke-width:2; stroke-opacity:0.1; fill:none\" points=\"\n",
       "  1960.32,1486.45 1960.32,47.2441 \n",
       "  \"/>\n",
       "<polyline clip-path=\"url(#clip432)\" style=\"stroke:#000000; stroke-width:2; stroke-opacity:0.1; fill:none\" points=\"\n",
       "  161.598,1205.8 2112.76,1205.8 \n",
       "  \"/>\n",
       "<polyline clip-path=\"url(#clip432)\" style=\"stroke:#000000; stroke-width:2; stroke-opacity:0.1; fill:none\" points=\"\n",
       "  161.598,917.962 2112.76,917.962 \n",
       "  \"/>\n",
       "<polyline clip-path=\"url(#clip432)\" style=\"stroke:#000000; stroke-width:2; stroke-opacity:0.1; fill:none\" points=\"\n",
       "  161.598,630.122 2112.76,630.122 \n",
       "  \"/>\n",
       "<polyline clip-path=\"url(#clip432)\" style=\"stroke:#000000; stroke-width:2; stroke-opacity:0.1; fill:none\" points=\"\n",
       "  161.598,342.281 2112.76,342.281 \n",
       "  \"/>\n",
       "<polyline clip-path=\"url(#clip432)\" style=\"stroke:#000000; stroke-width:2; stroke-opacity:0.1; fill:none\" points=\"\n",
       "  161.598,54.4401 2112.76,54.4401 \n",
       "  \"/>\n",
       "<polyline clip-path=\"url(#clip430)\" style=\"stroke:#000000; stroke-width:4; stroke-opacity:1; fill:none\" points=\"\n",
       "  161.598,1486.45 2112.76,1486.45 \n",
       "  \"/>\n",
       "<polyline clip-path=\"url(#clip430)\" style=\"stroke:#000000; stroke-width:4; stroke-opacity:1; fill:none\" points=\"\n",
       "  161.598,1486.45 161.598,47.2441 \n",
       "  \"/>\n",
       "<polyline clip-path=\"url(#clip430)\" style=\"stroke:#000000; stroke-width:4; stroke-opacity:1; fill:none\" points=\"\n",
       "  435.98,1486.45 435.98,1469.18 \n",
       "  \"/>\n",
       "<polyline clip-path=\"url(#clip430)\" style=\"stroke:#000000; stroke-width:4; stroke-opacity:1; fill:none\" points=\"\n",
       "  740.848,1486.45 740.848,1469.18 \n",
       "  \"/>\n",
       "<polyline clip-path=\"url(#clip430)\" style=\"stroke:#000000; stroke-width:4; stroke-opacity:1; fill:none\" points=\"\n",
       "  1045.72,1486.45 1045.72,1469.18 \n",
       "  \"/>\n",
       "<polyline clip-path=\"url(#clip430)\" style=\"stroke:#000000; stroke-width:4; stroke-opacity:1; fill:none\" points=\"\n",
       "  1350.58,1486.45 1350.58,1469.18 \n",
       "  \"/>\n",
       "<polyline clip-path=\"url(#clip430)\" style=\"stroke:#000000; stroke-width:4; stroke-opacity:1; fill:none\" points=\"\n",
       "  1655.45,1486.45 1655.45,1469.18 \n",
       "  \"/>\n",
       "<polyline clip-path=\"url(#clip430)\" style=\"stroke:#000000; stroke-width:4; stroke-opacity:1; fill:none\" points=\"\n",
       "  1960.32,1486.45 1960.32,1469.18 \n",
       "  \"/>\n",
       "<polyline clip-path=\"url(#clip430)\" style=\"stroke:#000000; stroke-width:4; stroke-opacity:1; fill:none\" points=\"\n",
       "  161.598,1205.8 185.012,1205.8 \n",
       "  \"/>\n",
       "<polyline clip-path=\"url(#clip430)\" style=\"stroke:#000000; stroke-width:4; stroke-opacity:1; fill:none\" points=\"\n",
       "  161.598,917.962 185.012,917.962 \n",
       "  \"/>\n",
       "<polyline clip-path=\"url(#clip430)\" style=\"stroke:#000000; stroke-width:4; stroke-opacity:1; fill:none\" points=\"\n",
       "  161.598,630.122 185.012,630.122 \n",
       "  \"/>\n",
       "<polyline clip-path=\"url(#clip430)\" style=\"stroke:#000000; stroke-width:4; stroke-opacity:1; fill:none\" points=\"\n",
       "  161.598,342.281 185.012,342.281 \n",
       "  \"/>\n",
       "<polyline clip-path=\"url(#clip430)\" style=\"stroke:#000000; stroke-width:4; stroke-opacity:1; fill:none\" points=\"\n",
       "  161.598,54.4401 185.012,54.4401 \n",
       "  \"/>\n",
       "<path clip-path=\"url(#clip430)\" d=\"M 0 0 M426.258 1505.36 L444.614 1505.36 L444.614 1509.3 L430.54 1509.3 L430.54 1517.77 Q431.558 1517.42 432.577 1517.26 Q433.596 1517.07 434.614 1517.07 Q440.401 1517.07 443.781 1520.24 Q447.16 1523.42 447.16 1528.83 Q447.16 1534.41 443.688 1537.51 Q440.216 1540.59 433.896 1540.59 Q431.721 1540.59 429.452 1540.22 Q427.207 1539.85 424.799 1539.11 L424.799 1534.41 Q426.883 1535.54 429.105 1536.1 Q431.327 1536.66 433.804 1536.66 Q437.808 1536.66 440.146 1534.55 Q442.484 1532.44 442.484 1528.83 Q442.484 1525.22 440.146 1523.11 Q437.808 1521.01 433.804 1521.01 Q431.929 1521.01 430.054 1521.42 Q428.202 1521.84 426.258 1522.72 L426.258 1505.36 Z\" fill=\"#000000\" fill-rule=\"evenodd\" fill-opacity=\"1\" /><path clip-path=\"url(#clip430)\" d=\"M 0 0 M717.723 1535.98 L725.362 1535.98 L725.362 1509.62 L717.052 1511.29 L717.052 1507.03 L725.316 1505.36 L729.992 1505.36 L729.992 1535.98 L737.631 1535.98 L737.631 1539.92 L717.723 1539.92 L717.723 1535.98 Z\" fill=\"#000000\" fill-rule=\"evenodd\" fill-opacity=\"1\" /><path clip-path=\"url(#clip430)\" d=\"M 0 0 M752.7 1508.44 Q749.089 1508.44 747.26 1512 Q745.455 1515.55 745.455 1522.67 Q745.455 1529.78 747.26 1533.35 Q749.089 1536.89 752.7 1536.89 Q756.334 1536.89 758.14 1533.35 Q759.968 1529.78 759.968 1522.67 Q759.968 1515.55 758.14 1512 Q756.334 1508.44 752.7 1508.44 M752.7 1504.73 Q758.51 1504.73 761.566 1509.34 Q764.644 1513.92 764.644 1522.67 Q764.644 1531.4 761.566 1536.01 Q758.51 1540.59 752.7 1540.59 Q746.89 1540.59 743.811 1536.01 Q740.756 1531.4 740.756 1522.67 Q740.756 1513.92 743.811 1509.34 Q746.89 1504.73 752.7 1504.73 Z\" fill=\"#000000\" fill-rule=\"evenodd\" fill-opacity=\"1\" /><path clip-path=\"url(#clip430)\" d=\"M 0 0 M1023.09 1535.98 L1030.73 1535.98 L1030.73 1509.62 L1022.42 1511.29 L1022.42 1507.03 L1030.68 1505.36 L1035.36 1505.36 L1035.36 1535.98 L1043 1535.98 L1043 1539.92 L1023.09 1539.92 L1023.09 1535.98 Z\" fill=\"#000000\" fill-rule=\"evenodd\" fill-opacity=\"1\" /><path clip-path=\"url(#clip430)\" d=\"M 0 0 M1048.11 1505.36 L1066.47 1505.36 L1066.47 1509.3 L1052.39 1509.3 L1052.39 1517.77 Q1053.41 1517.42 1054.43 1517.26 Q1055.45 1517.07 1056.47 1517.07 Q1062.26 1517.07 1065.64 1520.24 Q1069.02 1523.42 1069.02 1528.83 Q1069.02 1534.41 1065.54 1537.51 Q1062.07 1540.59 1055.75 1540.59 Q1053.58 1540.59 1051.31 1540.22 Q1049.06 1539.85 1046.65 1539.11 L1046.65 1534.41 Q1048.74 1535.54 1050.96 1536.1 Q1053.18 1536.66 1055.66 1536.66 Q1059.66 1536.66 1062 1534.55 Q1064.34 1532.44 1064.34 1528.83 Q1064.34 1525.22 1062 1523.11 Q1059.66 1521.01 1055.66 1521.01 Q1053.78 1521.01 1051.91 1521.42 Q1050.06 1521.84 1048.11 1522.72 L1048.11 1505.36 Z\" fill=\"#000000\" fill-rule=\"evenodd\" fill-opacity=\"1\" /><path clip-path=\"url(#clip430)\" d=\"M 0 0 M1331.73 1535.98 L1348.05 1535.98 L1348.05 1539.92 L1326.11 1539.92 L1326.11 1535.98 Q1328.77 1533.23 1333.35 1528.6 Q1337.96 1523.95 1339.14 1522.61 Q1341.38 1520.08 1342.26 1518.35 Q1343.17 1516.59 1343.17 1514.9 Q1343.17 1512.14 1341.22 1510.41 Q1339.3 1508.67 1336.2 1508.67 Q1334 1508.67 1331.55 1509.43 Q1329.12 1510.2 1326.34 1511.75 L1326.34 1507.03 Q1329.16 1505.89 1331.62 1505.31 Q1334.07 1504.73 1336.11 1504.73 Q1341.48 1504.73 1344.67 1507.42 Q1347.87 1510.11 1347.87 1514.6 Q1347.87 1516.73 1347.05 1518.65 Q1346.27 1520.54 1344.16 1523.14 Q1343.58 1523.81 1340.48 1527.03 Q1337.38 1530.22 1331.73 1535.98 Z\" fill=\"#000000\" fill-rule=\"evenodd\" fill-opacity=\"1\" /><path clip-path=\"url(#clip430)\" d=\"M 0 0 M1363.12 1508.44 Q1359.51 1508.44 1357.68 1512 Q1355.87 1515.55 1355.87 1522.67 Q1355.87 1529.78 1357.68 1533.35 Q1359.51 1536.89 1363.12 1536.89 Q1366.75 1536.89 1368.56 1533.35 Q1370.39 1529.78 1370.39 1522.67 Q1370.39 1515.55 1368.56 1512 Q1366.75 1508.44 1363.12 1508.44 M1363.12 1504.73 Q1368.93 1504.73 1371.99 1509.34 Q1375.06 1513.92 1375.06 1522.67 Q1375.06 1531.4 1371.99 1536.01 Q1368.93 1540.59 1363.12 1540.59 Q1357.31 1540.59 1354.23 1536.01 Q1351.18 1531.4 1351.18 1522.67 Q1351.18 1513.92 1354.23 1509.34 Q1357.31 1504.73 1363.12 1504.73 Z\" fill=\"#000000\" fill-rule=\"evenodd\" fill-opacity=\"1\" /><path clip-path=\"url(#clip430)\" d=\"M 0 0 M1637.1 1535.98 L1653.42 1535.98 L1653.42 1539.92 L1631.47 1539.92 L1631.47 1535.98 Q1634.13 1533.23 1638.72 1528.6 Q1643.32 1523.95 1644.5 1522.61 Q1646.75 1520.08 1647.63 1518.35 Q1648.53 1516.59 1648.53 1514.9 Q1648.53 1512.14 1646.59 1510.41 Q1644.67 1508.67 1641.56 1508.67 Q1639.37 1508.67 1636.91 1509.43 Q1634.48 1510.2 1631.7 1511.75 L1631.7 1507.03 Q1634.53 1505.89 1636.98 1505.31 Q1639.43 1504.73 1641.47 1504.73 Q1646.84 1504.73 1650.04 1507.42 Q1653.23 1510.11 1653.23 1514.6 Q1653.23 1516.73 1652.42 1518.65 Q1651.63 1520.54 1649.53 1523.14 Q1648.95 1523.81 1645.85 1527.03 Q1642.75 1530.22 1637.1 1535.98 Z\" fill=\"#000000\" fill-rule=\"evenodd\" fill-opacity=\"1\" /><path clip-path=\"url(#clip430)\" d=\"M 0 0 M1658.53 1505.36 L1676.89 1505.36 L1676.89 1509.3 L1662.81 1509.3 L1662.81 1517.77 Q1663.83 1517.42 1664.85 1517.26 Q1665.87 1517.07 1666.89 1517.07 Q1672.68 1517.07 1676.06 1520.24 Q1679.43 1523.42 1679.43 1528.83 Q1679.43 1534.41 1675.96 1537.51 Q1672.49 1540.59 1666.17 1540.59 Q1663.99 1540.59 1661.73 1540.22 Q1659.48 1539.85 1657.07 1539.11 L1657.07 1534.41 Q1659.16 1535.54 1661.38 1536.1 Q1663.6 1536.66 1666.08 1536.66 Q1670.08 1536.66 1672.42 1534.55 Q1674.76 1532.44 1674.76 1528.83 Q1674.76 1525.22 1672.42 1523.11 Q1670.08 1521.01 1666.08 1521.01 Q1664.2 1521.01 1662.33 1521.42 Q1660.48 1521.84 1658.53 1522.72 L1658.53 1505.36 Z\" fill=\"#000000\" fill-rule=\"evenodd\" fill-opacity=\"1\" /><path clip-path=\"url(#clip430)\" d=\"M 0 0 M1951.06 1521.29 Q1954.42 1522 1956.29 1524.27 Q1958.19 1526.54 1958.19 1529.87 Q1958.19 1534.99 1954.67 1537.79 Q1951.16 1540.59 1944.67 1540.59 Q1942.5 1540.59 1940.18 1540.15 Q1937.89 1539.73 1935.44 1538.88 L1935.44 1534.36 Q1937.38 1535.5 1939.7 1536.08 Q1942.01 1536.66 1944.53 1536.66 Q1948.93 1536.66 1951.22 1534.92 Q1953.54 1533.18 1953.54 1529.87 Q1953.54 1526.82 1951.39 1525.11 Q1949.26 1523.37 1945.44 1523.37 L1941.41 1523.37 L1941.41 1519.53 L1945.62 1519.53 Q1949.07 1519.53 1950.9 1518.16 Q1952.73 1516.77 1952.73 1514.18 Q1952.73 1511.52 1950.83 1510.11 Q1948.96 1508.67 1945.44 1508.67 Q1943.52 1508.67 1941.32 1509.09 Q1939.12 1509.5 1936.48 1510.38 L1936.48 1506.22 Q1939.14 1505.48 1941.46 1505.11 Q1943.79 1504.73 1945.85 1504.73 Q1951.18 1504.73 1954.28 1507.17 Q1957.38 1509.57 1957.38 1513.69 Q1957.38 1516.56 1955.74 1518.55 Q1954.09 1520.52 1951.06 1521.29 Z\" fill=\"#000000\" fill-rule=\"evenodd\" fill-opacity=\"1\" /><path clip-path=\"url(#clip430)\" d=\"M 0 0 M1973.26 1508.44 Q1969.65 1508.44 1967.82 1512 Q1966.02 1515.55 1966.02 1522.67 Q1966.02 1529.78 1967.82 1533.35 Q1969.65 1536.89 1973.26 1536.89 Q1976.9 1536.89 1978.7 1533.35 Q1980.53 1529.78 1980.53 1522.67 Q1980.53 1515.55 1978.7 1512 Q1976.9 1508.44 1973.26 1508.44 M1973.26 1504.73 Q1979.07 1504.73 1982.13 1509.34 Q1985.21 1513.92 1985.21 1522.67 Q1985.21 1531.4 1982.13 1536.01 Q1979.07 1540.59 1973.26 1540.59 Q1967.45 1540.59 1964.37 1536.01 Q1961.32 1531.4 1961.32 1522.67 Q1961.32 1513.92 1964.37 1509.34 Q1967.45 1504.73 1973.26 1504.73 Z\" fill=\"#000000\" fill-rule=\"evenodd\" fill-opacity=\"1\" /><path clip-path=\"url(#clip430)\" d=\"M 0 0 M94.2651 1219.15 L110.584 1219.15 L110.584 1223.08 L88.6401 1223.08 L88.6401 1219.15 Q91.3022 1216.39 95.8855 1211.76 Q100.492 1207.11 101.672 1205.77 Q103.918 1203.25 104.797 1201.51 Q105.7 1199.75 105.7 1198.06 Q105.7 1195.31 103.756 1193.57 Q101.835 1191.83 98.7327 1191.83 Q96.5336 1191.83 94.0799 1192.6 Q91.6494 1193.36 88.8716 1194.91 L88.8716 1190.19 Q91.6957 1189.06 94.1494 1188.48 Q96.6031 1187.9 98.6401 1187.9 Q104.01 1187.9 107.205 1190.58 Q110.399 1193.27 110.399 1197.76 Q110.399 1199.89 109.589 1201.81 Q108.802 1203.71 106.696 1206.3 Q106.117 1206.97 103.015 1210.19 Q99.9132 1213.38 94.2651 1219.15 Z\" fill=\"#000000\" fill-rule=\"evenodd\" fill-opacity=\"1\" /><path clip-path=\"url(#clip430)\" d=\"M 0 0 M125.654 1191.6 Q122.043 1191.6 120.214 1195.17 Q118.408 1198.71 118.408 1205.84 Q118.408 1212.94 120.214 1216.51 Q122.043 1220.05 125.654 1220.05 Q129.288 1220.05 131.094 1216.51 Q132.922 1212.94 132.922 1205.84 Q132.922 1198.71 131.094 1195.17 Q129.288 1191.6 125.654 1191.6 M125.654 1187.9 Q131.464 1187.9 134.52 1192.5 Q137.598 1197.09 137.598 1205.84 Q137.598 1214.56 134.52 1219.17 Q131.464 1223.75 125.654 1223.75 Q119.844 1223.75 116.765 1219.17 Q113.709 1214.56 113.709 1205.84 Q113.709 1197.09 116.765 1192.5 Q119.844 1187.9 125.654 1187.9 Z\" fill=\"#000000\" fill-rule=\"evenodd\" fill-opacity=\"1\" /><path clip-path=\"url(#clip430)\" d=\"M 0 0 M101.001 904.756 L89.1957 923.205 L101.001 923.205 L101.001 904.756 M99.7743 900.682 L105.654 900.682 L105.654 923.205 L110.584 923.205 L110.584 927.094 L105.654 927.094 L105.654 935.242 L101.001 935.242 L101.001 927.094 L85.3994 927.094 L85.3994 922.58 L99.7743 900.682 Z\" fill=\"#000000\" fill-rule=\"evenodd\" fill-opacity=\"1\" /><path clip-path=\"url(#clip430)\" d=\"M 0 0 M125.654 903.761 Q122.043 903.761 120.214 907.326 Q118.408 910.868 118.408 917.997 Q118.408 925.104 120.214 928.668 Q122.043 932.21 125.654 932.21 Q129.288 932.21 131.094 928.668 Q132.922 925.104 132.922 917.997 Q132.922 910.868 131.094 907.326 Q129.288 903.761 125.654 903.761 M125.654 900.057 Q131.464 900.057 134.52 904.664 Q137.598 909.247 137.598 917.997 Q137.598 926.724 134.52 931.33 Q131.464 935.914 125.654 935.914 Q119.844 935.914 116.765 931.33 Q113.709 926.724 113.709 917.997 Q113.709 909.247 116.765 904.664 Q119.844 900.057 125.654 900.057 Z\" fill=\"#000000\" fill-rule=\"evenodd\" fill-opacity=\"1\" /><path clip-path=\"url(#clip430)\" d=\"M 0 0 M99.0567 628.258 Q95.9086 628.258 94.0568 630.411 Q92.2281 632.564 92.2281 636.314 Q92.2281 640.041 94.0568 642.216 Q95.9086 644.369 99.0567 644.369 Q102.205 644.369 104.034 642.216 Q105.885 640.041 105.885 636.314 Q105.885 632.564 104.034 630.411 Q102.205 628.258 99.0567 628.258 M108.339 613.606 L108.339 617.865 Q106.58 617.031 104.774 616.592 Q102.992 616.152 101.233 616.152 Q96.6031 616.152 94.1494 619.277 Q91.7188 622.402 91.3716 628.721 Q92.7373 626.707 94.7975 625.642 Q96.8577 624.555 99.3345 624.555 Q104.543 624.555 107.552 627.726 Q110.584 630.874 110.584 636.314 Q110.584 641.638 107.436 644.855 Q104.288 648.073 99.0567 648.073 Q93.0614 648.073 89.8901 643.49 Q86.7189 638.883 86.7189 630.156 Q86.7189 621.962 90.6077 617.101 Q94.4966 612.217 101.047 612.217 Q102.807 612.217 104.589 612.564 Q106.395 612.911 108.339 613.606 Z\" fill=\"#000000\" fill-rule=\"evenodd\" fill-opacity=\"1\" /><path clip-path=\"url(#clip430)\" d=\"M 0 0 M125.654 615.92 Q122.043 615.92 120.214 619.485 Q118.408 623.027 118.408 630.156 Q118.408 637.263 120.214 640.828 Q122.043 644.369 125.654 644.369 Q129.288 644.369 131.094 640.828 Q132.922 637.263 132.922 630.156 Q132.922 623.027 131.094 619.485 Q129.288 615.92 125.654 615.92 M125.654 612.217 Q131.464 612.217 134.52 616.823 Q137.598 621.406 137.598 630.156 Q137.598 638.883 134.52 643.49 Q131.464 648.073 125.654 648.073 Q119.844 648.073 116.765 643.49 Q113.709 638.883 113.709 630.156 Q113.709 621.406 116.765 616.823 Q119.844 612.217 125.654 612.217 Z\" fill=\"#000000\" fill-rule=\"evenodd\" fill-opacity=\"1\" /><path clip-path=\"url(#clip430)\" d=\"M 0 0 M98.7327 343.149 Q95.3994 343.149 93.4781 344.931 Q91.5799 346.714 91.5799 349.839 Q91.5799 352.964 93.4781 354.746 Q95.3994 356.528 98.7327 356.528 Q102.066 356.528 103.987 354.746 Q105.909 352.941 105.909 349.839 Q105.909 346.714 103.987 344.931 Q102.089 343.149 98.7327 343.149 M94.0568 341.158 Q91.0475 340.417 89.3577 338.357 Q87.6911 336.297 87.6911 333.334 Q87.6911 329.191 90.6309 326.783 Q93.5938 324.376 98.7327 324.376 Q103.895 324.376 106.834 326.783 Q109.774 329.191 109.774 333.334 Q109.774 336.297 108.084 338.357 Q106.418 340.417 103.432 341.158 Q106.811 341.945 108.686 344.237 Q110.584 346.529 110.584 349.839 Q110.584 354.862 107.506 357.547 Q104.45 360.232 98.7327 360.232 Q93.0151 360.232 89.9364 357.547 Q86.8809 354.862 86.8809 349.839 Q86.8809 346.529 88.779 344.237 Q90.6772 341.945 94.0568 341.158 M92.3438 333.774 Q92.3438 336.459 94.0105 337.964 Q95.7003 339.468 98.7327 339.468 Q101.742 339.468 103.432 337.964 Q105.145 336.459 105.145 333.774 Q105.145 331.089 103.432 329.584 Q101.742 328.08 98.7327 328.08 Q95.7003 328.08 94.0105 329.584 Q92.3438 331.089 92.3438 333.774 Z\" fill=\"#000000\" fill-rule=\"evenodd\" fill-opacity=\"1\" /><path clip-path=\"url(#clip430)\" d=\"M 0 0 M125.654 328.08 Q122.043 328.08 120.214 331.644 Q118.408 335.186 118.408 342.316 Q118.408 349.422 120.214 352.987 Q122.043 356.528 125.654 356.528 Q129.288 356.528 131.094 352.987 Q132.922 349.422 132.922 342.316 Q132.922 335.186 131.094 331.644 Q129.288 328.08 125.654 328.08 M125.654 324.376 Q131.464 324.376 134.52 328.982 Q137.598 333.566 137.598 342.316 Q137.598 351.042 134.52 355.649 Q131.464 360.232 125.654 360.232 Q119.844 360.232 116.765 355.649 Q113.709 351.042 113.709 342.316 Q113.709 333.566 116.765 328.982 Q119.844 324.376 125.654 324.376 Z\" fill=\"#000000\" fill-rule=\"evenodd\" fill-opacity=\"1\" /><path clip-path=\"url(#clip430)\" d=\"M 0 0 M63.6634 67.7849 L71.3023 67.7849 L71.3023 41.4193 L62.9921 43.086 L62.9921 38.8268 L71.256 37.1601 L75.9319 37.1601 L75.9319 67.7849 L83.5707 67.7849 L83.5707 71.7201 L63.6634 71.7201 L63.6634 67.7849 Z\" fill=\"#000000\" fill-rule=\"evenodd\" fill-opacity=\"1\" /><path clip-path=\"url(#clip430)\" d=\"M 0 0 M98.6401 40.2388 Q95.029 40.2388 93.2003 43.8036 Q91.3948 47.3452 91.3948 54.4748 Q91.3948 61.5813 93.2003 65.1461 Q95.029 68.6877 98.6401 68.6877 Q102.274 68.6877 104.08 65.1461 Q105.909 61.5813 105.909 54.4748 Q105.909 47.3452 104.08 43.8036 Q102.274 40.2388 98.6401 40.2388 M98.6401 36.5351 Q104.45 36.5351 107.506 41.1416 Q110.584 45.7249 110.584 54.4748 Q110.584 63.2016 107.506 67.8081 Q104.45 72.3914 98.6401 72.3914 Q92.8299 72.3914 89.7512 67.8081 Q86.6957 63.2016 86.6957 54.4748 Q86.6957 45.7249 89.7512 41.1416 Q92.8299 36.5351 98.6401 36.5351 Z\" fill=\"#000000\" fill-rule=\"evenodd\" fill-opacity=\"1\" /><path clip-path=\"url(#clip430)\" d=\"M 0 0 M125.654 40.2388 Q122.043 40.2388 120.214 43.8036 Q118.408 47.3452 118.408 54.4748 Q118.408 61.5813 120.214 65.1461 Q122.043 68.6877 125.654 68.6877 Q129.288 68.6877 131.094 65.1461 Q132.922 61.5813 132.922 54.4748 Q132.922 47.3452 131.094 43.8036 Q129.288 40.2388 125.654 40.2388 M125.654 36.5351 Q131.464 36.5351 134.52 41.1416 Q137.598 45.7249 137.598 54.4748 Q137.598 63.2016 134.52 67.8081 Q131.464 72.3914 125.654 72.3914 Q119.844 72.3914 116.765 67.8081 Q113.709 63.2016 113.709 54.4748 Q113.709 45.7249 116.765 41.1416 Q119.844 36.5351 125.654 36.5351 Z\" fill=\"#000000\" fill-rule=\"evenodd\" fill-opacity=\"1\" /><g clip-path=\"url(#clip432)\">\n",
       "<image width=\"1951\" height=\"1439\" xlink:href=\"data:image/png;base64,\n",
       "iVBORw0KGgoAAAANSUhEUgAAB58AAAWfCAYAAACcGDHEAAAgAElEQVR4nOzbva4lWZVG0RvVARgt\n",
       "sBBCwuD9HwujJdTCAmHwVxsj3ZJKVfOeWJlnjfEE39Y+eSOqpuL6+LjPBwB8xa6Pa3rC867vphc8\n",
       "7rp+OT3hcff//Hp6wuP+9xe/m57wuN9+98fpCY/7w/e/n57wuN//8lfTEx73m31/tlf66z+nFzzv\n",
       "z//8x/SEx/3fd3+envC4v3z/p+kJj/v7v/5/esLj/v2fv01PeNw5C/9wn++nFzzufPhf+gB8vfb9\n",
       "n20AAAAAAAAAPp34DAAAAAAAAEAmPgMAAAAAAACQic8AAAAAAAAAZOIzAAAAAAAAAJn4DAAAAAAA\n",
       "AEAmPgMAAAAAAACQic8AAAAAAAAAZOIzAAAAAAAAAJn4DAAAAAAAAEAmPgMAAAAAAACQic8AAAAA\n",
       "AAAAZOIzAAAAAAAAAJn4DAAAAAAAAEB2Tw8AAGCTMz0AXuKaHjBg45k3cs+8L+8kAADwCr58BgAA\n",
       "AAAAACATnwEAAAAAAADIxGcAAAAAAAAAMvEZAAAAAAAAgEx8BgAAAAAAACATnwEAAAAAAADIxGcA\n",
       "AAAAAAAAMvEZAAAAAAAAgEx8BgAAAAAAACATnwEAAAAAAADIxGcAAAAAAAAAMvEZAAAAAAAAgEx8\n",
       "BgAAAAAAACC7pwcAAKx1zvSCx+07MWtc0wOet/DIO7lo3tTKd5KF754AADzPl88AAAAAAAAAZOIz\n",
       "AAAAAAAAAJn4DAAAAAAAAEAmPgMAAAAAAACQic8AAAAAAAAAZOIzAAAAAAAAAJn4DAAAAAAAAEAm\n",
       "PgMAAAAAAACQic8AAAAAAAAAZOIzAAAAAAAAAJn4DAAAAAAAAEAmPgMAAAAAAACQic8AAAAAAAAA\n",
       "ZOIzAAAAAAAAANk9PQAAgE3O9IDH7Tvxx8c1PQAg2Pg3bOOzauupAQDg1Xz5DAAAAAAAAEAmPgMA\n",
       "AAAAAACQic8AAAAAAAAAZOIzAAAAAAAAAJn4DAAAAAAAAEAmPgMAAAAAAACQic8AAAAAAAAAZOIz\n",
       "AAAAAAAAAJn4DAAAAAAAAEAmPgMAAAAAAACQic8AAAAAAAAAZOIzAAAAAAAAAJn4DAAAAAAAAEB2\n",
       "Tw8AAPjiTA/gCa6ZN3VNDxiw8cwbuWfelneSJVw0AMDTfPkMAAAAAAAAQCY+AwAAAAAAAJCJzwAA\n",
       "AAAAAABk4jMAAAAAAAAAmfgMAAAAAAAAQCY+AwAAAAAAAJCJzwAAAAAAAABk4jMAAAAAAAAAmfgM\n",
       "AAAAAAAAQCY+AwAAAAAAAJCJzwAAAAAAAABk4jMAAAAAAAAAmfgMAAAAAAAAQHZPDwAA2OtMD+AR\n",
       "7pk3dU0PAD6PZ9UO7hkAgNfz5TMAAAAAAAAAmfgMAAAAAAAAQCY+AwAAAAAAAJCJzwAAAAAAAABk\n",
       "4jMAAAAAAAAAmfgMAAAAAAAAQCY+AwAAAAAAAJCJzwAAAAAAAABk4jMAAAAAAAAAmfgMAAAAAAAA\n",
       "QCY+AwAAAAAAAJCJzwAAAAAAAABk4jMAAAAAAAAAmfgMAAAAAAAAQHZPDwAAfsiZHsADdt7yzlPD\n",
       "O7qmBwAk+95J9p14KzcNAMzy5TMAAAAAAAAAmfgMAAAAAAAAQCY+AwAAAAAAAJCJzwAAAAAAAABk\n",
       "4jMAAAAAAAAAmfgMAAAAAAAAQCY+AwAAAAAAAJCJzwAAAAAAAABk4jMAAAAAAAAAmfgMAAAAAAAA\n",
       "QCY+AwAAAAAAAJCJzwAAAAAAAABk4jMAAAAAAAAA2T09AACAPc70AHiRa3rAgI1n3sg98668kwAA\n",
       "wGv48hkAAAAAAACATHwGAAAAAAAAIBOfAQAAAAAAAMjEZwAAAAAAAAAy8RkAAAAAAACATHwGAAAA\n",
       "AAAAIBOfAQAAAAAAAMjEZwAAAAAAAAAy8RkAAAAAAACATHwGAAAAAAAAIBOfAQAAAAAAAMjEZwAA\n",
       "AAAAAAAy8RkAAAAAAACATHwGAAAAAAAAILunBwDAjzvTAwZc0wOet/GaVx5635nPwjMD8G3Z+axy\n",
       "5hUWHnknFw0AXxNfPgMAAAAAAACQic8AAAAAAAAAZOIzAAAAAAAAAJn4DAAAAAAAAEAmPgMAAAAA\n",
       "AACQic8AAAAAAAAAZOIzAAAAAAAAAJn4DAAAAAAAAEAmPgMAAAAAAACQic8AAAAAAAAAZOIzAAAA\n",
       "AAAAAJn4DAAAAAAAAEAmPgMAAAAAAACQ3dMDAAC+ONMDAH6265pe8LyNZ97IPQPfNv+NAQDwNF8+\n",
       "AwAAAAAAAJCJzwAAAAAAAABk4jMAAAAAAAAAmfgMAAAAAAAAQCY+AwAAAAAAAJCJzwAAAAAAAABk\n",
       "4jMAAAAAAAAAmfgMAAAAAAAAQCY+AwAAAAAAAJCJzwAAAAAAAABk4jMAAAAAAAAAmfgMAAAAAAAA\n",
       "QCY+AwAAAAAAAJDd0wMAAPY60wMAfrZregAAP5F3TwAAXs+XzwAAAAAAAABk4jMAAAAAAAAAmfgM\n",
       "AAAAAAAAQCY+AwAAAAAAAJCJzwAAAAAAAABk4jMAAAAAAAAAmfgMAAAAAAAAQCY+AwAAAAAAAJCJ\n",
       "zwAAAAAAAABk4jMAAAAAAAAAmfgMAAAAAAAAQCY+AwAAAAAAAJCJzwAAAAAAAABk4jMAAAAAAAAA\n",
       "2T09AACAPc7HmZ4AAOCdBAAAXsSXzwAAAAAAAABk4jMAAAAAAAAAmfgMAAAAAAAAQCY+AwAAAAAA\n",
       "AJCJzwAAAAAAAABk4jMAAAAAAAAAmfgMAAAAAAAAQCY+AwAAAAAAAJCJzwAAAAAAAABk4jMAAAAA\n",
       "AAAAmfgMAAAAAAAAQCY+AwAAAAAAAJCJzwAAAAAAAABk9/QAAAB4b2d6AA+4pgcM2HjmjdzzFp5V\n",
       "AADA5/DlMwAAAAAAAACZ+AwAAAAAAABAJj4DAAAAAAAAkInPAAAAAAAAAGTiMwAAAAAAAACZ+AwA\n",
       "AAAAAABAJj4DAAAAAAAAkInPAAAAAAAAAGTiMwAAAAAAAACZ+AwAAAAAAABAJj4DAAAAAAAAkInP\n",
       "AAAAAAAAAGTiMwAAAAAAAACZ+AwAAAAAAABAdk8PAAD44kwPGODMG+w7MVtc1/QC4LPsfFZtPLUz\n",
       "AwDwer58BgAAAAAAACATnwEAAAAAAADIxGcAAAAAAAAAMvEZAAAAAAAAgEx8BgAAAAAAACATnwEA\n",
       "AAAAAADIxGcAAAAAAAAAMvEZAAAAAAAAgEx8BgAAAAAAACATnwEAAAAAAADIxGcAAAAAAAAAMvEZ\n",
       "AAAAAAAAgEx8BgAAAAAAACC7pwcAAD/gTA8YcE0PeN7ZeM/wphb+CWMJv214H949l3DPAMAwXz4D\n",
       "AAAAAAAAkInPAAAAAAAAAGTiMwAAAAAAAACZ+AwAAAAAAABAJj4DAAAAAAAAkInPAAAAAAAAAGTi\n",
       "MwAAAAAAAACZ+AwAAAAAAABAJj4DAAAAAAAAkInPAAAAAAAAAGTiMwAAAAAAAACZ+AwAAAAAAABA\n",
       "Jj4DAAAAAAAAkN3TAwDgx5zpAQOu6QHwKmfjv+iNZ2YDzyp4JwufVSvfSeA9+dcMAF8XXz4DAAAA\n",
       "AAAAkInPAAAAAAAAAGTiMwAAAAAAAACZ+AwAAAAAAABAJj4DAAAAAAAAkInPAAAAAAAAAGTiMwAA\n",
       "AAAAAACZ+AwAAAAAAABAJj4DAAAAAAAAkInPAAAAAAAAAGTiMwAAAAAAAACZ+AwAAAAAAABAJj4D\n",
       "AAAAAAAAkInPAAAAAAAAAGT39AAAgL3O9IDH7Tsxa1zTA5638Mg7uWje1M53kp2nBgDgWb58BgAA\n",
       "AAAAACATnwEAAAAAAADIxGcAAAAAAAAAMvEZAAAAAAAAgEx8BgAAAAAAACATnwEAAAAAAADIxGcA\n",
       "AAAAAAAAMvEZAAAAAAAAgEx8BgAAAAAAACATnwEAAAAAAADIxGcAAAAAAAAAMvEZAAAAAAAAgEx8\n",
       "BgAAAAAAACC7pwcAAD/kTA943L4Tb7XvpvedeKdresCElYfexzXvsPNZtfPU2+y85Z2nBgC+Hr58\n",
       "BgAAAAAAACATnwEAAAAAAADIxGcAAAAAAAAAMvEZAAAAAAAAgEx8BgAAAAAAACATnwEAAAAAAADI\n",
       "xGcAAAAAAAAAMvEZAAAAAAAAgEx8BgAAAAAAACATnwEAAAAAAADIxGcAAAAAAAAAMvEZAAAAAAAA\n",
       "gEx8BgAAAAAAACATnwEAAAAAAADI7ukBAABfnOkB8CJ+27yna3oA8Ik8q3hXftsAAE/z5TMAAAAA\n",
       "AAAAmfgMAAAAAAAAQCY+AwAAAAAAAJCJzwAAAAAAAABk4jMAAAAAAAAAmfgMAAAAAAAAQCY+AwAA\n",
       "AAAAAJCJzwAAAAAAAABk4jMAAAAAAAAAmfgMAAAAAAAAQCY+AwAAAAAAAJCJzwAAAAAAAABk4jMA\n",
       "AAAAAAAA2T09AABgrzM9YMDGM7PBNT1gwMYzb+SeeV8b30k2nhkAgKf58hkAAAAAAACATHwGAAAA\n",
       "AAAAIBOfAQAAAAAAAMjEZwAAAAAAAAAy8RkAAAAAAACATHwGAAAAAAAAIBOfAQAAAAAAAMjEZwAA\n",
       "AAAAAAAy8RkAAAAAAACATHwGAAAAAAAAIBOfAQAAAAAAAMjEZwAAAAAAAAAy8RkAAAAAAACA7J4e\n",
       "AADAHmd6wICz8tRscE0PAD7NxmfVvhMDAMAzfPkMAAAAAAAAQCY+AwAAAAAAAJCJzwAAAAAAAABk\n",
       "4jMAAAAAAAAAmfgMAAAAAAAAQCY+AwAAAAAAAJCJzwAAAAAAAABk4jMAAAAAAAAAmfgMAAAAAAAA\n",
       "QCY+AwAAAAAAAJCJzwAAAAAAAABk4jMAAAAAAAAAmfgMAAAAAAAAQCY+AwAAAAAAAJDd0wMAANjk\n",
       "TA+Al7imB0xYeeh9XDPvyzsJAAC8gi+fAQAAAAAAAMjEZwAAAAAAAAAy8RkAAAAAAACATHwGAAAA\n",
       "AAAAIBOfAQAAAAAAAMjEZwAAAAAAAAAy8RkAAAAAAACATHwGAAAAAAAAIBOfAQAAAAAAAMjEZwAA\n",
       "AAAAAAAy8RkAAAAAAACATHwGAAAAAAAAIBOfAQAAAAAAAMju6QEAAHud6QE8wj2vcE0PeN7CI+/k\n",
       "opfwrNrBPQMA8Hq+fAYAAAAAAAAgE58BAAAAAAAAyMRnAAAAAAAAADLxGQAAAAAAAIBMfAYAAAAA\n",
       "AAAgE58BAAAAAAAAyMRnAAAAAAAAADLxGQAAAAAAAIBMfAYAAAAAAAAgE58BAAAAAAAAyMRnAAAA\n",
       "AAAAADLxGQAAAAAAAIBMfAYAAAAAAAAgu6cHAAB8caYHPG7fiT8+zsJT7zsxW1zTA4BPs/FZ5Z1k\n",
       "i52nBgCY5MtnAAAAAAAAADLxGQAAAAAAAIBMfAYAAAAAAAAgE58BAAAAAAAAyMRnAAAAAAAAADLx\n",
       "GQAAAAAAAIBMfAYAAAAAAAAgE58BAAAAAAAAyMRnAAAAAAAAADLxGQAAAAAAAIBMfAYAAAAAAAAg\n",
       "E58BAAAAAAAAyMRnAAAAAAAAADLxGQAAAAAAAIDsnh4AALDXmR7wvIVHZodresCA6/IPeoNr5a+b\n",
       "FVb+CVt5aAAAHubLZwAAAAAAAAAy8RkAAAAAAACATHwGAAAAAAAAIBOfAQAAAAAAAMjEZwAAAAAA\n",
       "AAAy8RkAAAAAAACATHwGAAAAAAAAIBOfAQAAAAAAAMjEZwAAAAAAAAAy8RkAAAAAAACATHwGAAAA\n",
       "AAAAIBOfAQAAAAAAAMjEZwAAAAAAAACye3oAAACbnOkBAzaemQ2u6QHAJ9r4rNp4ZgAAeD1fPgMA\n",
       "AAAAAACQic8AAAAAAAAAZOIzAAAAAAAAAJn4DAAAAAAAAEAmPgMAAAAAAACQic8AAAAAAAAAZOIz\n",
       "AAAAAAAAAJn4DAAAAAAAAEAmPgMAAAAAAACQic8AAAAAAAAAZOIzAAAAAAAAAJn4DAAAAAAAAEAm\n",
       "PgMAAAAAAACQic8AAAAAAAAAZPf0AAAAgG/dNT1gwMYzb+SeAQAA+Cl8+QwAAAAAAABAJj4DAAAA\n",
       "AAAAkInPAAAAAAAAAGTiMwAAAAAAAACZ+AwAAAAAAABAJj4DAAAAAAAAkInPAAAAAAAAAGTiMwAA\n",
       "AAAAAACZ+AwAAAAAAABAJj4DAAAAAAAAkInPAAAAAAAAAGTiMwAAAAAAAACZ+AwAAAAAAABAdk8P\n",
       "AABY65zpBY87H84M7+K6phcAn2Xjs2rjmTe+ewIA8DxfPgMAAAAAAACQic8AAAAAAAAAZOIzAAAA\n",
       "AAAAAJn4DAAAAAAAAEAmPgMAAAAAAACQic8AAAAAAAAAZOIzAAAAAAAAAJn4DAAAAAAAAEAmPgMA\n",
       "AAAAAACQic8AAAAAAAAAZOIzAAAAAAAAAJn4DAAAAAAAAEAmPgMAAAAAAACQ3dMDAAC+ONMDAH62\n",
       "65peAK/htw182/w3BgDA03z5DAAAAAAAAEAmPgMAAAAAAACQic8AAAAAAAAAZOIzAAAAAAAAAJn4\n",
       "DAAAAAAAAEAmPgMAAAAAAACQic8AAAAAAAAAZOIzAAAAAAAAAJn4DAAAAAAAAEAmPgMAAAAAAACQ\n",
       "ic8AAAAAAAAAZOIzAAAAAAAAAJn4DAAAAAAAAEAmPgMAAAAAAACQ3dMDAADY5EwPeNxZeGZ2uKYH\n",
       "AJ9m57Nq45kBAOD1fPkMAAAAAAAAQCY+AwAAAAAAAJCJzwAAAAAAAABk4jMAAAAAAAAAmfgMAAAA\n",
       "AAAAQCY+AwAAAAAAAJCJzwAAAAAAAABk4jMAAAAAAAAAmfgMAAAAAAAAQCY+AwAAAAAAAJCJzwAA\n",
       "AAAAAABk4jMAAAAAAAAAmfgMAAAAAAAAQHZPDwAA2OtMD+AR7nmDa3rAgGvjoRdyzVt4Vu3gngEA\n",
       "eD1fPgMAAAAAAACQic8AAAAAAAAAZOIzAAAAAAAAAJn4DAAAAAAAAEAmPgMAAAAAAACQic8AAAAA\n",
       "AAAAZOIzAAAAAAAAAJn4DAAAAAAAAEAmPgMAAAAAAACQic8AAAAAAAAAZOIzAAAAAAAAAJn4DAAA\n",
       "AAAAAEAmPgMAAAAAAACQic8AAAAAAAAAZPf0AAAA9jjnTE8APsk1PQAg8E4CAACv4ctnAAAAAAAA\n",
       "ADLxGQAAAAAAAIBMfAYAAAAAAAAgE58BAAAAAAAAyMRnAAAAAAAAADLxGQAAAAAAAIBMfAYAAAAA\n",
       "AAAgE58BAAAAAAAAyMRnAAAAAAAAADLxGQAAAAAAAIBMfAYAAAAAAAAgE58BAAAAAAAAyMRnAAAA\n",
       "AAAAALJ7egAAAJuc6QGPOyvPvM81PWDAtfKm97kW/ro3/rI3Pqt23jQAALyeL58BAAAAAAAAyMRn\n",
       "AAAAAAAAADLxGQAAAAAAAIBMfAYAAAAAAAAgE58BAAAAAAAAyMRnAAAAAAAAADLxGQAAAAAAAIBM\n",
       "fAYAAAAAAAAgE58BAAAAAAAAyMRnAAAAAAAAADLxGQAAAAAAAIBMfAYAAAAAAAAgE58BAAAAAAAA\n",
       "yO7pAQDADznTA3jAcc/AN+y6phcA8FN499zCPQMAs3z5DAAAAAAAAEAmPgMAAAAAAACQic8AAAAA\n",
       "AAAAZOIzAAAAAAAAAJn4DAAAAAAAAEAmPgMAAAAAAACQic8AAAAAAAAAZOIzAAAAAAAAAJn4DAAA\n",
       "AAAAAEAmPgMAAAAAAACQic8AAAAAAAAAZOIzAAAAAAAAAJn4DAAAAAAAAEAmPgMAAAAAAACQ3dMD\n",
       "AADY43yc6QmP23jmja5resHzFh55pY2/7Y02Pqs2nhkAAJ7gy2cAAAAAAAAAMvEZAAAAAAAAgEx8\n",
       "BgAAAAAAACATnwEAAAAAAADIxGcAAAAAAAAAMvEZAAAAAAAAgEx8BgAAAAAAACATnwEAAAAAAADI\n",
       "xGcAAAAAAAAAMvEZAAAAAAAAgEx8BgAAAAAAACATnwEAAAAAAADIxGcAAAAAAAAAsnt6AADAF2d6\n",
       "wICNZ97IPfOerukBwCfyrNph4z1vPDMAwCxfPgMAAAAAAACQic8AAAAAAAAAZOIzAAAAAAAAAJn4\n",
       "DAAAAAAAAEAmPgMAAAAAAACQic8AAAAAAAAAZOIzAAAAAAAAAJn4DAAAAAAAAEAmPgMAAAAAAACQ\n",
       "ic8AAAAAAAAAZOIzAAAAAAAAAJn4DAAAAAAAAEAmPgMAAAAAAACQic/Af9m3g2S3kRyAgqKa9z+y\n",
       "aha9nN28L2JCyDwBEEWTsp8LAAAAAAAAsnt6AAAANjnTAwB/5LqmJwAo/CYBAIBvcPMZAAAAAAAA\n",
       "gEx8BgAAAAAAACATnwEAAAAAAADIxGcAAAAAAAAAMvEZAAAAAAAAgEx8BgAAAAAAACATnwEAAAAA\n",
       "AADIxGcAAAAAAAAAMvEZAAAAAAAAgEx8BgAAAAAAACATnwEAAAAAAADIxGcAAAAAAAAAMvEZAAAA\n",
       "AAAAgOyeHgAA+G9neoAB1/QAPGTf030W7rzRxnfY5dleYeOzvdHOb9XGndnAkw0ATHPzGQAAAAAA\n",
       "AIBMfAYAAAAAAAAgE58BAAAAAAAAyMRnAAAAAAAAADLxGQAAAAAAAIBMfAYAAAAAAAAgE58BAAAA\n",
       "AAAAyMRnAAAAAAAAADLxGQAAAAAAAIBMfAYAAAAAAAAgE58BAAAAAAAAyMRnAAAAAAAAADLxGQAA\n",
       "AAAAAIDsnh4AAGCvMz3A486+lV8rz3l6AB7hfzLzq3a+w/Zt7TcJAAB8h38vAAAAAAAAACATnwEA\n",
       "AAAAAADIxGcAAAAAAAAAMvEZAAAAAAAAgEx8BgAAAAAAACATnwEAAAAAAADIxGcAAAAAAAAAMvEZ\n",
       "AAAAAAAAgEx8BgAAAAAAACATnwEAAAAAAADIxGcAAAAAAAAAMvEZAAAAAAAAgEx8BgAAAAAAACAT\n",
       "nwEAAAAAAADI7ukBAADY5EwP8LizcOeN53xd0xM8b+POG+08533vMN8qAADgr7j5DAAAAAAAAEAm\n",
       "PgMAAAAAAACQic8AAAAAAAAAZOIzAAAAAAAAAJn4DAAAAAAAAEAmPgMAAAAAAACQic8AAAAAAAAA\n",
       "ZOIzAAAAAAAAAJn4DAAAAAAAAEAmPgMAAAAAAACQic8AAAAAAAAAZOIzAAAAAAAAAJn4DAAAAAAA\n",
       "AEB2Tw8AAPB6vV6vMz3AgGt6AID/nVcYAP/3Nv4dAwBgmJvPAAAAAAAAAGTiMwAAAAAAAACZ+AwA\n",
       "AAAAAABAJj4DAAAAAAAAkInPAAAAAAAAAGTiMwAAAAAAAACZ+AwAAAAAAABAJj4DAAAAAAAAkInP\n",
       "AAAAAAAAAGTiMwAAAAAAAACZ+AwAAAAAAABAJj4DAAAAAAAAkInPAAAAAAAAAGT39AAAAGudMz3B\n",
       "gH07n4U7b1z5mh5gwHUtPOiFNj7bG99hK79VG3de+dsTAICnufkMAAAAAAAAQCY+AwAAAAAAAJCJ\n",
       "zwAAAAAAAABk4jMAAAAAAAAAmfgMAAAAAAAAQCY+AwAAAAAAAJCJzwAAAAAAAABk4jMAAAAAAAAA\n",
       "mfgMAAAAAAAAQCY+AwAAAAAAAJCJzwAAAAAAAABk4jMAAAAAAAAAmfgMAAAAAAAAQCY+AwAAAAAA\n",
       "AJDd0wMAAPzrTA/AA87Kc964Mxtc0wMAf2jft2rnb5KNnDMAwNPcfAYAAAAAAAAgE58BAAAAAAAA\n",
       "yMRnAAAAAAAAADLxGQAAAAAAAIBMfAYAAAAAAAAgE58BAAAAAAAAyMRnAAAAAAAAADLxGQAAAAAA\n",
       "AIBMfAYAAAAAAAAgE58BAAAAAAAAyMRnAAAAAAAAADLxGQAAAAAAAIBMfAYAAAAAAAAgu6cHAACA\n",
       "X3ZeZ3qEx+3b+PW6pgcYcG1ceqGNx7zxHbbxWwUAAHyHm88AAAAAAAAAZOIzAAAAAAAAAJn4DAAA\n",
       "AAAAAEAmPgMAAAAAAACQic8AAAAAAAAAZOIzAAAAAAAAAJn4DAAAAAAAAEAmPgMAAAAAAACQic8A\n",
       "AAAAAAAAZOIzAAAAAAAAAJn4DAAAAAAAAEAmPgMAAAAAAACQic8AAAAAAAAAZOIzAAAAAAAAANk9\n",
       "PQAAwF5neoDnHTvDr3hvfIfBr9r4rdq4s/c2AAAPcPMZAAAAAAAAgEx8BgAAAAAAACATnwEAAAAA\n",
       "AADIxGcAAAAAAAAAMvEZAAAAAAAAgEx8BgAAAAAAACATnwEAAAAAAADIxGcAAAAAAAAAMvEZAAAA\n",
       "AAAAgEx8BgAAAAAAACATnwEAAAAAAADIxGcAAAAAAAAAMvEZAAAAAAAAgOyeHgAAgE3O9ACPOwt3\n",
       "3ui6pid43sKVV9r4bG+081u1cWcAAPg+N58BAAAAAAAAyMRnAAAAAAAAADLxGQAAAAAAAIBMfAYA\n",
       "AAAAAAAgE58BAAAAAAAAyMRnAAAAAAAAADLxGQAAAAAAAIBMfAYAAAAAAAAgE58BAAAAAAAAyMRn\n",
       "AAAAAAAAADLxGQAAAAAAAIBMfAYAAAAAAAAgE58BAAAAAAAAyO7pAQAAtjrTAwzYuPPGrc/CnTe6\n",
       "rukJ4Dt2vsP27bxv4507AwDwPDefAQAAAAAAAMjEZwAAAAAAAAAy8RkAAAAAAACATHwGAAAAAAAA\n",
       "IBOfAQAAAAAAAMjEZwAAAAAAAAAy8RkAAAAAAACATHwGAAAAAAAAIBOfAQAAAAAAAMjEZwAAAAAA\n",
       "AAAy8RkAAAAAAACATHwGAAAAAAAAIBOfAQAAAAAAAMjEZwAAAAAAAACye3oAAIC9zvQAA/btfBbu\n",
       "vNE1PcCAt2d7hY3P9kY7v1V2BgCAb3DzGQAAAAAAAIBMfAYAAAAAAAAgE58BAAAAAAAAyMRnAAAA\n",
       "AAAAADLxGQAAAAAAAIBMfAYAAAAAAAAgE58BAAAAAAAAyMRnAAAAAAAAADLxGQAAAAAAAIBMfAYA\n",
       "AAAAAAAgE58BAAAAAAAAyMRnAAAAAAAAADLxGQAAAAAAAIDsnh4AAIBNzvQAPMAp73Bd0xPAd3iH\n",
       "beGkAQDgG9x8BgAAAAAAACATnwEAAAAAAADIxGcAAAAAAAAAMvEZAAAAAAAAgEx8BgAAAAAAACAT\n",
       "nwEAAAAAAADIxGcAAAAAAAAAMvEZAAAAAO9PGLoAACAASURBVAAAgEx8BgAAAAAAACATnwEAAAAA\n",
       "AADIxGcAAAAAAAAAMvEZAAAAAAAAgEx8BgAAAAAAACATnwEAAAAAAADI7ukBAADgl53XmR6BB1zT\n",
       "Awx4e7ZX2Phsb+RbBQAA/BU3nwEAAAAAAADIxGcAAAAAAAAAMvEZAAAAAAAAgEx8BgAAAAAAACAT\n",
       "nwEAAAAAAADIxGcAAAAAAAAAMvEZAAAAAAAAgEx8BgAAAAAAACATnwEAAAAAAADIxGcAAAAAAAAA\n",
       "MvEZAAAAAAAAgEx8BgAAAAAAACATnwEAAAAAAADI7ukBAAD2OtMDPO4s3HnjOe/ceZ/rmp4AvmXj\n",
       "O2zfzn6TAADAd7j5DAAAAAAAAEAmPgMAAAAAAACQic8AAAAAAAAAZOIzAAAAAAAAAJn4DAAAAAAA\n",
       "AEAmPgMAAAAAAACQic8AAAAAAAAAZOIzAAAAAAAAAJn4DAAAAAAAAEAmPgMAAAAAAACQic8AAAAA\n",
       "AAAAZOIzAAAAAAAAAJn4DAAAAAAAAEB2Tw8AAMAiZ3qA553XZ3qExy085td1TU/wvPe18aT32fhs\n",
       "b3yyN36rVh40AAA8wM1nAAAAAAAAADLxGQAAAAAAAIBMfAYAAAAAAAAgE58BAAAAAAAAyMRnAAAA\n",
       "AAAAADLxGQAAAAAAAIBMfAYAAAAAAAAgE58BAAAAAAAAyMRnAAAAAAAAADLxGQAAAAAAAIBMfAYA\n",
       "AAAAAAAgE58BAAAAAAAAyMRnAAAAAAAAADLxGQAAAAAAAIDsnh4AAIBNzvQAjztn387scE0PAPyZ\n",
       "nd+qjTsDAMD3ufkMAAAAAAAAQCY+AwAAAAAAAJCJzwAAAAAAAABk4jMAAAAAAAAAmfgMAAAAAAAA\n",
       "QCY+AwAAAAAAAJCJzwAAAAAAAABk4jMAAAAAAAAAmfgMAAAAAAAAQCY+AwAAAAAAAJCJzwAAAAAA\n",
       "AABk4jMAAAAAAAAAmfgMAAAAAAAAQHZPDwAA8K8zPcAAO++wb+ezcOdreoAB72vfOW+08dne+A7b\n",
       "+K2y8xYbdwYAmOXmMwAAAAAAAACZ+AwAAAAAAABAJj4DAAAAAAAAkInPAAAAAAAAAGTiMwAAAAAA\n",
       "AACZ+AwAAAAAAABAJj4DAAAAAAAAkInPAAAAAAAAAGTiMwAAAAAAAACZ+AwAAAAAAABAJj4DAAAA\n",
       "AAAAkInPAAAAAAAAAGTiMwAAAAAAAACZ+AwAAAAAAABAdk8PAAAAv+y8zvQIj9u38U7+JzO/auM7\n",
       "bOO3CgAA+A7/XgAAAAAAAABAJj4DAAAAAAAAkInPAAAAAAAAAGTiMwAAAAAAAACZ+AwAAAAAAABA\n",
       "Jj4DAAAAAAAAkInPAAAAAAAAAGTiMwAAAAAAAACZ+AwAAAAAAABAJj4DAAAAAAAAkInPAAAAAAAA\n",
       "AGTiMwAAAAAAAACZ+AwAAAAAAABAdk8PAADAHud1pkcYsHFnNrguzzb8jn1/nnf+JgEAgO9z8xkA\n",
       "AAAAAACATHwGAAAAAAAAIBOfAQAAAAAAAMjEZwAAAAAAAAAy8RkAAAAAAACATHwGAAAAAAAAIBOf\n",
       "AQAAAAAAAMjEZwAAAAAAAAAy8RkAAAAAAACATHwGAAAAAAAAIBOfAQAAAAAAAMjEZwAAAAAAAAAy\n",
       "8RkAAAAAAACA7J4eAACATc70AI87Z+HOC8/5mh5gwPvad84bbXy2N77DNn6rNv4mAQCAJ7j5DAAA\n",
       "AAAAAEAmPgMAAAAAAACQic8AAAAAAAAAZOIzAAAAAAAAAJn4DAAAAAAAAEAmPgMAAAAAAACQic8A\n",
       "AAAAAAAAZOIzAAAAAAAAAJn4DAAAAAAAAEAmPgMAAAAAAACQic8AAAAAAAAAZOIzAAAAAAAAAJn4\n",
       "DAAAAAAAAEAmPgMAAAAAAACQ3dMDAAC8Xq/XmR5gwDU9wISFB30WLr1v49fKP9D+J/MSC5/tje+w\n",
       "jd+qjStv5JgBAJ7n3wsAAAAAAAAAyMRnAAAAAAAAADLxGQAAAAAAAIBMfAYAAAAAAAAgE58BAAAA\n",
       "AAAAyMRnAAAAAAAAADLxGQAAAAAAAIBMfAYAAAAAAAAgE58BAAAAAAAAyMRnAAAAAAAAADLxGQAA\n",
       "AAAAAIBMfAYAAAAAAAAgE58BAAAAAAAAyO7pAQAA9jrTAwyw8w77dr6mBxjwvvad80Ybn+2N7zA7\n",
       "b7FxZwAAnubmMwAAAAAAAACZ+AwAAAAAAABAJj4DAAAAAAAAkInPAAAAAAAAAGTiMwAAAAAAAACZ\n",
       "+AwAAAAAAABAJj4DAAAAAAAAkInPAAAAAAAAAGTiMwAAAAAAAACZ+AwAAAAAAABAJj4DAAAAAAAA\n",
       "kInPAAAAAAAAAGTiMwAAAAAAAACZ+AwAAAAAAABAdk8PAADAJmd6gMed12d6hMedhee80ftyzvym\n",
       "je+wjd+qjb9JAADgCW4+AwAAAAAAAJCJzwAAAAAAAABk4jMAAAAAAAAAmfgMAAAAAAAAQCY+AwAA\n",
       "AAAAAJCJzwAAAAAAAABk4jMAAAAAAAAAmfgMAAAAAAAAQCY+AwAAAAAAAJCJzwAAAAAAAABk4jMA\n",
       "AAAAAAAAmfgMAAAAAAAAQCY+AwAAAAAAAJDd0wMAAMBPO2d6gscd/8V1hfe179lmh3NNTzDg488z\n",
       "AADwN/yzEAAAAAAAAACZ+AwAAAAAAABAJj4DAAAAAAAAkInPAAAAAAAAAGTiMwAAAAAAAACZ+AwA\n",
       "AAAAAABAJj4DAAAAAAAAkInPAAAAAAAAAGTiMwAAAAAAAACZ+AwAAAAAAABAJj4DAAAAAAAAkInP\n",
       "AAAAAAAAAGTiMwAAAAAAAADZPT0AAMBaZ3qA551r39Jn4UFv3PmaHmDAe+E5b7Tx2d74DrPzEgtX\n",
       "BgDgeW4+AwAAAAAAAJCJzwAAAAAAAABk4jMAAAAAAAAAmfgMAAAAAAAAQCY+AwAAAAAAAJCJzwAA\n",
       "AAAAAABk4jMAAAAAAAAAmfgMAAAAAAAAQCY+AwAAAAAAAJCJzwAAAAAAAABk4jMAAAAAAAAAmfgM\n",
       "AAAAAAAAQCY+AwAAAAAAAJCJzwAAAAAAAABk9/QAAABscqYHeNyxMz/qfTlnftPGd9jGnTf+JgEA\n",
       "gCe4+QwAAAAAAABAJj4DAAAAAAAAkInPAAAAAAAAAGTiMwAAAAAAAACZ+AwAAAAAAABAJj4DAAAA\n",
       "AAAAkInPAAAAAAAAAGTiMwAAAAAAAACZ+AwAAAAAAABAJj4DAAAAAAAAkInPAAAAAAAAAGTiMwAA\n",
       "AAAAAACZ+AwAAAAAAABAdk8PAACw15kegEd8pgd4nCd7h/flpPlNO5/sfd+qnXY+3QAAPMvNZwAA\n",
       "AAAAAAAy8RkAAAAAAACATHwGAAAAAAAAIBOfAQAAAAAAAMjEZwAAAAAAAAAy8RkAAAAAAACATHwG\n",
       "AAAAAAAAIBOfAQAAAAAAAMjEZwAAAAAAAAAy8RkAAAAAAACATHwGAAAAAAAAIBOfAQAAAAAAAMjE\n",
       "ZwAAAAAAAACye3oAAAA2OdMDPO6chTsvPOdreoAB72vfOW+08dne+A7b+K3a+JsEAACe4OYzAAAA\n",
       "AAAAAJn4DAAAAAAAAEAmPgMAAAAAAACQic8AAAAAAAAAZOIzAAAAAAAAAJn4DAAAAAAAAEAmPgMA\n",
       "AAAAAACQic8AAAAAAAAAZOIzAAAAAAAAAJn4DAAAAAAAAEAmPgMAAAAAAACQic8AAAAAAAAAZOIz\n",
       "AAAAAAAAAJn4DAAAAAAAAEB2Tw8AAMAi50xP8LjzsvMK1/QAz3tfC895o4XP9sZ32MadN/4mAQCA\n",
       "J7j5DAAAAAAAAEAmPgMAAAAAAACQic8AAAAAAAAAZOIzAAAAAAAAAJn4DAAAAAAAAEAmPgMAAAAA\n",
       "AACQic8AAAAAAAAAZOIzAAAAAAAAAJn4DAAAAAAAAEAmPgMAAAAAAACQic8AAAAAAAAAZOIzAAAA\n",
       "AAAAAJn4DAAAAAAAAEB2Tw8AAAC/7UwP8Ljz+kyPwAP+ufY92+yw8x3mzzMAAPA33HwGAAAAAAAA\n",
       "IBOfAQAAAAAAAMjEZwAAAAAAAAAy8RkAAAAAAACATHwGAAAAAAAAIBOfAQAAAAAAAMjEZwAAAAAA\n",
       "AAAy8RkAAAAAAACATHwGAAAAAAAAIBOfAQAAAAAAAMjEZwAAAAAAAAAy8RkAAAAAAACATHwGAAAA\n",
       "AAAAIBOfAQAAAAAAAMju6QEAANjkTA/wuHM+0yM87rPwnDd6v/c92+yw8R228Vu18TcJAAA8wc1n\n",
       "AAAAAAAAADLxGQAAAAAAAIBMfAYAAAAAAAAgE58BAAAAAAAAyMRnAAAAAAAAADLxGQAAAAAAAIBM\n",
       "fAYAAAAAAAAgE58BAAAAAAAAyMRnAAAAAAAAADLxGQAAAAAAAIBMfAYAAAAAAAAgE58BAAAAAAAA\n",
       "yMRnAAAAAAAAALJ7egAAAPhl53WmR3jcufbtvNE/zpkftfEdtvFbBQAAfIebzwAAAAAAAABk4jMA\n",
       "AAAAAAAAmfgMAAAAAAAAQCY+AwAAAAAAAJCJzwAAAAAAAABk4jMAAAAAAAAAmfgMAAAAAAAAQCY+\n",
       "AwAAAAAAAJCJzwAAAAAAAABk4jMAAAAAAAAAmfgMAAAAAAAAQCY+AwAAAAAAAJCJzwAAAAAAAABk\n",
       "9/QAAADscV5neoQB+3Y+r8/0CDzgfTlnftPOd9jGb9W+nQEA4AluPgMAAAAAAACQic8AAAAAAAAA\n",
       "ZOIzAAAAAAAAAJn4DAAAAAAAAEAmPgMAAAAAAACQic8AAAAAAAAAZOIzAAAAAAAAAJn4DAAAAAAA\n",
       "AEAmPgMAAAAAAACQic8AAAAAAAAAZOIzAAAAAAAAAJn4DAAAAAAAAEAmPgMAAAAAAACQic8AAAAA\n",
       "AAAAZPf0AAAAe53pAXjAOZ/pER738Wyv8M9737PNDhvfYRu/VTvte7YBAHiem88AAAAAAAAAZOIz\n",
       "AAAAAAAAAJn4DAAAAAAAAEAmPgMAAAAAAACQic8AAAAAAAAAZOIzAAAAAAAAAJn4DAAAAAAAAEAm\n",
       "PgMAAAAAAACQic8AAAAAAAAAZOIzAAAAAAAAAJn4DAAAAAAAAEAmPgMAAAAAAACQic8AAAAAAAAA\n",
       "ZPf0AAAAbHKmBxiwb+fz+kyPwAP+ufY92+yw8x228c/zxp0BAOD73HwGAAAAAAAAIBOfAQAAAAAA\n",
       "AMjEZwAAAAAAAAAy8RkAAAAAAACATHwGAAAAAAAAIBOfAQAAAAAAAMjEZwAAAAAAAAAy8RkAAAAA\n",
       "AACATHwGAAAAAAAAIBOfAQAAAAAAAMjEZwAAAAAAAAAy8RkAAAAAAACATHwGAAAAAACA/7RvR7mS\n",
       "U1cUht1lAwHSgRfeechMMv7MgQEQKVLUdLi37MMg1q29Je/vG8Eq2Tq+6r8PEBOfAQAAAAAAAIgd\n",
       "3QMAAKZa3QMafOoe0GANfNLXp6t7AgUeD8+Ze5p4hk38Vk3kKQMAUMHNZwAAAAAAAABi4jMAAAAA\n",
       "AAAAMfEZAAAAAAAAgJj4DAAAAAAAAEBMfAYAAAAAAAAgJj4DAAAAAAAAEBOfAQAAAAAAAIiJzwAA\n",
       "AAAAAADExGcAAAAAAAAAYuIzAAAAAAAAADHxGQAAAAAAAICY+AwAAAAAAABATHwGAAAAAAAAIHZ0\n",
       "DwAAYJLVPaDcWlf3hHJrm/ebJ9ofnjP3NPEMm/itmvg3CQAAVHDzGQAAAAAAAICY+AwAAAAAAABA\n",
       "THwGAAAAAAAAICY+AwAAAAAAABATnwEAAAAAAACIic8AAAAAAAAAxMRnAAAAAAAAAGLiMwAAAAAA\n",
       "AAAx8RkAAAAAAACAmPgMAAAAAAAAQEx8BgAAAAAAACAmPgMAAAAAAAAQE58BAAAAAAAAiB3dAwAA\n",
       "4N5W94By13Z1Tyi35j3mbX+c3RMoMPHdnniGTfxWAQAAr+HmMwAAAAAAAAAx8RkAAAAAAACAmPgM\n",
       "AAAAAAAAQEx8BgAAAAAAACAmPgMAAAAAAAAQE58BAAAAAAAAiInPAAAAAAAAAMTEZwAAAAAAAABi\n",
       "4jMAAAAAAAAAMfEZAAAAAAAAgJj4DAAAAAAAAEBMfAYAAAAAAAAgJj4DAAAAAAAAEBOfAQAAAAAA\n",
       "AIgd3QMAAODeru4B5a6Bv3mi/eE5c08zz7CJvxkAAHgFN58BAAAAAAAAiInPAAAAAAAAAMTEZwAA\n",
       "AAAAAABi4jMAAAAAAAAAMfEZAAAAAAAAgJj4DAAAAAAAAEBMfAYAAAAAAAAgJj4DAAAAAAAAEBOf\n",
       "AQAAAAAAAIiJzwAAAAAAAADExGcAAAAAAAAAYuIzAAAAAAAAADHxGQAAAAAAAIDY0T0AAIBJVveA\n",
       "cmsN/M3b2T2h3LynvG37fnVPoMDEd3vkGTbwWzXz7QYAgNdz8xkAAAAAAACAmPgMAAAAAAAAQEx8\n",
       "BgAAAAAAACAmPgMAAAAAAAAQE58BAAAAAAAAiInPAAAAAAAAAMTEZwAAAAAAAABi4jMAAAAAAAAA\n",
       "MfEZAAAAAAAAgJj4DAAAAAAAAEBMfAYAAAAAAAAgJj4DAAAAAAAAEBOfAQAAAAAAAIiJzwAAAAAA\n",
       "AADEju4BAABwb6t7QLlrO7snUOB4eM7c08wzbN63CgAAeA03nwEAAAAAAACIic8AAAAAAAAAxMRn\n",
       "AAAAAAAAAGLiMwAAAAAAAAAx8RkAAAAAAACAmPgMAAAAAAAAQEx8BgAAAAAAACAmPgMAAAAAAAAQ\n",
       "E58BAAAAAAAAiInPAAAAAAAAAMTEZwAAAAAAAABi4jMAAAAAAAAAMfEZAAAAAAAAgNjRPQAAgEFW\n",
       "94B6a7u6J5S7Bv7mNfDd3vezewIFJr7bI8+wgb954t8kAABQwc1nAAAAAAAAAGLiMwAAAAAAAAAx\n",
       "8RkAAAAAAACAmPgMAAAAAAAAQEx8BgAAAAAAACAmPgMAAAAAAAAQE58BAAAAAAAAiInPAAAAAAAA\n",
       "AMTEZwAAAAAAAABi4jMAAAAAAAAAMfEZAAAAAAAAgJj4DAAAAAAAAEBMfAYAAAAAAAAgdnQPAABg\n",
       "ktU9oN6a95uv7eyeUG7eU962fZ/3nCea+G5PPMMmfqtmvt0AAPB6bj4DAAAAAAAAEBOfAQAAAAAA\n",
       "AIiJzwAAAAAAAADExGcAAAAAAAAAYuIzAAAAAAAAADHxGQAAAAAAAICY+AwAAAAAAABATHwGAAAA\n",
       "AAAAICY+AwAAAAAAABATnwEAAAAAAACIic8AAAAAAAAAxMRnAAAAAAAAAGLiMwAAAAAAAAAx8RkA\n",
       "AAAAAACA2NE9AAAA7m11Dyh3bWf3hHLznvK2Hce85zzRxHd74hk280kDAACv4OYzAAAAAAAAADHx\n",
       "GQAAAAAAAICY+AwAAAAAAABATHwGAAAAAAAAICY+AwAAAAAAABATnwEAAAAAAACIic8AAAAAAAAA\n",
       "xMRnAAAAAAAAAGLiMwAAAAAAAAAx8RkAAAAAAACAmPgMAAAAAAAAQEx8BgAAAAAAACAmPgMAAAAA\n",
       "AAAQO7oHAADAna1tdU8od61n94Ry17zHvO37vOc80cR3e+IZNvFbBQAAvIabzwAAAAAAAADExGcA\n",
       "AAAAAAAAYuIzAAAAAAAAADHxGQAAAAAAAICY+AwAAAAAAABATHwGAAAAAAAAICY+AwAAAAAAABAT\n",
       "nwEAAAAAAACIic8AAAAAAAAAxMRnAAAAAAAAAGLiMwAAAAAAAAAx8RkAAAAAAACAmPgMAAAAAAAA\n",
       "QOzoHgAAAPd2dQ8od21n94Ryq3tAg/2bZ/cECkx8tyeeYRO/VQAAwGu4+QwAAAAAAABATHwGAAAA\n",
       "AAAAICY+AwAAAAAAABATnwEAAAAAAACIic8AAAAAAAAAxMRnAAAAAAAAAGLiMwAAAAAAAAAx8RkA\n",
       "AAAAAACAmPgMAAAAAAAAQEx8BgAAAAAAACAmPgMAAAAAAAAQE58BAAAAAAAAiInPAAAAAAAAAMTE\n",
       "ZwAAAAAAAABiR/cAAAAmWd0D6q15v/laZ/eEcte8x7wdx7N7AgUmvtsTz7CJ36qRf5MAAEABN58B\n",
       "AAAAAAAAiInPAAAAAAAAAMTEZwAAAAAAAABi4jMAAAAAAAAAMfEZAAAAAAAAgJj4DAAAAAAAAEBM\n",
       "fAYAAAAAAAAgJj4DAAAAAAAAEBOfAQAAAAAAAIiJzwAAAAAAAADExGcAAAAAAAAAYuIzAAAAAAAA\n",
       "ADHxGQAAAAAAAIDY0T0AAADubXUPKLe2Z/eEcte8x7zt38x7zhNNfLcnnmETv1UAAMBruPkMAAAA\n",
       "AAAAQEx8BgAAAAAAACAmPgMAAAAAAAAQE58BAAAAAAAAiInPAAAAAAAAAMTEZwAAAAAAAABi4jMA\n",
       "AAAAAAAAMfEZAAAAAAAAgJj4DAAAAAAAAEBMfAYAAAAAAAAgJj4DAAAAAAAAEBOfAQAAAAAAAIiJ\n",
       "zwAAAAAAAADExGcAAAAAAAAAYkf3AAAA5ljdA1rM+9XXOrsnlDvnPeZt//bZPYECE9/tiWfYGvit\n",
       "mveLAQCghpvPAAAAAAAAAMTEZwAAAAAAAABi4jMAAAAAAAAAMfEZAAAAAAAAgJj4DAAAAAAAAEBM\n",
       "fAYAAAAAAAAgJj4DAAAAAAAAEBOfAQAAAAAAAIiJzwAAAAAAAADExGcAAAAAAAAAYuIzAAAAAAAA\n",
       "ADHxGQAAAAAAAICY+AwAAAAAAABA7OgeAAAA97a6B5S71rN7Qrlz3mPe9m/fuydQYOK7PfEMm/it\n",
       "AgAAXsPNZwAAAAAAAABi4jMAAAAAAAAAMfEZAAAAAAAAgJj4DAAAAAAAAEBMfAYAAAAAAAAgJj4D\n",
       "AAAAAAAAEBOfAQAAAAAAAIiJzwAAAAAAAADExGcAAAAAAAAAYuIzAAAAAAAAADHxGQAAAAAAAICY\n",
       "+AwAAAAAAABATHwGAAAAAAAAIHZ0DwAAgHtb3QPKXevZPaHcOe8xb/t3b90TKDDx3Z54hk38VgEA\n",
       "AK/h5jMAAAAAAAAAMfEZAAAAAAAAgJj4DAAAAAAAAEBMfAYAAAAAAAAgJj4DAAAAAAAAEBOfAQAA\n",
       "AAAAAIiJzwAAAAAAAADExGcAAAAAAAAAYuIzAAAAAAAAADHxGQAAAAAAAICY+AwAAAAAAABATHwG\n",
       "AAAAAAAAICY+AwAAAAAAABATnwEAAAAAAACIHd0DAACAe7nW2T2h3PPqXlBv/+6tewIFJr7bE88w\n",
       "AACAj+LmMwAAAAAAAAAx8RkAAAAAAACAmPgMAAAAAAAAQEx8BgAAAAAAACAmPgMAAAAAAAAQE58B\n",
       "AAAAAAAAiInPAAAAAAAAAMTEZwAAAAAAAABi4jMAAAAAAAAAMfEZAAAAAAAAgJj4DAAAAAAAAEBM\n",
       "fAYAAAAAAAAgJj4DAAAAAAAAEDu6BwAAwL2t7gHlrvXsnlDuOe8xb4+/vXVPoMDEd3viGTbxWwUA\n",
       "ALyGm88AAAAAAAAAxMRnAAAAAAAAAGLiMwAAAAAAAAAx8RkAAAAAAACAmPgMAAAAAAAAQEx8BgAA\n",
       "AAAAACAmPgMAAAAAAAAQE58BAAAAAAAAiInPAAAAAAAAAMTEZwAAAAAAAABi4jMAAAAAAAAAMfEZ\n",
       "AAAAAAAAgJj4DAAAAAAAAEBMfAYAAAAAAAAgdnQPAACAW1ure0G5tZ3dE8q9X/Oe8+P7t+4JFJj4\n",
       "bk88wyZ+qwAAgNdw8xkAAAAAAACAmPgMAAAAAAAAQEx8BgAAAAAAACAmPgMAAAAAAAAQE58BAAAA\n",
       "AAAAiInPAAAAAAAAAMTEZwAAAAAAAABi4jMAAAAAAAAAMfEZAAAAAAAAgJj4DAAAAAAAAEBMfAYA\n",
       "AAAAAAAgJj4DAAAAAAAAEBOfAQAAAAAAAIgd3QMAAIB7WevZPaHc+7W6J5R7/DDvOU808d2eeIYB\n",
       "AAB8FDefAQAAAAAAAIiJzwAAAAAAAADExGcAAAAAAAAAYuIzAAAAAAAAADHxGQAAAAAAAICY+AwA\n",
       "AAAAAABATHwGAAAAAAAAICY+AwAAAAAAABATnwEAAAAAAACIic8AAAAAAAAAxMRnAAAAAAAAAGLi\n",
       "MwAAAAAAAAAx8RkAAAAAAACA2NE9AAAAuJe1zu4J5d7W1T2h3Kcf/V/mCSa+2xPPMAAAgI/iXwsA\n",
       "AAAAAAAAiInPAAAAAAAAAMTEZwAAAAAAAABi4jMAAAAAAAAAMfEZAAAAAAAAgJj4DAAAAAAAAEBM\n",
       "fAYAAAAAAAAgJj4DAAAAAAAAEBOfAQAAAAAAAIiJzwAAAAAAAADExGcAAAAAAAAAYuIzAAAAAAAA\n",
       "ADHxGQAAAAAAAICY+AwAAAAAAABA7OgeAAAA97a6B5Rb6+yeUO7Pgb95+/H77gUUmPhuTzzDJn6r\n",
       "AACA13DzGQAAAAAAAICY+AwAAAAAAABATHwGAAAAAAAAICY+AwAAAAAAABATnwEAAAAAAACIic8A\n",
       "AAAAAAAAxMRnAAAAAAAAAGLiMwAAAAAAAAAx8RkAAAAAAACAmPgMAAAAAAAAQEx8BgAAAAAAACAm\n",
       "PgMAAAAAAAAQE58BAAAAAAAAiB3dAwAA4M5W94AGazu7J5T7ut67J5Rbnz93T6DAyHd74Bk28VsF\n",
       "AAC8hpvPAAAAAAAAAMTEZwAAAAAAAABi4jMAAAAAAAAAMfEZAAAAAAAAgJj4DAAAAAAAAEBMfAYA\n",
       "AAAAAAAgJj4DAAAAAAAAEBOfAQAAAAAAAIiJzwAAAAAAAADExGcAAAAAAAAAYuIzAAAAAAAAADHx\n",
       "GQAAAAAAAICY+AwAAAAAAABATHwGAAAAAAAAIHZ0DwAAAG5mnd0Lyn399P/uCeWuzz93T6DAxHd7\n",
       "4hkGAADwUdx8BgAAAAAAACAmPgMAAAAAAAAQE58BAAAAAAAAiInPAAAAAAAAAMTEZwAAAAAAAABi\n",
       "4jMAAAAAAAAAMfEZAAAAAAAAgJj4DAAAAAAAAEBMfAYAAAAAAAAgJj4DAAAAAAAAEBOfAQAAAAAA\n",
       "AIiJzwAAAAAAAADExGcAAAAAAAAAYkf3AAAA4F7WdnZPKPfl8b/uCeXOn37pnkCBie/2xDMMAADg\n",
       "o7j5DAAAAAAAAEBMfAYAAAAAAAAgYVTAcwAAAnJJREFUJj4DAAAAAAAAEBOfAQAAAAAAAIiJzwAA\n",
       "AAAAAADExGcAAAAAAAAAYuIzAAAAAAAAADHxGQAAAAAAAICY+AwAAAAAAABATHwGAAAAAAAAICY+\n",
       "AwAAAAAAABATnwEAAAAAAACIic8AAAAAAAAAxI7uAQAAwM2s1b2g3Jftv90Typ0//9o9gQJftt+6\n",
       "J9QbeIYBAAB8FDefAQAAAAAAAIiJzwAAAAAAAADExGcAAAAAAAAAYuIzAAAAAAAAADHxGQAAAAAA\n",
       "AICY+AwAAAAAAABATHwGAAAAAAAAICY+AwAAAAAAABATnwEAAAAAAACIic8AAAAAAAAAxMRnAAAA\n",
       "AAAAAGLiMwAAAAAAAAAx8RkAAAAAAACAmPgMAAAAAAAAQOzoHgAAANzN6h5Q7o/zP90Tyq1//Kt7\n",
       "AgX+OP/dPaHBvDMMAADgo7j5DAAAAAAAAEBMfAYAAAAAAAAgJj4DAAAAAAAAEBOfAQAAAAAAAIiJ\n",
       "zwAAAAAAAADExGcAAAAAAAAAYuIzAAAAAAAAADHxGQAAAAAAAICY+AwAAAAAAABATHwGAAAAAAAA\n",
       "ICY+AwAAAAAAABATnwEAAAAAAACIic8AAAAAAAAAxI7uAQAAwL2sbXVPKPf1/ffuCeV++Ps/uydQ\n",
       "YOK7PfEMAwAA+ChuPgMAAAAAAAAQE58BAAAAAAAAiInPAAAAAAAAAMTEZwAAAAAAAABi4jMAAAAA\n",
       "AAAAMfEZAAAAAAAAgJj4DAAAAAAAAEBMfAYAAAAAAAAgJj4DAAAAAAAAEBOfAQAAAAAAAIiJzwAA\n",
       "AAAAAADExGcAAAAAAAAAYuIzAAAAAAAAALG/AKTqazJfNsg/AAAAAElFTkSuQmCC\n",
       "\" transform=\"translate(162, 47)\"/>\n",
       "</g>\n",
       "<defs>\n",
       "  <clipPath id=\"clip433\">\n",
       "    <rect x=\"2160\" y=\"47\" width=\"73\" height=\"1440\"/>\n",
       "  </clipPath>\n",
       "</defs>\n",
       "<g clip-path=\"url(#clip433)\">\n",
       "<image width=\"72\" height=\"1439\" xlink:href=\"data:image/png;base64,\n",
       "iVBORw0KGgoAAAANSUhEUgAAAEgAAAWfCAYAAAAI7rB3AAAMWUlEQVR4nO3dwY0rRxAFwaZQ/lsh\n",
       "L6XfLQtUeSQPERYsEg8c9MyQ+/n3/v0O/+uvb/8Bv06gIFAQKAgU5r5/v/03/DQLCgIFgYJAQaAw\n",
       "7/359t/w0ywoCBQECgIFR41gQUGgIFAQKAgU5rmKrSwoCBQECgIFgcK86yq2saAgUBAoCBQcNYIF\n",
       "BYGCQEGgIFBwFQsWFAQKAgWBgvtBwYKCQEGgIFAQKMxx1FhZUBAoCBQECgIFN8yCBQWBgkBBoDDH\n",
       "DbOVBQWBgkBBoCBQmHP/+fbf8NMsKAgUBAoCBYGCxz7BgoJAQaAgUHDDLFhQECgIFAQKAgVXsWBB\n",
       "QaAgUBAouB8ULCgIFAQKAgWBwnwcNVYWFAQKAgWBgkBhzvWfWTYWFAQKAgWBgqNGsKAgUBAoCBQE\n",
       "Co4awYKCQEGgIFAQKHjDLFhQECgIFAQK83HUWFlQECgIFAQKAgXvSQcLCgIFgYJAwVEjWFAQKAgU\n",
       "BAoCBc/mgwUFgYJAQaAgUHAWCxYUBAoCBYGCo0awoCBQECgIFAQKjhrBgoJAQaAgUBAozLn323/D\n",
       "T7OgIFAQKAgUHDWCBQWBgkBBoCBQ8NgnWFAQKAgUBAo+pIMFBYGCQEGgIFCYj6caKwsKAgWBgkBB\n",
       "oOAsFiwoCBQECgIFL1AFCwoCBYGCQEGg4IZZsKAgUBAoCBTcDwoWFAQKAgWBgkDBDbNgQUGgIFAQ\n",
       "KAgUXMWCBQWBgkBBoOB788GCgkBBoCBQECg4agQLCgIFgYJAQaDgKhYsKAgUBAoCBR/SwYKCQEGg\n",
       "IFAQKLiKBQsKAgWBgkBhzvMhvbGgIFAQKAgUBAqOGsGCgkBBoCBQECi4igULCgIFgYJAwYd0sKAg\n",
       "UBAoCBQECnPu+/bf8NMsKAgUBAoCBYGCs1iwoCBQECgIFBw1ggUFgYJAQaAgUHDUCBYUBAoCBYGC\n",
       "o0awoCBQECgIFAQKc5w0VhYUBAoCBYGCQGHOcxbbWFAQKAgUBAqOGsGCgkBBoCBQECi4igULCgIF\n",
       "gYJAQaAwfohzZ0FBoCBQECg4agQLCgIFgYJAQaDgKhYsKAgUBAoChTn38+2/4adZUBAoCBQECgKF\n",
       "ec9VbGNBQaAgUBAoCBTcMAsWFAQKAgWBghtmwYKCQEGgIFAQKMy7Gm3UCQIFgYJAwVEjWFAQKAgU\n",
       "BAoChTmeza8sKAgUBAoCBYHCPGexlQUFgYJAQaAwx1ONlTpBoCBQECgIFBw1ggUFgYJAQaAgUPDY\n",
       "J1hQECgIFAQKXgMO6gSBgkBBoCBQ8J50sKAgUBAoCBQ81QgWFAQKAgWBgkBh3tNoo04QKAgUBAoC\n",
       "BTfMggUFgYJAQaDghlmwoCBQECgIFAQKc9wwW6kTBAoCBYGCQMFZLFhQECgIFAQKPqSDBQWBgkBB\n",
       "oCBQ8L35YEFBoCBQECj43nxQJwgUBAoCBYHCPEeNlQUFgYJAQaAgUPDYJ1hQECgIFAQK/jNLUCcI\n",
       "FAQKAgWBghtmwYKCQEGgIFAQKLhhFiwoCBQECgIFR41gQUGgIFAQKAgUvCcd1AkCBYGCQMFRI1hQ\n",
       "ECgIFAQKAgVPNYIFBYGCQEGgIFBwFgsWFAQKAgWBgn+fFSwoCBQECgIFgYJ/ZRzUCQIFgYJAQaDg\n",
       "hlmwoCBQECgIFDybDxYUBAoCBYGCQMFRI1hQECgIFAQKc31IrywoCBQECgIFgYLvzQd1gkBBoCBQ\n",
       "ECi4YRYsKAgUBAoCBR/SwYKCQEGgIFAQKHjDLFhQECgIFAQKjhrBgoJAQaAgUBAouIoFCwoCBYGC\n",
       "QEGg4NdfgjpBoCBQECjM9VRjZUFBoCBQECgIFNwwCxYUBAoCBYGCQMFVLFhQECgIFAQKPqSDBQWB\n",
       "gkBBoCBQ8BtmwYKCQEGgIFBw1AgWFAQKAgWBgkDBVSxYUBAoCBQECgIFX2YJ6gSBgkBBoODLLMGC\n",
       "gkBBoCBQECi4YRYsKAgUBAoCBYGCq1iwoCBQECgIFLwGHCwoCBQECgIFgYKjRrCgIFAQKAgU5h0f\n",
       "0hsLCgIFgYJAQaDghlmwoCBQECgIFAQKbpgFCwoCBYGCQMFRI1hQECgIFAQKAgVHjWBBQaAgUBAo\n",
       "CBScxYIFBYGCQEGg4KgRLCgIFAQKAgWBgqtYsKAgUBAoCBTm+jLLyoKCQEGgIFAQKDhqBAsKAgWB\n",
       "gkBBoODZfLCgIFAQKAgU5r1v/wm/zYKCQEGgIFAQKDhqBAsKAgWBgkDBD00GCwoCBYGCQEGg4KgR\n",
       "LCgIFAQKAgWBgjfMggUFgYJAQaDgyyzBgoJAQaAgUBAoeMMsWFAQKAgUBAoCBY99ggUFgYJAQaDg\n",
       "qUawoCBQECgIFAQKHvsECwoCBYGCQMH9oGBBQaAgUBAoCBQ8mw8WFAQKAgWBgkDBDbNgQUGgIFAQ\n",
       "KHg2HywoCBQECgIFgcLcb/8FP86CgkBBoCBQECg4iwULCgIFgYJAwRtmwYKCQEGgIFAQKLhhFiwo\n",
       "CBQECgIF94OCBQWBgkBBoCBQcNQIFhQECgIFgYJAwVksWFAQKAgUBAqezQcLCgIFgYJAQaAwfvxl\n",
       "Z0FBoCBQECgIFJzFggUFgYJAQaDg2XywoCBQECgIFAQKns0HCwoCBYGCQMFRI1hQECgIFAQKAgVH\n",
       "jWBBQaAgUBAoCBTmesVsZUFBoCBQECi4YRYsKAgUBAoCBYGCG2bBgoJAQaAgUHDUCBYUBAoCBYGC\n",
       "QGGepxorCwoCBYGCQEGgMPe4YbaxoCBQECgIFLxAFSwoCBQECgIFgYIfmgwWFAQKAgWBgkDBD00G\n",
       "CwoCBYGCQMGz+WBBQaAgUBAoCBS8Jx0sKAgUBAoCBd84DBYUBAoCBYGCQMFRI1hQECgIFAQKAgXv\n",
       "SQcLCgIFgYJAwWvAwYKCQEGgIFAQKDhqBAsKAgWBgkBBoOA96WBBQaAgUBAo+ImuYEFBoCBQECgI\n",
       "FNwwCxYUBAoCBYGCZ/PBgoJAQaAgUBAoOGoECwoCBYGCQEGg4CwWLCgIFAQKAgVHjWBBQaAgUBAo\n",
       "CBRcxYIFBYGCQEGgIFBwwyxYUBAoCBQECo4awYKCQEGgIFAQKDhqBAsKAgWBgkDBUSNYUBAoCBQE\n",
       "CgIFP9EVLCgIFAQKAgWBgv8vFiwoCBQECgIFN8yCBQWBgkBBoCBQmHdcxjYWFAQKAgWBgkDBWSxY\n",
       "UBAoCBQECp7NBwsKAgWBgkBBoODZfLCgIFAQKAgU3A8KFhQECgIFgYJAwbP5YEFBoCBQECgIFJzF\n",
       "ggUFgYJAQaDgJ7qCBQWBgkBBoCBQmOsVs5UFBYGCQEGg4AWqYEFBoCBQECgIFOY5aqwsKAgUBAoC\n",
       "BYGCs1iwoCBQECgIFDzVCBYUBAoCBYGCQMEbZsGCgkBBoCBQECjM9ZXMlQUFgYJAQaDghlmwoCBQ\n",
       "ECgIFAQKfv0lWFAQKAgUBApeoAoWFAQKAgWBgkDBU41gQUGgIFAQKAgU3DALFhQECgIFgcLc45bZ\n",
       "xoKCQEGgIFAQKLhhFiwoCBQECgIFgYKrWLCgIFAQKAgUPNUIFhQECgIFgYJAwWOfYEFBoCBQECjM\n",
       "/ThqbCwoCBQECgIFgYKjRrCgIFAQKAgUBArzXMVWFhQECgIFgYKjRrCgIFAQKAgUBApzP65iGwsK\n",
       "AgWBgkBBoOAsFiwoCBQECgIFTzWCBQWBgkBBoCBQcNQIFhQECgIFgYIP6WBBQaAgUBAoCBQ8mw8W\n",
       "FAQKAgWBgkBh3vnz7b/hp1lQECgIFAQKbpgFCwoCBYGCQEGg4A2zYEFBoCBQECjMfe4HbSwoCBQE\n",
       "CgIFgYKjRrCgIFAQKAgUBApzPZtfWVAQKAgUBAqOGsGCgkBBoCBQECg4agQLCgIFgYJAQaAw7zmL\n",
       "bSwoCBQECgIFN8yCBQWBgkBBoCBQ8J50sKAgUBAoCBQcNYIFBYGCQEGgIFCY56ixsqAgUBAoCBQE\n",
       "Cs5iwYKCQEGgIFCY6wWqlQUFgYJAQaAgUPCb9sGCgkBBoCBQECj4MkuwoCBQECgIFDzVCBYUBAoC\n",
       "BYGCQMFRI1hQECgIFAQKPqSDBQWBgkBBoCBQ8Gw+WFAQKAgUBAoCBWexYEFBoCBQECjM8Wx+ZUFB\n",
       "oCBQECgIFBw1ggUFgYJAQaAgUPCedLCgIFAQKAgU5jhqrCwoCBQECgIFgYI3zIIFBYGCQEGg4Nl8\n",
       "sKAgUBAoCBQECm6YBQsKAgWBgkBBoDDvvG//DT/NgoJAQaAgUHDDLFhQECgIFAQKAoU5jhorCwoC\n",
       "BYGCQOE/LrLuTX/wFc8AAAAASUVORK5CYII=\n",
       "\" transform=\"translate(2161, 47)\"/>\n",
       "</g>\n",
       "<path clip-path=\"url(#clip430)\" d=\"M 0 0 M2280.7 1468.62 Q2277.09 1468.62 2275.26 1472.18 Q2273.45 1475.72 2273.45 1482.85 Q2273.45 1489.96 2275.26 1493.53 Q2277.09 1497.07 2280.7 1497.07 Q2284.33 1497.07 2286.14 1493.53 Q2287.97 1489.96 2287.97 1482.85 Q2287.97 1475.72 2286.14 1472.18 Q2284.33 1468.62 2280.7 1468.62 M2280.7 1464.91 Q2286.51 1464.91 2289.57 1469.52 Q2292.64 1474.1 2292.64 1482.85 Q2292.64 1491.58 2289.57 1496.19 Q2286.51 1500.77 2280.7 1500.77 Q2274.89 1500.77 2271.81 1496.19 Q2268.76 1491.58 2268.76 1482.85 Q2268.76 1474.1 2271.81 1469.52 Q2274.89 1464.91 2280.7 1464.91 Z\" fill=\"#000000\" fill-rule=\"evenodd\" fill-opacity=\"1\" /><path clip-path=\"url(#clip430)\" d=\"M 0 0 M2280.7 1319 Q2277.09 1319 2275.26 1322.56 Q2273.45 1326.1 2273.45 1333.23 Q2273.45 1340.34 2275.26 1343.9 Q2277.09 1347.45 2280.7 1347.45 Q2284.33 1347.45 2286.14 1343.9 Q2287.97 1340.34 2287.97 1333.23 Q2287.97 1326.1 2286.14 1322.56 Q2284.33 1319 2280.7 1319 M2280.7 1315.29 Q2286.51 1315.29 2289.57 1319.9 Q2292.64 1324.48 2292.64 1333.23 Q2292.64 1341.96 2289.57 1346.57 Q2286.51 1351.15 2280.7 1351.15 Q2274.89 1351.15 2271.81 1346.57 Q2268.76 1341.96 2268.76 1333.23 Q2268.76 1324.48 2271.81 1319.9 Q2274.89 1315.29 2280.7 1315.29 Z\" fill=\"#000000\" fill-rule=\"evenodd\" fill-opacity=\"1\" /><path clip-path=\"url(#clip430)\" d=\"M 0 0 M2297.71 1344.6 L2302.6 1344.6 L2302.6 1350.48 L2297.71 1350.48 L2297.71 1344.6 Z\" fill=\"#000000\" fill-rule=\"evenodd\" fill-opacity=\"1\" /><path clip-path=\"url(#clip430)\" d=\"M 0 0 M2308.48 1346.54 L2316.12 1346.54 L2316.12 1320.18 L2307.81 1321.84 L2307.81 1317.59 L2316.07 1315.92 L2320.75 1315.92 L2320.75 1346.54 L2328.39 1346.54 L2328.39 1350.48 L2308.48 1350.48 L2308.48 1346.54 Z\" fill=\"#000000\" fill-rule=\"evenodd\" fill-opacity=\"1\" /><path clip-path=\"url(#clip430)\" d=\"M 0 0 M2280.7 1169.38 Q2277.09 1169.38 2275.26 1172.94 Q2273.45 1176.48 2273.45 1183.61 Q2273.45 1190.72 2275.26 1194.28 Q2277.09 1197.83 2280.7 1197.83 Q2284.33 1197.83 2286.14 1194.28 Q2287.97 1190.72 2287.97 1183.61 Q2287.97 1176.48 2286.14 1172.94 Q2284.33 1169.38 2280.7 1169.38 M2280.7 1165.67 Q2286.51 1165.67 2289.57 1170.28 Q2292.64 1174.86 2292.64 1183.61 Q2292.64 1192.34 2289.57 1196.95 Q2286.51 1201.53 2280.7 1201.53 Q2274.89 1201.53 2271.81 1196.95 Q2268.76 1192.34 2268.76 1183.61 Q2268.76 1174.86 2271.81 1170.28 Q2274.89 1165.67 2280.7 1165.67 Z\" fill=\"#000000\" fill-rule=\"evenodd\" fill-opacity=\"1\" /><path clip-path=\"url(#clip430)\" d=\"M 0 0 M2297.71 1194.98 L2302.6 1194.98 L2302.6 1200.86 L2297.71 1200.86 L2297.71 1194.98 Z\" fill=\"#000000\" fill-rule=\"evenodd\" fill-opacity=\"1\" /><path clip-path=\"url(#clip430)\" d=\"M 0 0 M2311.7 1196.92 L2328.01 1196.92 L2328.01 1200.86 L2306.07 1200.86 L2306.07 1196.92 Q2308.73 1194.17 2313.32 1189.54 Q2317.92 1184.89 2319.1 1183.54 Q2321.35 1181.02 2322.23 1179.28 Q2323.13 1177.53 2323.13 1175.84 Q2323.13 1173.08 2321.19 1171.34 Q2319.26 1169.61 2316.16 1169.61 Q2313.96 1169.61 2311.51 1170.37 Q2309.08 1171.14 2306.3 1172.69 L2306.3 1167.97 Q2309.13 1166.83 2311.58 1166.25 Q2314.03 1165.67 2316.07 1165.67 Q2321.44 1165.67 2324.64 1168.36 Q2327.83 1171.04 2327.83 1175.53 Q2327.83 1177.66 2327.02 1179.59 Q2326.23 1181.48 2324.13 1184.08 Q2323.55 1184.75 2320.45 1187.97 Q2317.34 1191.16 2311.7 1196.92 Z\" fill=\"#000000\" fill-rule=\"evenodd\" fill-opacity=\"1\" /><path clip-path=\"url(#clip430)\" d=\"M 0 0 M2280.7 1019.76 Q2277.09 1019.76 2275.26 1023.32 Q2273.45 1026.86 2273.45 1033.99 Q2273.45 1041.1 2275.26 1044.66 Q2277.09 1048.21 2280.7 1048.21 Q2284.33 1048.21 2286.14 1044.66 Q2287.97 1041.1 2287.97 1033.99 Q2287.97 1026.86 2286.14 1023.32 Q2284.33 1019.76 2280.7 1019.76 M2280.7 1016.05 Q2286.51 1016.05 2289.57 1020.66 Q2292.64 1025.24 2292.64 1033.99 Q2292.64 1042.72 2289.57 1047.33 Q2286.51 1051.91 2280.7 1051.91 Q2274.89 1051.91 2271.81 1047.33 Q2268.76 1042.72 2268.76 1033.99 Q2268.76 1025.24 2271.81 1020.66 Q2274.89 1016.05 2280.7 1016.05 Z\" fill=\"#000000\" fill-rule=\"evenodd\" fill-opacity=\"1\" /><path clip-path=\"url(#clip430)\" d=\"M 0 0 M2297.71 1045.36 L2302.6 1045.36 L2302.6 1051.24 L2297.71 1051.24 L2297.71 1045.36 Z\" fill=\"#000000\" fill-rule=\"evenodd\" fill-opacity=\"1\" /><path clip-path=\"url(#clip430)\" d=\"M 0 0 M2321.83 1032.6 Q2325.19 1033.32 2327.07 1035.59 Q2328.96 1037.86 2328.96 1041.19 Q2328.96 1046.31 2325.45 1049.11 Q2321.93 1051.91 2315.45 1051.91 Q2313.27 1051.91 2310.95 1051.47 Q2308.66 1051.05 2306.21 1050.2 L2306.21 1045.68 Q2308.15 1046.82 2310.47 1047.4 Q2312.78 1047.97 2315.31 1047.97 Q2319.7 1047.97 2322 1046.24 Q2324.31 1044.5 2324.31 1041.19 Q2324.31 1038.14 2322.16 1036.42 Q2320.03 1034.69 2316.21 1034.69 L2312.18 1034.69 L2312.18 1030.85 L2316.39 1030.85 Q2319.84 1030.85 2321.67 1029.48 Q2323.5 1028.09 2323.5 1025.5 Q2323.5 1022.84 2321.6 1021.42 Q2319.73 1019.99 2316.21 1019.99 Q2314.29 1019.99 2312.09 1020.41 Q2309.89 1020.82 2307.25 1021.7 L2307.25 1017.53 Q2309.91 1016.79 2312.23 1016.42 Q2314.57 1016.05 2316.63 1016.05 Q2321.95 1016.05 2325.05 1018.48 Q2328.15 1020.89 2328.15 1025.01 Q2328.15 1027.88 2326.51 1029.87 Q2324.87 1031.84 2321.83 1032.6 Z\" fill=\"#000000\" fill-rule=\"evenodd\" fill-opacity=\"1\" /><path clip-path=\"url(#clip430)\" d=\"M 0 0 M2280.7 870.137 Q2277.09 870.137 2275.26 873.702 Q2273.45 877.243 2273.45 884.373 Q2273.45 891.479 2275.26 895.044 Q2277.09 898.586 2280.7 898.586 Q2284.33 898.586 2286.14 895.044 Q2287.97 891.479 2287.97 884.373 Q2287.97 877.243 2286.14 873.702 Q2284.33 870.137 2280.7 870.137 M2280.7 866.433 Q2286.51 866.433 2289.57 871.04 Q2292.64 875.623 2292.64 884.373 Q2292.64 893.1 2289.57 897.706 Q2286.51 902.29 2280.7 902.29 Q2274.89 902.29 2271.81 897.706 Q2268.76 893.1 2268.76 884.373 Q2268.76 875.623 2271.81 871.04 Q2274.89 866.433 2280.7 866.433 Z\" fill=\"#000000\" fill-rule=\"evenodd\" fill-opacity=\"1\" /><path clip-path=\"url(#clip430)\" d=\"M 0 0 M2297.71 895.739 L2302.6 895.739 L2302.6 901.618 L2297.71 901.618 L2297.71 895.739 Z\" fill=\"#000000\" fill-rule=\"evenodd\" fill-opacity=\"1\" /><path clip-path=\"url(#clip430)\" d=\"M 0 0 M2320.51 871.132 L2308.71 889.581 L2320.51 889.581 L2320.51 871.132 M2319.29 867.058 L2325.17 867.058 L2325.17 889.581 L2330.1 889.581 L2330.1 893.47 L2325.17 893.47 L2325.17 901.618 L2320.51 901.618 L2320.51 893.47 L2304.91 893.47 L2304.91 888.956 L2319.29 867.058 Z\" fill=\"#000000\" fill-rule=\"evenodd\" fill-opacity=\"1\" /><path clip-path=\"url(#clip430)\" d=\"M 0 0 M2280.7 720.517 Q2277.09 720.517 2275.26 724.082 Q2273.45 727.623 2273.45 734.753 Q2273.45 741.859 2275.26 745.424 Q2277.09 748.966 2280.7 748.966 Q2284.33 748.966 2286.14 745.424 Q2287.97 741.859 2287.97 734.753 Q2287.97 727.623 2286.14 724.082 Q2284.33 720.517 2280.7 720.517 M2280.7 716.813 Q2286.51 716.813 2289.57 721.419 Q2292.64 726.003 2292.64 734.753 Q2292.64 743.48 2289.57 748.086 Q2286.51 752.669 2280.7 752.669 Q2274.89 752.669 2271.81 748.086 Q2268.76 743.48 2268.76 734.753 Q2268.76 726.003 2271.81 721.419 Q2274.89 716.813 2280.7 716.813 Z\" fill=\"#000000\" fill-rule=\"evenodd\" fill-opacity=\"1\" /><path clip-path=\"url(#clip430)\" d=\"M 0 0 M2297.71 746.118 L2302.6 746.118 L2302.6 751.998 L2297.71 751.998 L2297.71 746.118 Z\" fill=\"#000000\" fill-rule=\"evenodd\" fill-opacity=\"1\" /><path clip-path=\"url(#clip430)\" d=\"M 0 0 M2307.71 717.438 L2326.07 717.438 L2326.07 721.373 L2312 721.373 L2312 729.845 Q2313.01 729.498 2314.03 729.336 Q2315.05 729.151 2316.07 729.151 Q2321.86 729.151 2325.24 732.322 Q2328.62 735.493 2328.62 740.91 Q2328.62 746.489 2325.14 749.591 Q2321.67 752.669 2315.35 752.669 Q2313.18 752.669 2310.91 752.299 Q2308.66 751.929 2306.26 751.188 L2306.26 746.489 Q2308.34 747.623 2310.56 748.179 Q2312.78 748.734 2315.26 748.734 Q2319.26 748.734 2321.6 746.628 Q2323.94 744.521 2323.94 740.91 Q2323.94 737.299 2321.6 735.193 Q2319.26 733.086 2315.26 733.086 Q2313.39 733.086 2311.51 733.503 Q2309.66 733.919 2307.71 734.799 L2307.71 717.438 Z\" fill=\"#000000\" fill-rule=\"evenodd\" fill-opacity=\"1\" /><path clip-path=\"url(#clip430)\" d=\"M 0 0 M2280.7 570.897 Q2277.09 570.897 2275.26 574.461 Q2273.45 578.003 2273.45 585.133 Q2273.45 592.239 2275.26 595.804 Q2277.09 599.345 2280.7 599.345 Q2284.33 599.345 2286.14 595.804 Q2287.97 592.239 2287.97 585.133 Q2287.97 578.003 2286.14 574.461 Q2284.33 570.897 2280.7 570.897 M2280.7 567.193 Q2286.51 567.193 2289.57 571.799 Q2292.64 576.383 2292.64 585.133 Q2292.64 593.859 2289.57 598.466 Q2286.51 603.049 2280.7 603.049 Q2274.89 603.049 2271.81 598.466 Q2268.76 593.859 2268.76 585.133 Q2268.76 576.383 2271.81 571.799 Q2274.89 567.193 2280.7 567.193 Z\" fill=\"#000000\" fill-rule=\"evenodd\" fill-opacity=\"1\" /><path clip-path=\"url(#clip430)\" d=\"M 0 0 M2297.71 596.498 L2302.6 596.498 L2302.6 602.378 L2297.71 602.378 L2297.71 596.498 Z\" fill=\"#000000\" fill-rule=\"evenodd\" fill-opacity=\"1\" /><path clip-path=\"url(#clip430)\" d=\"M 0 0 M2318.25 583.234 Q2315.1 583.234 2313.25 585.387 Q2311.42 587.54 2311.42 591.29 Q2311.42 595.017 2313.25 597.193 Q2315.1 599.345 2318.25 599.345 Q2321.39 599.345 2323.22 597.193 Q2325.08 595.017 2325.08 591.29 Q2325.08 587.54 2323.22 585.387 Q2321.39 583.234 2318.25 583.234 M2327.53 568.582 L2327.53 572.841 Q2325.77 572.008 2323.96 571.568 Q2322.18 571.128 2320.42 571.128 Q2315.79 571.128 2313.34 574.253 Q2310.91 577.378 2310.56 583.697 Q2311.93 581.683 2313.99 580.619 Q2316.05 579.531 2318.52 579.531 Q2323.73 579.531 2326.74 582.702 Q2329.77 585.85 2329.77 591.29 Q2329.77 596.614 2326.63 599.832 Q2323.48 603.049 2318.25 603.049 Q2312.25 603.049 2309.08 598.466 Q2305.91 593.859 2305.91 585.133 Q2305.91 576.938 2309.8 572.077 Q2313.69 567.193 2320.24 567.193 Q2322 567.193 2323.78 567.54 Q2325.58 567.887 2327.53 568.582 Z\" fill=\"#000000\" fill-rule=\"evenodd\" fill-opacity=\"1\" /><path clip-path=\"url(#clip430)\" d=\"M 0 0 M2280.7 421.276 Q2277.09 421.276 2275.26 424.841 Q2273.45 428.383 2273.45 435.512 Q2273.45 442.619 2275.26 446.184 Q2277.09 449.725 2280.7 449.725 Q2284.33 449.725 2286.14 446.184 Q2287.97 442.619 2287.97 435.512 Q2287.97 428.383 2286.14 424.841 Q2284.33 421.276 2280.7 421.276 M2280.7 417.573 Q2286.51 417.573 2289.57 422.179 Q2292.64 426.762 2292.64 435.512 Q2292.64 444.239 2289.57 448.846 Q2286.51 453.429 2280.7 453.429 Q2274.89 453.429 2271.81 448.846 Q2268.76 444.239 2268.76 435.512 Q2268.76 426.762 2271.81 422.179 Q2274.89 417.573 2280.7 417.573 Z\" fill=\"#000000\" fill-rule=\"evenodd\" fill-opacity=\"1\" /><path clip-path=\"url(#clip430)\" d=\"M 0 0 M2297.71 446.878 L2302.6 446.878 L2302.6 452.758 L2297.71 452.758 L2297.71 446.878 Z\" fill=\"#000000\" fill-rule=\"evenodd\" fill-opacity=\"1\" /><path clip-path=\"url(#clip430)\" d=\"M 0 0 M2306.49 418.198 L2328.71 418.198 L2328.71 420.188 L2316.16 452.758 L2311.28 452.758 L2323.08 422.133 L2306.49 422.133 L2306.49 418.198 Z\" fill=\"#000000\" fill-rule=\"evenodd\" fill-opacity=\"1\" /><path clip-path=\"url(#clip430)\" d=\"M 0 0 M2280.7 271.656 Q2277.09 271.656 2275.26 275.221 Q2273.45 278.763 2273.45 285.892 Q2273.45 292.999 2275.26 296.563 Q2277.09 300.105 2280.7 300.105 Q2284.33 300.105 2286.14 296.563 Q2287.97 292.999 2287.97 285.892 Q2287.97 278.763 2286.14 275.221 Q2284.33 271.656 2280.7 271.656 M2280.7 267.952 Q2286.51 267.952 2289.57 272.559 Q2292.64 277.142 2292.64 285.892 Q2292.64 294.619 2289.57 299.225 Q2286.51 303.809 2280.7 303.809 Q2274.89 303.809 2271.81 299.225 Q2268.76 294.619 2268.76 285.892 Q2268.76 277.142 2271.81 272.559 Q2274.89 267.952 2280.7 267.952 Z\" fill=\"#000000\" fill-rule=\"evenodd\" fill-opacity=\"1\" /><path clip-path=\"url(#clip430)\" d=\"M 0 0 M2297.71 297.258 L2302.6 297.258 L2302.6 303.137 L2297.71 303.137 L2297.71 297.258 Z\" fill=\"#000000\" fill-rule=\"evenodd\" fill-opacity=\"1\" /><path clip-path=\"url(#clip430)\" d=\"M 0 0 M2317.67 286.725 Q2314.33 286.725 2312.41 288.508 Q2310.51 290.29 2310.51 293.415 Q2310.51 296.54 2312.41 298.323 Q2314.33 300.105 2317.67 300.105 Q2321 300.105 2322.92 298.323 Q2324.84 296.517 2324.84 293.415 Q2324.84 290.29 2322.92 288.508 Q2321.02 286.725 2317.67 286.725 M2312.99 284.735 Q2309.98 283.994 2308.29 281.934 Q2306.63 279.874 2306.63 276.911 Q2306.63 272.767 2309.57 270.36 Q2312.53 267.952 2317.67 267.952 Q2322.83 267.952 2325.77 270.36 Q2328.71 272.767 2328.71 276.911 Q2328.71 279.874 2327.02 281.934 Q2325.35 283.994 2322.37 284.735 Q2325.75 285.522 2327.62 287.813 Q2329.52 290.105 2329.52 293.415 Q2329.52 298.438 2326.44 301.124 Q2323.39 303.809 2317.67 303.809 Q2311.95 303.809 2308.87 301.124 Q2305.82 298.438 2305.82 293.415 Q2305.82 290.105 2307.71 287.813 Q2309.61 285.522 2312.99 284.735 M2311.28 277.351 Q2311.28 280.036 2312.95 281.54 Q2314.64 283.045 2317.67 283.045 Q2320.68 283.045 2322.37 281.54 Q2324.08 280.036 2324.08 277.351 Q2324.08 274.665 2322.37 273.161 Q2320.68 271.656 2317.67 271.656 Q2314.64 271.656 2312.95 273.161 Q2311.28 274.665 2311.28 277.351 Z\" fill=\"#000000\" fill-rule=\"evenodd\" fill-opacity=\"1\" /><path clip-path=\"url(#clip430)\" d=\"M 0 0 M2280.7 122.036 Q2277.09 122.036 2275.26 125.601 Q2273.45 129.142 2273.45 136.272 Q2273.45 143.378 2275.26 146.943 Q2277.09 150.485 2280.7 150.485 Q2284.33 150.485 2286.14 146.943 Q2287.97 143.378 2287.97 136.272 Q2287.97 129.142 2286.14 125.601 Q2284.33 122.036 2280.7 122.036 M2280.7 118.332 Q2286.51 118.332 2289.57 122.939 Q2292.64 127.522 2292.64 136.272 Q2292.64 144.999 2289.57 149.605 Q2286.51 154.188 2280.7 154.188 Q2274.89 154.188 2271.81 149.605 Q2268.76 144.999 2268.76 136.272 Q2268.76 127.522 2271.81 122.939 Q2274.89 118.332 2280.7 118.332 Z\" fill=\"#000000\" fill-rule=\"evenodd\" fill-opacity=\"1\" /><path clip-path=\"url(#clip430)\" d=\"M 0 0 M2297.71 147.638 L2302.6 147.638 L2302.6 153.517 L2297.71 153.517 L2297.71 147.638 Z\" fill=\"#000000\" fill-rule=\"evenodd\" fill-opacity=\"1\" /><path clip-path=\"url(#clip430)\" d=\"M 0 0 M2307.81 152.8 L2307.81 148.54 Q2309.57 149.374 2311.37 149.814 Q2313.18 150.253 2314.91 150.253 Q2319.54 150.253 2321.97 147.151 Q2324.43 144.027 2324.77 137.684 Q2323.43 139.675 2321.37 140.739 Q2319.31 141.804 2316.81 141.804 Q2311.63 141.804 2308.59 138.679 Q2305.58 135.531 2305.58 130.091 Q2305.58 124.767 2308.73 121.55 Q2311.88 118.332 2317.11 118.332 Q2323.11 118.332 2326.26 122.939 Q2329.43 127.522 2329.43 136.272 Q2329.43 144.443 2325.54 149.327 Q2321.67 154.188 2315.12 154.188 Q2313.36 154.188 2311.56 153.841 Q2309.75 153.494 2307.81 152.8 M2317.11 138.147 Q2320.26 138.147 2322.09 135.994 Q2323.94 133.841 2323.94 130.091 Q2323.94 126.365 2322.09 124.212 Q2320.26 122.036 2317.11 122.036 Q2313.96 122.036 2312.11 124.212 Q2310.28 126.365 2310.28 130.091 Q2310.28 133.841 2312.11 135.994 Q2313.96 138.147 2317.11 138.147 Z\" fill=\"#000000\" fill-rule=\"evenodd\" fill-opacity=\"1\" /><polyline clip-path=\"url(#clip430)\" style=\"stroke:#000000; stroke-width:4; stroke-opacity:1; fill:none\" points=\"\n",
       "  2232.76,1486.45 2232.76,1486.45 2256.76,1486.45 2232.76,1486.45 2232.76,1336.83 2256.76,1336.83 2232.76,1336.83 2232.76,1187.21 2256.76,1187.21 2232.76,1187.21 \n",
       "  2232.76,1037.59 2256.76,1037.59 2232.76,1037.59 2232.76,887.967 2256.76,887.967 2232.76,887.967 2232.76,738.347 2256.76,738.347 2232.76,738.347 2232.76,588.727 \n",
       "  2256.76,588.727 2232.76,588.727 2232.76,439.106 2256.76,439.106 2232.76,439.106 2232.76,289.486 2256.76,289.486 2232.76,289.486 2232.76,139.866 2256.76,139.866 \n",
       "  2232.76,139.866 2232.76,47.2441 \n",
       "  \"/>\n",
       "</svg>\n"
      ]
     },
     "execution_count": 152,
     "metadata": {},
     "output_type": "execute_result"
    }
   ],
   "source": [
    "heatmap(1:32, 1:100, (y,x)->sol[x][y])"
   ]
  },
  {
   "cell_type": "code",
   "execution_count": null,
   "metadata": {},
   "outputs": [],
   "source": []
  }
 ],
 "metadata": {
  "@webio": {
   "lastCommId": null,
   "lastKernelId": null
  },
  "kernelspec": {
   "display_name": "Julia 1.3.1",
   "language": "julia",
   "name": "julia-1.3"
  },
  "language_info": {
   "file_extension": ".jl",
   "mimetype": "application/julia",
   "name": "julia",
   "version": "1.3.1"
  }
 },
 "nbformat": 4,
 "nbformat_minor": 2
}
