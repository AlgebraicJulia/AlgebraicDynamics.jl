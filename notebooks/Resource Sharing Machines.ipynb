{
 "cells": [
  {
   "cell_type": "code",
   "execution_count": 1,
   "metadata": {
    "collapsed": false
   },
   "outputs": [
    {
     "name": "stderr",
     "output_type": "stream",
     "text": [
      "\u001b[32m\u001b[1m Activating\u001b[22m\u001b[39m environment at `~/Documents/Catlab/AlgebraicDynamics.jl/Project.toml`\n"
     ]
    }
   ],
   "source": [
    "using Pkg\n",
    "Pkg.activate(\"..\")"
   ]
  },
  {
   "cell_type": "code",
   "execution_count": null,
   "metadata": {
    "collapsed": false
   },
   "outputs": [
    {
     "name": "stderr",
     "output_type": "stream",
     "text": [
      "┌ Info: Precompiling DifferentialEquations [0c46a032-eb83-5123-abaf-570d42b7fbaa]\n",
      "└ @ Base loading.jl:1260\n"
     ]
    }
   ],
   "source": [
    "using AlgebraicDynamics\n",
    "\n",
    "using Catlab\n",
    "using Catlab.CategoricalAlgebra\n",
    "using Catlab.CategoricalAlgebra.CSets\n",
    "using Catlab.WiringDiagrams\n",
    "using Catlab.Graphics\n",
    "using Catlab.Graphics.Graphviz\n",
    "using Catlab.Graphs\n",
    "using Catlab.Graphs.BasicGraphs: TheoryGraph, Graph\n",
    "using Catlab.Theories: id\n",
    "\n",
    "using DifferentialEquations\n",
    "\n",
    "using Plots\n",
    "\n",
    "import Catlab.CategoricalAlgebra: subpart"
   ]
  },
  {
   "cell_type": "code",
   "execution_count": null,
   "metadata": {
    "collapsed": false
   },
   "outputs": [],
   "source": [
    "# Data migration code\n",
    "\n",
    "function migrate!(Y::ACSet{CD, AD}, X::ACSet, FOb::Dict, FHom::Dict) where {CD, AD}\n",
    "  CD.ob ⊆ keys(FOb)     || error(\"Every object in $CD must be a key in $FOb\")\n",
    "  CD.hom ⊆ keys(FHom)   || error(\"Every hom in $CD must be a key in $FHom\")\n",
    "  AD.attr ⊆ keys(FHom)  || error(\"Every attribute in $AD must be a key in $FHom\")\n",
    "  \n",
    "  for (obY, obX) in FOb  \n",
    "    add_parts!(Y, obY, nparts(X, obX))\n",
    "  end\n",
    "\n",
    "  for (homY, homX) in FHom\n",
    "    set_subpart!(Y, homY, subpart(X, homX))\n",
    "  end\n",
    "  return Y\n",
    "end\n",
    "\n",
    "function (::Type{T})(X::ACSet, FOb::Dict, FHom::Dict) where T <: AbstractACSet\n",
    "  Y = T(); migrate!(Y, X, FOb, FHom)\n",
    "end\n",
    "\n",
    "\n",
    "subpart(acs::ACSet, expr::GATExpr{:id}) = parts(acs, first(dom(expr)))"
   ]
  },
  {
   "cell_type": "markdown",
   "metadata": {},
   "source": [
    "# Implementing Resources Sharing Machines\n",
    "\n",
    "In this notebook, we describe the process of composing dynamical systems as (1) resource sharers, (2) machines, and (3) resource sharing machines.\n",
    "\n",
    "These features are implemented more complicated-ly in the AlgebraicDynamics.jl package. In this notebook we implement \"baby\" versions for the sake of clarity."
   ]
  },
  {
   "cell_type": "markdown",
   "metadata": {},
   "source": [
    "## A Theory of Machines\n",
    "\n",
    "We define a machine to be a system which takes input, updates its internal state, and exposes some output. The schema for machines is:\n",
    "\n",
    "<img src=\"images/Theory of Machines.png\" alt=\"schema for theory of machines\" style=\"width: 600px;\"/>\n",
    "\n",
    "Note that this composition pattern is a special case of an operation in the operad of wiring diagrams of finite sets where the codomain is the unit."
   ]
  },
  {
   "cell_type": "code",
   "execution_count": null,
   "metadata": {
    "collapsed": false
   },
   "outputs": [],
   "source": [
    "@present TheoryMachines(FreeSchema) begin        \n",
    "    Dynamics::Data\n",
    "\n",
    "    Box::Ob\n",
    "    InPort::Ob\n",
    "    OutPort::Ob\n",
    "    StateVariable::Ob\n",
    "\n",
    "    parameterizes::Hom(InPort, Box)\n",
    "    state::Hom(OutPort, StateVariable)\n",
    "    system::Hom(StateVariable, Box)\n",
    "    feeder::Hom(InPort, OutPort)\n",
    "    \n",
    "    dynamics::Attr(Box, Dynamics)\n",
    "end\n",
    "\n",
    "const AbstractMachine = AbstractACSetType(TheoryMachines)\n",
    "const Machine = ACSetType(TheoryMachines, index=[:parameterizes, :state, :system, :feeder, :dynamics])\n",
    "Machine() = Machine{Function}()"
   ]
  },
  {
   "cell_type": "code",
   "execution_count": null,
   "metadata": {
    "collapsed": false
   },
   "outputs": [],
   "source": [
    "# Turn a Machine into an ODE problem\n",
    "\n",
    "function get_dynamics(m::AbstractMachine)\n",
    "    function dynamics!(newstate, u)\n",
    "        for b in parts(m, :Box)\n",
    "            ivalues = view(u,  subpart(m, subpart(m, incident(m, b, :parameterizes),  :feeder), :state))\n",
    "            states = incident(m, b, :system)\n",
    "            dynamics = subpart(m, b, :dynamics)\n",
    "            view(newstate, states) .= dynamics(view(u, states), ivalues)\n",
    "        end\n",
    "        newstate\n",
    "    end\n",
    "end\n",
    "\n",
    "function vectorfield(m::AbstractMachine)\n",
    "    update! = get_update(m)\n",
    "    function f(u, p, t)\n",
    "        return update!(zero(u),u)\n",
    "    end\n",
    "end"
   ]
  },
  {
   "cell_type": "markdown",
   "metadata": {},
   "source": [
    "## Lokta-Volterra as machines\n",
    "\n",
    "A parameterized ODE modeling a rabbit population takes as input a population of predators $\\mathsf{pred}$ and evolves according to $$\\dot r(\\mathsf{pred})\\alpha r - \\beta r(\\mathsf{pred})$$.\n",
    "\n",
    "Similarly a ODE modeling a fox population takes as input a population of prey $\\mathsf{prey}$ and evolves according to $$\\dot f(\\mathsf{prey}) = -\\gamma f + \\delta  f(\\mathsf{prey}).$$"
   ]
  },
  {
   "cell_type": "code",
   "execution_count": null,
   "metadata": {
    "collapsed": false
   },
   "outputs": [],
   "source": [
    "# parameters and initial condition chosen to match the example in \n",
    "#      https://algebraicjulia.github.io/AlgebraicPetri.jl/dev/examples/predation/lotka-volterra/\n",
    "α = .3\n",
    "β = .015\n",
    "γ = .7\n",
    "δ = β\n",
    "\n",
    "u0 = [10.0, 100.0]\n",
    "\n",
    "dotr = (r,pred) -> [α*r[1] - β*r[1]*pred[1]]\n",
    "dotf = (f,prey) -> [δ*f[1]*prey[1] - γ*f[1]]\n",
    "\n",
    "lv = Machine()\n",
    "add_parts!(lv, :Box,    2, dynamics = [dotr, dotf])\n",
    "add_parts!(lv, :StateVariable,  2, system = [1,2])\n",
    "add_parts!(lv, :OutPort,2, state = [1,2])\n",
    "add_parts!(lv, :InPort, 2, parameterizes = [1,2], feeder = [2,1])\n",
    "\n",
    "lv"
   ]
  },
  {
   "cell_type": "code",
   "execution_count": null,
   "metadata": {
    "collapsed": false
   },
   "outputs": [],
   "source": [
    "prob = ODEProblem(vectorfield(lv), u0, (0.0, 100.0))\n",
    "sol = solve(prob)\n",
    "plot(sol)"
   ]
  },
  {
   "cell_type": "markdown",
   "metadata": {},
   "source": [
    "## Modularity of Machines\n",
    "\n",
    "One of the great things about compositional dynamics is that you can build your models modularly.\n",
    "\n",
    "For example consider an ecosystem composed of little fish, big fish, and sharks where the big fish are predators to the little fish and prey to the sharks. To construct the ODE corresponding to this model, you might get lost trying to keep all of your variables straight. However, as a composition of machines, it is much more straightforward."
   ]
  },
  {
   "cell_type": "code",
   "execution_count": null,
   "metadata": {
    "collapsed": false
   },
   "outputs": [],
   "source": [
    "α = .3\n",
    "β = .015\n",
    "γ = .7\n",
    "δ = β\n",
    "β′ = .017\n",
    "γ′ = .35\n",
    "δ′ = β′\n",
    "\n",
    "u0 = [100.0, 10.0, 2.0]\n",
    "\n",
    "dotfish(f, x) = [α*f[1] - β*x[1]*f[1]]\n",
    "dotFISH(F, x) = [δ*x[1]*F[1] - γ*F[1] - β′*x[2]*F[1]]    # x[1] - prey, x[2] - predator\n",
    "dotsharks(s, x) = [-γ′*s[1] + δ′*s[1]*x[1]]\n",
    "\n",
    "lv3 = Machine()\n",
    "add_parts!(lv3, :Box,    3, dynamics = [dotfish, dotFISH, dotsharks])\n",
    "add_parts!(lv3, :StateVariable,  3, system = [1,2,3])\n",
    "add_parts!(lv3, :OutPort,3, state = [1,2,3])\n",
    "add_parts!(lv3, :InPort, 4, parameterizes = [1,2,2,3], feeder = [2,1,3,2])\n",
    "\n",
    "lv3"
   ]
  },
  {
   "cell_type": "code",
   "execution_count": null,
   "metadata": {
    "collapsed": false
   },
   "outputs": [],
   "source": [
    "prob = ODEProblem(vectorfield(lv3), u0, (0.0, 100.0))\n",
    "sol = solve(prob)\n",
    "plot(sol)"
   ]
  },
  {
   "cell_type": "markdown",
   "metadata": {},
   "source": [
    "## Machines from Graphs\n",
    "\n",
    "We can further improve upon the modularity of machines by building machines out of graphs where each vertex is equipped with a vector field. We want to assume that the dynamics to vertex $v$ has $n$ parameters where $n$ is the number of edges incoming to $v$. The ordering of the parameters is induced by the ordering of the edges."
   ]
  },
  {
   "cell_type": "code",
   "execution_count": null,
   "metadata": {
    "collapsed": false
   },
   "outputs": [],
   "source": [
    "@present TheoryLabeledGraph <: TheoryGraph begin\n",
    "    Label::Data\n",
    "    label::Attr(V, Label)\n",
    "end\n",
    "\n",
    "const AbstractLabeledGraph = AbstractACSetType(TheoryLabeledGraph)\n",
    "const LabeledGraph = ACSetType(TheoryLabeledGraph, index=[:src, :tgt, :label])\n",
    "DynamGraph() = LabeledGraph{Function}()"
   ]
  },
  {
   "cell_type": "code",
   "execution_count": null,
   "metadata": {
    "collapsed": false
   },
   "outputs": [],
   "source": [
    "V = TheoryLabeledGraph[:V]\n",
    "E = TheoryLabeledGraph[:E]\n",
    "\n",
    "Machine(g::LabeledGraph) = Machine(g, \n",
    "   Dict(:InPort => :E, :OutPort => :E, :Box => :V, :StateVariable => :V),\n",
    "   Dict(:parameterizes => :src, :feeder => id(E), :state => :tgt, :system => id(V), :dynamics => :label)\n",
    ")"
   ]
  },
  {
   "cell_type": "code",
   "execution_count": null,
   "metadata": {
    "collapsed": false
   },
   "outputs": [],
   "source": [
    "lv3_graph = DynamGraph()\n",
    "add_parts!(lv3_graph, :V, 3, label=[dotfish, dotFISH, dotsharks])\n",
    "add_parts!(lv3_graph, :E, 4, src=[1,2,2,3], tgt=[2,1,3,2])\n",
    "\n",
    "lv3_graph"
   ]
  },
  {
   "cell_type": "code",
   "execution_count": null,
   "metadata": {
    "collapsed": false
   },
   "outputs": [],
   "source": [
    "lv3′ = Machine(lv3_graph)"
   ]
  },
  {
   "cell_type": "code",
   "execution_count": null,
   "metadata": {
    "collapsed": false
   },
   "outputs": [],
   "source": [
    "prob = ODEProblem(vectorfield(lv3′), u0, (0.0, 100.0))\n",
    "sol = solve(prob)\n",
    "plot(sol)"
   ]
  },
  {
   "cell_type": "markdown",
   "metadata": {
    "collapsed": true
   },
   "source": [
    "This migration from dynamics equipped graphs to machines makes things like cellular automata easy to code up!"
   ]
  },
  {
   "cell_type": "code",
   "execution_count": null,
   "metadata": {
    "collapsed": false
   },
   "outputs": [],
   "source": [
    "n = 20\n",
    "rule_number = 30\n",
    "\n",
    "function rule(n)\n",
    "    function rule(c,l,r)\n",
    "        R = digits(n, base=2, pad = 8)\n",
    "        d = [l,c,r]\n",
    "        i = sum([d[k]*2^(k-1) for k=1:length(d)])\n",
    "        return R[i]\n",
    "    end\n",
    "end\n",
    "\n",
    "function dynamics(x, nbs)\n",
    "    R = rule(rule_number)\n",
    "    if length(nbs)==2\n",
    "        return R(nbs[1], x, nbs[2])\n",
    "    end\n",
    "    return 1 # boundary condition\n",
    "end\n",
    "\n",
    "g = DynamGraph()\n",
    "\n",
    "add_parts!(g, :V, n, label=fill(dynamics, n))\n",
    "\n",
    "add_parts!(g, :E, n-1, src=1:(n-1), tgt=2:n)\n",
    "add_parts!(g, :E, n-1, src=2:n, tgt =1:(n-1))"
   ]
  },
  {
   "cell_type": "code",
   "execution_count": null,
   "metadata": {
    "collapsed": false
   },
   "outputs": [],
   "source": [
    "N = 100\n",
    "\n",
    "update! = get_update(Machine(g))\n",
    "\n",
    "u0 = zeros(n)\n",
    "u0[floor(Int, n/2)] = 1\n",
    "\n",
    "xs = Array{Int64}(undef, N + 1, n)\n",
    "xs[1, : ] = u0\n",
    "\n",
    "for i in 1:N\n",
    "    update!(view(xs,i+1, 1:n), view(xs, i, 1:n))\n",
    "end"
   ]
  },
  {
   "cell_type": "code",
   "execution_count": null,
   "metadata": {
    "collapsed": false
   },
   "outputs": [],
   "source": [
    "function rule(n)\n",
    "    function rule(c,r,l)\n",
    "        R = digits(n, base=2, pad = 8)\n",
    "        d = [l,c,r]\n",
    "        i = sum([d[k]*2^(k-1) for k=1:length(d)])\n",
    "        return R[i]\n",
    "    end\n",
    "end"
   ]
  },
  {
   "cell_type": "code",
   "execution_count": null,
   "metadata": {
    "collapsed": false
   },
   "outputs": [],
   "source": [
    "R = rule(3)\n",
    "R(1,1,0)"
   ]
  },
  {
   "cell_type": "markdown",
   "metadata": {},
   "source": [
    "# Resource Sharers\n",
    "\n",
    "Machines are all about directed communication --- one machine sends informationa about its states to another machine"
   ]
  },
  {
   "cell_type": "markdown",
   "metadata": {},
   "source": [
    "## Appendix"
   ]
  },
  {
   "cell_type": "code",
   "execution_count": 184,
   "metadata": {
    "collapsed": false
   },
   "outputs": [
    {
     "data": {
      "text/plain": [
       "update! (generic function with 4 methods)"
      ]
     },
     "execution_count": 184,
     "metadata": {},
     "output_type": "execute_result"
    }
   ],
   "source": [
    "# Discrete update function\n",
    "\n",
    "function update!(y::AbstractVector, f::Function, x::AbstractVector, args...)\n",
    "    y .= f(x, args...)\n",
    "end\n",
    "\n",
    "function update!(newstate::AbstractVector, dm::AbstractMachine, state::AbstractVector) \n",
    "    \n",
    "    for b in parts(dm, :Box)\n",
    "        ivalues = view(state,  subpart(dm, incident(dm, b, :parameterizes), :feeder))\n",
    "        states = incident(dm, b, :system)\n",
    "        dynamics = subpart(dm, b, :dynamics)\n",
    "        newvalues = update!(view(newstate, states),\n",
    "                            dynamics, \n",
    "                            view(state, states), \n",
    "                            ivalues)\n",
    "    end\n",
    "    \n",
    "    return newstate\n",
    "end"
   ]
  },
  {
   "cell_type": "code",
   "execution_count": null,
   "metadata": {
    "collapsed": true
   },
   "outputs": [],
   "source": [
    "α = 1.2\n",
    "β = 0.1\n",
    "γ = 1.3\n",
    "δ = 0.1\n",
    "\n",
    "dotr = (r,i) -> [α*r[1] - β*i[1]*r[1]]\n",
    "dotf = (f,j) -> [-γ*f[1] + δ* j[1]* f[1]]\n",
    "\n",
    "function eulers(f::Function, h::Float64) \n",
    "    return (x0, args...) -> x0 .+ h*f(x0, args...)\n",
    "end\n",
    "\n",
    "function approx(f::Function, h::Float64)\n",
    "    return (x0, args...) -> solve(ODEProblem((x,p,t) -> f(x0, args...), x0, (0, h)), \n",
    "                                    save_everystep = false, save_start=false,save_end = true)[1]\n",
    "end\n",
    "\n",
    "h = 0.1\n",
    "\n",
    "lv = Machine()\n",
    "add_parts!(lv, :Box,    2, dynamics = [eulers(dotr,h), eulers(dotf,h)])\n",
    "add_parts!(lv, :StateVariable,  2, system = [1,2], value=[17, 11])\n",
    "add_parts!(lv, :OutPort,2, state = [1,2])\n",
    "add_parts!(lv, :InPort, 2, parameterizes = [1,2], feeder = [2,1])"
   ]
  },
  {
   "cell_type": "code",
   "execution_count": 198,
   "metadata": {
    "collapsed": false
   },
   "outputs": [
    {
     "data": {
      "image/svg+xml": [
       "<?xml version=\"1.0\" encoding=\"utf-8\"?>\n",
       "<svg xmlns=\"http://www.w3.org/2000/svg\" xmlns:xlink=\"http://www.w3.org/1999/xlink\" width=\"600\" height=\"400\" viewBox=\"0 0 2400 1600\">\n",
       "<defs>\n",
       "  <clipPath id=\"clip720\">\n",
       "    <rect x=\"0\" y=\"0\" width=\"2400\" height=\"1600\"/>\n",
       "  </clipPath>\n",
       "</defs>\n",
       "<path clip-path=\"url(#clip720)\" d=\"\n",
       "M0 1600 L2400 1600 L2400 0 L0 0  Z\n",
       "  \" fill=\"#ffffff\" fill-rule=\"evenodd\" fill-opacity=\"1\"/>\n",
       "<defs>\n",
       "  <clipPath id=\"clip721\">\n",
       "    <rect x=\"480\" y=\"0\" width=\"1681\" height=\"1600\"/>\n",
       "  </clipPath>\n",
       "</defs>\n",
       "<path clip-path=\"url(#clip720)\" d=\"\n",
       "M172.918 1486.45 L2352.76 1486.45 L2352.76 47.2441 L172.918 47.2441  Z\n",
       "  \" fill=\"#ffffff\" fill-rule=\"evenodd\" fill-opacity=\"1\"/>\n",
       "<defs>\n",
       "  <clipPath id=\"clip722\">\n",
       "    <rect x=\"172\" y=\"47\" width=\"2181\" height=\"1440\"/>\n",
       "  </clipPath>\n",
       "</defs>\n",
       "<polyline clip-path=\"url(#clip722)\" style=\"stroke:#000000; stroke-width:2; stroke-opacity:0.1; fill:none\" points=\"\n",
       "  214.047,1486.45 214.047,47.2441 \n",
       "  \"/>\n",
       "<polyline clip-path=\"url(#clip722)\" style=\"stroke:#000000; stroke-width:2; stroke-opacity:0.1; fill:none\" points=\"\n",
       "  728.159,1486.45 728.159,47.2441 \n",
       "  \"/>\n",
       "<polyline clip-path=\"url(#clip722)\" style=\"stroke:#000000; stroke-width:2; stroke-opacity:0.1; fill:none\" points=\"\n",
       "  1242.27,1486.45 1242.27,47.2441 \n",
       "  \"/>\n",
       "<polyline clip-path=\"url(#clip722)\" style=\"stroke:#000000; stroke-width:2; stroke-opacity:0.1; fill:none\" points=\"\n",
       "  1756.39,1486.45 1756.39,47.2441 \n",
       "  \"/>\n",
       "<polyline clip-path=\"url(#clip722)\" style=\"stroke:#000000; stroke-width:2; stroke-opacity:0.1; fill:none\" points=\"\n",
       "  2270.5,1486.45 2270.5,47.2441 \n",
       "  \"/>\n",
       "<polyline clip-path=\"url(#clip720)\" style=\"stroke:#000000; stroke-width:4; stroke-opacity:1; fill:none\" points=\"\n",
       "  172.918,1486.45 2352.76,1486.45 \n",
       "  \"/>\n",
       "<polyline clip-path=\"url(#clip720)\" style=\"stroke:#000000; stroke-width:4; stroke-opacity:1; fill:none\" points=\"\n",
       "  214.047,1486.45 214.047,1469.18 \n",
       "  \"/>\n",
       "<polyline clip-path=\"url(#clip720)\" style=\"stroke:#000000; stroke-width:4; stroke-opacity:1; fill:none\" points=\"\n",
       "  728.159,1486.45 728.159,1469.18 \n",
       "  \"/>\n",
       "<polyline clip-path=\"url(#clip720)\" style=\"stroke:#000000; stroke-width:4; stroke-opacity:1; fill:none\" points=\"\n",
       "  1242.27,1486.45 1242.27,1469.18 \n",
       "  \"/>\n",
       "<polyline clip-path=\"url(#clip720)\" style=\"stroke:#000000; stroke-width:4; stroke-opacity:1; fill:none\" points=\"\n",
       "  1756.39,1486.45 1756.39,1469.18 \n",
       "  \"/>\n",
       "<polyline clip-path=\"url(#clip720)\" style=\"stroke:#000000; stroke-width:4; stroke-opacity:1; fill:none\" points=\"\n",
       "  2270.5,1486.45 2270.5,1469.18 \n",
       "  \"/>\n",
       "<path clip-path=\"url(#clip720)\" d=\"M 0 0 M195.563 1515.64 Q191.952 1515.64 190.123 1519.2 Q188.318 1522.75 188.318 1529.87 Q188.318 1536.98 190.123 1540.55 Q191.952 1544.09 195.563 1544.09 Q199.197 1544.09 201.003 1540.55 Q202.831 1536.98 202.831 1529.87 Q202.831 1522.75 201.003 1519.2 Q199.197 1515.64 195.563 1515.64 M195.563 1511.93 Q201.373 1511.93 204.429 1516.54 Q207.507 1521.12 207.507 1529.87 Q207.507 1538.6 204.429 1543.21 Q201.373 1547.79 195.563 1547.79 Q189.753 1547.79 186.674 1543.21 Q183.619 1538.6 183.619 1529.87 Q183.619 1521.12 186.674 1516.54 Q189.753 1511.93 195.563 1511.93 Z\" fill=\"#000000\" fill-rule=\"evenodd\" fill-opacity=\"1\" /><path clip-path=\"url(#clip720)\" d=\"M 0 0 M212.577 1541.24 L217.461 1541.24 L217.461 1547.12 L212.577 1547.12 L212.577 1541.24 Z\" fill=\"#000000\" fill-rule=\"evenodd\" fill-opacity=\"1\" /><path clip-path=\"url(#clip720)\" d=\"M 0 0 M232.53 1515.64 Q228.919 1515.64 227.091 1519.2 Q225.285 1522.75 225.285 1529.87 Q225.285 1536.98 227.091 1540.55 Q228.919 1544.09 232.53 1544.09 Q236.165 1544.09 237.97 1540.55 Q239.799 1536.98 239.799 1529.87 Q239.799 1522.75 237.97 1519.2 Q236.165 1515.64 232.53 1515.64 M232.53 1511.93 Q238.34 1511.93 241.396 1516.54 Q244.475 1521.12 244.475 1529.87 Q244.475 1538.6 241.396 1543.21 Q238.34 1547.79 232.53 1547.79 Q226.72 1547.79 223.641 1543.21 Q220.586 1538.6 220.586 1529.87 Q220.586 1521.12 223.641 1516.54 Q226.72 1511.93 232.53 1511.93 Z\" fill=\"#000000\" fill-rule=\"evenodd\" fill-opacity=\"1\" /><path clip-path=\"url(#clip720)\" d=\"M 0 0 M704.826 1543.18 L721.146 1543.18 L721.146 1547.12 L699.201 1547.12 L699.201 1543.18 Q701.863 1540.43 706.447 1535.8 Q711.053 1531.15 712.234 1529.81 Q714.479 1527.28 715.359 1525.55 Q716.261 1523.79 716.261 1522.1 Q716.261 1519.34 714.317 1517.61 Q712.396 1515.87 709.294 1515.87 Q707.095 1515.87 704.641 1516.63 Q702.21 1517.4 699.433 1518.95 L699.433 1514.23 Q702.257 1513.09 704.71 1512.51 Q707.164 1511.93 709.201 1511.93 Q714.572 1511.93 717.766 1514.62 Q720.96 1517.31 720.96 1521.8 Q720.96 1523.93 720.15 1525.85 Q719.363 1527.74 717.257 1530.34 Q716.678 1531.01 713.576 1534.23 Q710.474 1537.42 704.826 1543.18 Z\" fill=\"#000000\" fill-rule=\"evenodd\" fill-opacity=\"1\" /><path clip-path=\"url(#clip720)\" d=\"M 0 0 M726.215 1541.24 L731.099 1541.24 L731.099 1547.12 L726.215 1547.12 L726.215 1541.24 Z\" fill=\"#000000\" fill-rule=\"evenodd\" fill-opacity=\"1\" /><path clip-path=\"url(#clip720)\" d=\"M 0 0 M736.215 1512.56 L754.571 1512.56 L754.571 1516.5 L740.497 1516.5 L740.497 1524.97 Q741.516 1524.62 742.534 1524.46 Q743.553 1524.27 744.571 1524.27 Q750.358 1524.27 753.738 1527.44 Q757.118 1530.62 757.118 1536.03 Q757.118 1541.61 753.645 1544.71 Q750.173 1547.79 743.854 1547.79 Q741.678 1547.79 739.409 1547.42 Q737.164 1547.05 734.757 1546.31 L734.757 1541.61 Q736.84 1542.74 739.062 1543.3 Q741.284 1543.86 743.761 1543.86 Q747.766 1543.86 750.104 1541.75 Q752.442 1539.64 752.442 1536.03 Q752.442 1532.42 750.104 1530.31 Q747.766 1528.21 743.761 1528.21 Q741.886 1528.21 740.011 1528.62 Q738.159 1529.04 736.215 1529.92 L736.215 1512.56 Z\" fill=\"#000000\" fill-rule=\"evenodd\" fill-opacity=\"1\" /><path clip-path=\"url(#clip720)\" d=\"M 0 0 M1214.07 1512.56 L1232.42 1512.56 L1232.42 1516.5 L1218.35 1516.5 L1218.35 1524.97 Q1219.37 1524.62 1220.39 1524.46 Q1221.4 1524.27 1222.42 1524.27 Q1228.21 1524.27 1231.59 1527.44 Q1234.97 1530.62 1234.97 1536.03 Q1234.97 1541.61 1231.5 1544.71 Q1228.02 1547.79 1221.71 1547.79 Q1219.53 1547.79 1217.26 1547.42 Q1215.02 1547.05 1212.61 1546.31 L1212.61 1541.61 Q1214.69 1542.74 1216.91 1543.3 Q1219.14 1543.86 1221.61 1543.86 Q1225.62 1543.86 1227.96 1541.75 Q1230.29 1539.64 1230.29 1536.03 Q1230.29 1532.42 1227.96 1530.31 Q1225.62 1528.21 1221.61 1528.21 Q1219.74 1528.21 1217.86 1528.62 Q1216.01 1529.04 1214.07 1529.92 L1214.07 1512.56 Z\" fill=\"#000000\" fill-rule=\"evenodd\" fill-opacity=\"1\" /><path clip-path=\"url(#clip720)\" d=\"M 0 0 M1240.04 1541.24 L1244.92 1541.24 L1244.92 1547.12 L1240.04 1547.12 L1240.04 1541.24 Z\" fill=\"#000000\" fill-rule=\"evenodd\" fill-opacity=\"1\" /><path clip-path=\"url(#clip720)\" d=\"M 0 0 M1259.99 1515.64 Q1256.38 1515.64 1254.55 1519.2 Q1252.75 1522.75 1252.75 1529.87 Q1252.75 1536.98 1254.55 1540.55 Q1256.38 1544.09 1259.99 1544.09 Q1263.63 1544.09 1265.43 1540.55 Q1267.26 1536.98 1267.26 1529.87 Q1267.26 1522.75 1265.43 1519.2 Q1263.63 1515.64 1259.99 1515.64 M1259.99 1511.93 Q1265.8 1511.93 1268.86 1516.54 Q1271.94 1521.12 1271.94 1529.87 Q1271.94 1538.6 1268.86 1543.21 Q1265.8 1547.79 1259.99 1547.79 Q1254.18 1547.79 1251.1 1543.21 Q1248.05 1538.6 1248.05 1529.87 Q1248.05 1521.12 1251.1 1516.54 Q1254.18 1511.93 1259.99 1511.93 Z\" fill=\"#000000\" fill-rule=\"evenodd\" fill-opacity=\"1\" /><path clip-path=\"url(#clip720)\" d=\"M 0 0 M1727.29 1512.56 L1749.51 1512.56 L1749.51 1514.55 L1736.96 1547.12 L1732.08 1547.12 L1743.89 1516.5 L1727.29 1516.5 L1727.29 1512.56 Z\" fill=\"#000000\" fill-rule=\"evenodd\" fill-opacity=\"1\" /><path clip-path=\"url(#clip720)\" d=\"M 0 0 M1754.58 1541.24 L1759.46 1541.24 L1759.46 1547.12 L1754.58 1547.12 L1754.58 1541.24 Z\" fill=\"#000000\" fill-rule=\"evenodd\" fill-opacity=\"1\" /><path clip-path=\"url(#clip720)\" d=\"M 0 0 M1764.58 1512.56 L1782.94 1512.56 L1782.94 1516.5 L1768.86 1516.5 L1768.86 1524.97 Q1769.88 1524.62 1770.9 1524.46 Q1771.92 1524.27 1772.94 1524.27 Q1778.72 1524.27 1782.1 1527.44 Q1785.48 1530.62 1785.48 1536.03 Q1785.48 1541.61 1782.01 1544.71 Q1778.54 1547.79 1772.22 1547.79 Q1770.04 1547.79 1767.77 1547.42 Q1765.53 1547.05 1763.12 1546.31 L1763.12 1541.61 Q1765.2 1542.74 1767.43 1543.3 Q1769.65 1543.86 1772.13 1543.86 Q1776.13 1543.86 1778.47 1541.75 Q1780.81 1539.64 1780.81 1536.03 Q1780.81 1532.42 1778.47 1530.31 Q1776.13 1528.21 1772.13 1528.21 Q1770.25 1528.21 1768.38 1528.62 Q1766.52 1529.04 1764.58 1529.92 L1764.58 1512.56 Z\" fill=\"#000000\" fill-rule=\"evenodd\" fill-opacity=\"1\" /><path clip-path=\"url(#clip720)\" d=\"M 0 0 M2228.89 1543.18 L2236.53 1543.18 L2236.53 1516.82 L2228.22 1518.49 L2228.22 1514.23 L2236.48 1512.56 L2241.16 1512.56 L2241.16 1543.18 L2248.8 1543.18 L2248.8 1547.12 L2228.89 1547.12 L2228.89 1543.18 Z\" fill=\"#000000\" fill-rule=\"evenodd\" fill-opacity=\"1\" /><path clip-path=\"url(#clip720)\" d=\"M 0 0 M2263.87 1515.64 Q2260.25 1515.64 2258.43 1519.2 Q2256.62 1522.75 2256.62 1529.87 Q2256.62 1536.98 2258.43 1540.55 Q2260.25 1544.09 2263.87 1544.09 Q2267.5 1544.09 2269.31 1540.55 Q2271.13 1536.98 2271.13 1529.87 Q2271.13 1522.75 2269.31 1519.2 Q2267.5 1515.64 2263.87 1515.64 M2263.87 1511.93 Q2269.68 1511.93 2272.73 1516.54 Q2275.81 1521.12 2275.81 1529.87 Q2275.81 1538.6 2272.73 1543.21 Q2269.68 1547.79 2263.87 1547.79 Q2258.06 1547.79 2254.98 1543.21 Q2251.92 1538.6 2251.92 1529.87 Q2251.92 1521.12 2254.98 1516.54 Q2258.06 1511.93 2263.87 1511.93 Z\" fill=\"#000000\" fill-rule=\"evenodd\" fill-opacity=\"1\" /><path clip-path=\"url(#clip720)\" d=\"M 0 0 M2280.88 1541.24 L2285.76 1541.24 L2285.76 1547.12 L2280.88 1547.12 L2280.88 1541.24 Z\" fill=\"#000000\" fill-rule=\"evenodd\" fill-opacity=\"1\" /><path clip-path=\"url(#clip720)\" d=\"M 0 0 M2300.83 1515.64 Q2297.22 1515.64 2295.39 1519.2 Q2293.59 1522.75 2293.59 1529.87 Q2293.59 1536.98 2295.39 1540.55 Q2297.22 1544.09 2300.83 1544.09 Q2304.47 1544.09 2306.27 1540.55 Q2308.1 1536.98 2308.1 1529.87 Q2308.1 1522.75 2306.27 1519.2 Q2304.47 1515.64 2300.83 1515.64 M2300.83 1511.93 Q2306.64 1511.93 2309.7 1516.54 Q2312.78 1521.12 2312.78 1529.87 Q2312.78 1538.6 2309.7 1543.21 Q2306.64 1547.79 2300.83 1547.79 Q2295.02 1547.79 2291.94 1543.21 Q2288.89 1538.6 2288.89 1529.87 Q2288.89 1521.12 2291.94 1516.54 Q2295.02 1511.93 2300.83 1511.93 Z\" fill=\"#000000\" fill-rule=\"evenodd\" fill-opacity=\"1\" /><polyline clip-path=\"url(#clip722)\" style=\"stroke:#000000; stroke-width:2; stroke-opacity:0.1; fill:none\" points=\"\n",
       "  172.918,1297.53 2352.76,1297.53 \n",
       "  \"/>\n",
       "<polyline clip-path=\"url(#clip722)\" style=\"stroke:#000000; stroke-width:2; stroke-opacity:0.1; fill:none\" points=\"\n",
       "  172.918,1048.33 2352.76,1048.33 \n",
       "  \"/>\n",
       "<polyline clip-path=\"url(#clip722)\" style=\"stroke:#000000; stroke-width:2; stroke-opacity:0.1; fill:none\" points=\"\n",
       "  172.918,799.124 2352.76,799.124 \n",
       "  \"/>\n",
       "<polyline clip-path=\"url(#clip722)\" style=\"stroke:#000000; stroke-width:2; stroke-opacity:0.1; fill:none\" points=\"\n",
       "  172.918,549.921 2352.76,549.921 \n",
       "  \"/>\n",
       "<polyline clip-path=\"url(#clip722)\" style=\"stroke:#000000; stroke-width:2; stroke-opacity:0.1; fill:none\" points=\"\n",
       "  172.918,300.719 2352.76,300.719 \n",
       "  \"/>\n",
       "<polyline clip-path=\"url(#clip722)\" style=\"stroke:#000000; stroke-width:2; stroke-opacity:0.1; fill:none\" points=\"\n",
       "  172.918,51.5165 2352.76,51.5165 \n",
       "  \"/>\n",
       "<polyline clip-path=\"url(#clip720)\" style=\"stroke:#000000; stroke-width:4; stroke-opacity:1; fill:none\" points=\"\n",
       "  172.918,1486.45 172.918,47.2441 \n",
       "  \"/>\n",
       "<polyline clip-path=\"url(#clip720)\" style=\"stroke:#000000; stroke-width:4; stroke-opacity:1; fill:none\" points=\"\n",
       "  172.918,1297.53 199.076,1297.53 \n",
       "  \"/>\n",
       "<polyline clip-path=\"url(#clip720)\" style=\"stroke:#000000; stroke-width:4; stroke-opacity:1; fill:none\" points=\"\n",
       "  172.918,1048.33 199.076,1048.33 \n",
       "  \"/>\n",
       "<polyline clip-path=\"url(#clip720)\" style=\"stroke:#000000; stroke-width:4; stroke-opacity:1; fill:none\" points=\"\n",
       "  172.918,799.124 199.076,799.124 \n",
       "  \"/>\n",
       "<polyline clip-path=\"url(#clip720)\" style=\"stroke:#000000; stroke-width:4; stroke-opacity:1; fill:none\" points=\"\n",
       "  172.918,549.921 199.076,549.921 \n",
       "  \"/>\n",
       "<polyline clip-path=\"url(#clip720)\" style=\"stroke:#000000; stroke-width:4; stroke-opacity:1; fill:none\" points=\"\n",
       "  172.918,300.719 199.076,300.719 \n",
       "  \"/>\n",
       "<polyline clip-path=\"url(#clip720)\" style=\"stroke:#000000; stroke-width:4; stroke-opacity:1; fill:none\" points=\"\n",
       "  172.918,51.5165 199.076,51.5165 \n",
       "  \"/>\n",
       "<path clip-path=\"url(#clip720)\" d=\"M 0 0 M78.7235 1280.25 L100.946 1280.25 L100.946 1282.24 L88.3993 1314.81 L83.5151 1314.81 L95.3206 1284.18 L78.7235 1284.18 L78.7235 1280.25 Z\" fill=\"#000000\" fill-rule=\"evenodd\" fill-opacity=\"1\" /><path clip-path=\"url(#clip720)\" d=\"M 0 0 M106.015 1308.93 L110.899 1308.93 L110.899 1314.81 L106.015 1314.81 L106.015 1308.93 Z\" fill=\"#000000\" fill-rule=\"evenodd\" fill-opacity=\"1\" /><path clip-path=\"url(#clip720)\" d=\"M 0 0 M116.015 1280.25 L134.371 1280.25 L134.371 1284.18 L120.297 1284.18 L120.297 1292.66 Q121.316 1292.31 122.334 1292.15 Q123.353 1291.96 124.371 1291.96 Q130.158 1291.96 133.538 1295.13 Q136.918 1298.3 136.918 1303.72 Q136.918 1309.3 133.445 1312.4 Q129.973 1315.48 123.654 1315.48 Q121.478 1315.48 119.209 1315.11 Q116.964 1314.74 114.557 1314 L114.557 1309.3 Q116.64 1310.43 118.862 1310.99 Q121.084 1311.54 123.561 1311.54 Q127.566 1311.54 129.904 1309.44 Q132.242 1307.33 132.242 1303.72 Q132.242 1300.11 129.904 1298 Q127.566 1295.9 123.561 1295.9 Q121.686 1295.9 119.811 1296.31 Q117.959 1296.73 116.015 1297.61 L116.015 1280.25 Z\" fill=\"#000000\" fill-rule=\"evenodd\" fill-opacity=\"1\" /><path clip-path=\"url(#clip720)\" d=\"M 0 0 M53.0292 1061.67 L60.668 1061.67 L60.668 1035.31 L52.3579 1036.97 L52.3579 1032.71 L60.6217 1031.05 L65.2976 1031.05 L65.2976 1061.67 L72.9365 1061.67 L72.9365 1065.61 L53.0292 1065.61 L53.0292 1061.67 Z\" fill=\"#000000\" fill-rule=\"evenodd\" fill-opacity=\"1\" /><path clip-path=\"url(#clip720)\" d=\"M 0 0 M88.0058 1034.12 Q84.3947 1034.12 82.566 1037.69 Q80.7605 1041.23 80.7605 1048.36 Q80.7605 1055.47 82.566 1059.03 Q84.3947 1062.57 88.0058 1062.57 Q91.6401 1062.57 93.4456 1059.03 Q95.2743 1055.47 95.2743 1048.36 Q95.2743 1041.23 93.4456 1037.69 Q91.6401 1034.12 88.0058 1034.12 M88.0058 1030.42 Q93.816 1030.42 96.8715 1035.03 Q99.9502 1039.61 99.9502 1048.36 Q99.9502 1057.09 96.8715 1061.69 Q93.816 1066.28 88.0058 1066.28 Q82.1957 1066.28 79.117 1061.69 Q76.0614 1057.09 76.0614 1048.36 Q76.0614 1039.61 79.117 1035.03 Q82.1957 1030.42 88.0058 1030.42 Z\" fill=\"#000000\" fill-rule=\"evenodd\" fill-opacity=\"1\" /><path clip-path=\"url(#clip720)\" d=\"M 0 0 M105.02 1059.73 L109.904 1059.73 L109.904 1065.61 L105.02 1065.61 L105.02 1059.73 Z\" fill=\"#000000\" fill-rule=\"evenodd\" fill-opacity=\"1\" /><path clip-path=\"url(#clip720)\" d=\"M 0 0 M124.973 1034.12 Q121.362 1034.12 119.533 1037.69 Q117.728 1041.23 117.728 1048.36 Q117.728 1055.47 119.533 1059.03 Q121.362 1062.57 124.973 1062.57 Q128.607 1062.57 130.413 1059.03 Q132.242 1055.47 132.242 1048.36 Q132.242 1041.23 130.413 1037.69 Q128.607 1034.12 124.973 1034.12 M124.973 1030.42 Q130.783 1030.42 133.839 1035.03 Q136.918 1039.61 136.918 1048.36 Q136.918 1057.09 133.839 1061.69 Q130.783 1066.28 124.973 1066.28 Q119.163 1066.28 116.084 1061.69 Q113.029 1057.09 113.029 1048.36 Q113.029 1039.61 116.084 1035.03 Q119.163 1030.42 124.973 1030.42 Z\" fill=\"#000000\" fill-rule=\"evenodd\" fill-opacity=\"1\" /><path clip-path=\"url(#clip720)\" d=\"M 0 0 M55.6217 812.469 L63.2606 812.469 L63.2606 786.103 L54.9504 787.77 L54.9504 783.51 L63.2143 781.844 L67.8902 781.844 L67.8902 812.469 L75.529 812.469 L75.529 816.404 L55.6217 816.404 L55.6217 812.469 Z\" fill=\"#000000\" fill-rule=\"evenodd\" fill-opacity=\"1\" /><path clip-path=\"url(#clip720)\" d=\"M 0 0 M84.6262 812.469 L100.946 812.469 L100.946 816.404 L79.0012 816.404 L79.0012 812.469 Q81.6633 809.714 86.2466 805.084 Q90.853 800.432 92.0336 799.089 Q94.2789 796.566 95.1586 794.83 Q96.0613 793.071 96.0613 791.381 Q96.0613 788.626 94.1169 786.89 Q92.1956 785.154 89.0938 785.154 Q86.8947 785.154 84.441 785.918 Q82.0105 786.682 79.2327 788.233 L79.2327 783.51 Q82.0568 782.376 84.5105 781.798 Q86.9642 781.219 89.0012 781.219 Q94.3715 781.219 97.566 783.904 Q100.76 786.589 100.76 791.08 Q100.76 793.209 99.9502 795.131 Q99.1632 797.029 97.0567 799.621 Q96.478 800.293 93.3762 803.51 Q90.2743 806.705 84.6262 812.469 Z\" fill=\"#000000\" fill-rule=\"evenodd\" fill-opacity=\"1\" /><path clip-path=\"url(#clip720)\" d=\"M 0 0 M106.015 810.524 L110.899 810.524 L110.899 816.404 L106.015 816.404 L106.015 810.524 Z\" fill=\"#000000\" fill-rule=\"evenodd\" fill-opacity=\"1\" /><path clip-path=\"url(#clip720)\" d=\"M 0 0 M116.015 781.844 L134.371 781.844 L134.371 785.779 L120.297 785.779 L120.297 794.251 Q121.316 793.904 122.334 793.742 Q123.353 793.557 124.371 793.557 Q130.158 793.557 133.538 796.728 Q136.918 799.899 136.918 805.316 Q136.918 810.895 133.445 813.996 Q129.973 817.075 123.654 817.075 Q121.478 817.075 119.209 816.705 Q116.964 816.334 114.557 815.594 L114.557 810.895 Q116.64 812.029 118.862 812.584 Q121.084 813.14 123.561 813.14 Q127.566 813.14 129.904 811.033 Q132.242 808.927 132.242 805.316 Q132.242 801.705 129.904 799.598 Q127.566 797.492 123.561 797.492 Q121.686 797.492 119.811 797.909 Q117.959 798.325 116.015 799.205 L116.015 781.844 Z\" fill=\"#000000\" fill-rule=\"evenodd\" fill-opacity=\"1\" /><path clip-path=\"url(#clip720)\" d=\"M 0 0 M54.0245 563.266 L61.6634 563.266 L61.6634 536.901 L53.3532 538.567 L53.3532 534.308 L61.6171 532.641 L66.293 532.641 L66.293 563.266 L73.9318 563.266 L73.9318 567.201 L54.0245 567.201 L54.0245 563.266 Z\" fill=\"#000000\" fill-rule=\"evenodd\" fill-opacity=\"1\" /><path clip-path=\"url(#clip720)\" d=\"M 0 0 M79.0475 532.641 L97.4039 532.641 L97.4039 536.577 L83.3299 536.577 L83.3299 545.049 Q84.3484 544.702 85.3669 544.539 Q86.3855 544.354 87.404 544.354 Q93.191 544.354 96.5706 547.526 Q99.9502 550.697 99.9502 556.113 Q99.9502 561.692 96.478 564.794 Q93.0058 567.873 86.6864 567.873 Q84.5105 567.873 82.242 567.502 Q79.9966 567.132 77.5892 566.391 L77.5892 561.692 Q79.6725 562.826 81.8947 563.382 Q84.1169 563.938 86.5938 563.938 Q90.5984 563.938 92.9363 561.831 Q95.2743 559.725 95.2743 556.113 Q95.2743 552.502 92.9363 550.396 Q90.5984 548.289 86.5938 548.289 Q84.7188 548.289 82.8438 548.706 Q80.992 549.123 79.0475 550.002 L79.0475 532.641 Z\" fill=\"#000000\" fill-rule=\"evenodd\" fill-opacity=\"1\" /><path clip-path=\"url(#clip720)\" d=\"M 0 0 M105.02 561.322 L109.904 561.322 L109.904 567.201 L105.02 567.201 L105.02 561.322 Z\" fill=\"#000000\" fill-rule=\"evenodd\" fill-opacity=\"1\" /><path clip-path=\"url(#clip720)\" d=\"M 0 0 M124.973 535.72 Q121.362 535.72 119.533 539.285 Q117.728 542.827 117.728 549.956 Q117.728 557.063 119.533 560.627 Q121.362 564.169 124.973 564.169 Q128.607 564.169 130.413 560.627 Q132.242 557.063 132.242 549.956 Q132.242 542.827 130.413 539.285 Q128.607 535.72 124.973 535.72 M124.973 532.016 Q130.783 532.016 133.839 536.623 Q136.918 541.206 136.918 549.956 Q136.918 558.683 133.839 563.289 Q130.783 567.873 124.973 567.873 Q119.163 567.873 116.084 563.289 Q113.029 558.683 113.029 549.956 Q113.029 541.206 116.084 536.623 Q119.163 532.016 124.973 532.016 Z\" fill=\"#000000\" fill-rule=\"evenodd\" fill-opacity=\"1\" /><path clip-path=\"url(#clip720)\" d=\"M 0 0 M54.9273 314.064 L62.5661 314.064 L62.5661 287.698 L54.256 289.365 L54.256 285.106 L62.5198 283.439 L67.1957 283.439 L67.1957 314.064 L74.8346 314.064 L74.8346 317.999 L54.9273 317.999 L54.9273 314.064 Z\" fill=\"#000000\" fill-rule=\"evenodd\" fill-opacity=\"1\" /><path clip-path=\"url(#clip720)\" d=\"M 0 0 M78.7235 283.439 L100.946 283.439 L100.946 285.43 L88.3993 317.999 L83.5151 317.999 L95.3206 287.374 L78.7235 287.374 L78.7235 283.439 Z\" fill=\"#000000\" fill-rule=\"evenodd\" fill-opacity=\"1\" /><path clip-path=\"url(#clip720)\" d=\"M 0 0 M106.015 312.119 L110.899 312.119 L110.899 317.999 L106.015 317.999 L106.015 312.119 Z\" fill=\"#000000\" fill-rule=\"evenodd\" fill-opacity=\"1\" /><path clip-path=\"url(#clip720)\" d=\"M 0 0 M116.015 283.439 L134.371 283.439 L134.371 287.374 L120.297 287.374 L120.297 295.846 Q121.316 295.499 122.334 295.337 Q123.353 295.152 124.371 295.152 Q130.158 295.152 133.538 298.323 Q136.918 301.494 136.918 306.911 Q136.918 312.49 133.445 315.592 Q129.973 318.67 123.654 318.67 Q121.478 318.67 119.209 318.3 Q116.964 317.93 114.557 317.189 L114.557 312.49 Q116.64 313.624 118.862 314.18 Q121.084 314.735 123.561 314.735 Q127.566 314.735 129.904 312.629 Q132.242 310.522 132.242 306.911 Q132.242 303.3 129.904 301.193 Q127.566 299.087 123.561 299.087 Q121.686 299.087 119.811 299.504 Q117.959 299.92 116.015 300.8 L116.015 283.439 Z\" fill=\"#000000\" fill-rule=\"evenodd\" fill-opacity=\"1\" /><path clip-path=\"url(#clip720)\" d=\"M 0 0 M56.6171 64.8614 L72.9365 64.8614 L72.9365 68.7965 L50.9921 68.7965 L50.9921 64.8614 Q53.6541 62.1068 58.2375 57.4772 Q62.8439 52.8244 64.0245 51.4818 Q66.2698 48.9587 67.1494 47.2226 Q68.0522 45.4633 68.0522 43.7735 Q68.0522 41.0189 66.1078 39.2828 Q64.1865 37.5467 61.0847 37.5467 Q58.8856 37.5467 56.4319 38.3106 Q54.0014 39.0745 51.2236 40.6254 L51.2236 35.9032 Q54.0477 34.7689 56.5014 34.1902 Q58.955 33.6115 60.9921 33.6115 Q66.3624 33.6115 69.5568 36.2967 Q72.7513 38.9819 72.7513 43.4726 Q72.7513 45.6022 71.9411 47.5235 Q71.1541 49.4216 69.0476 52.0142 Q68.4689 52.6855 65.367 55.9031 Q62.2652 59.0975 56.6171 64.8614 Z\" fill=\"#000000\" fill-rule=\"evenodd\" fill-opacity=\"1\" /><path clip-path=\"url(#clip720)\" d=\"M 0 0 M88.0058 37.3152 Q84.3947 37.3152 82.566 40.88 Q80.7605 44.4217 80.7605 51.5513 Q80.7605 58.6577 82.566 62.2225 Q84.3947 65.7642 88.0058 65.7642 Q91.6401 65.7642 93.4456 62.2225 Q95.2743 58.6577 95.2743 51.5513 Q95.2743 44.4217 93.4456 40.88 Q91.6401 37.3152 88.0058 37.3152 M88.0058 33.6115 Q93.816 33.6115 96.8715 38.218 Q99.9502 42.8013 99.9502 51.5513 Q99.9502 60.2781 96.8715 64.8845 Q93.816 69.4678 88.0058 69.4678 Q82.1957 69.4678 79.117 64.8845 Q76.0614 60.2781 76.0614 51.5513 Q76.0614 42.8013 79.117 38.218 Q82.1957 33.6115 88.0058 33.6115 Z\" fill=\"#000000\" fill-rule=\"evenodd\" fill-opacity=\"1\" /><path clip-path=\"url(#clip720)\" d=\"M 0 0 M105.02 62.9169 L109.904 62.9169 L109.904 68.7965 L105.02 68.7965 L105.02 62.9169 Z\" fill=\"#000000\" fill-rule=\"evenodd\" fill-opacity=\"1\" /><path clip-path=\"url(#clip720)\" d=\"M 0 0 M124.973 37.3152 Q121.362 37.3152 119.533 40.88 Q117.728 44.4217 117.728 51.5513 Q117.728 58.6577 119.533 62.2225 Q121.362 65.7642 124.973 65.7642 Q128.607 65.7642 130.413 62.2225 Q132.242 58.6577 132.242 51.5513 Q132.242 44.4217 130.413 40.88 Q128.607 37.3152 124.973 37.3152 M124.973 33.6115 Q130.783 33.6115 133.839 38.218 Q136.918 42.8013 136.918 51.5513 Q136.918 60.2781 133.839 64.8845 Q130.783 69.4678 124.973 69.4678 Q119.163 69.4678 116.084 64.8845 Q113.029 60.2781 113.029 51.5513 Q113.029 42.8013 116.084 38.218 Q119.163 33.6115 124.973 33.6115 Z\" fill=\"#000000\" fill-rule=\"evenodd\" fill-opacity=\"1\" /><polyline clip-path=\"url(#clip722)\" style=\"stroke:#009af9; stroke-width:4; stroke-opacity:1; fill:none\" points=\"\n",
       "  234.611,350.559 255.176,333.614 275.74,324.029 296.305,322.601 316.869,329.93 337.434,346.35 357.998,371.873 378.563,406.145 399.127,448.433 419.692,497.643 \n",
       "  440.256,552.382 460.821,611.038 481.385,671.903 501.95,733.278 522.514,793.587 543.079,851.457 563.643,905.77 584.208,955.678 604.772,1000.6 625.337,1040.18 \n",
       "  645.901,1074.26 666.466,1102.83 687.03,1125.96 707.595,1143.81 728.159,1156.57 748.724,1164.43 769.288,1167.58 789.853,1166.21 810.417,1160.46 830.982,1150.48 \n",
       "  851.547,1136.38 872.111,1118.24 892.676,1096.13 913.24,1070.12 933.805,1040.26 954.369,1006.59 974.934,969.177 995.498,928.079 1016.06,883.395 1036.63,835.257 \n",
       "  1057.19,783.846 1077.76,729.406 1098.32,672.267 1118.89,612.855 1139.45,551.722 1160.01,489.56 1180.58,427.226 1201.14,365.765 1221.71,306.418 1242.27,250.638 \n",
       "  1262.84,200.077 1283.4,156.567 1303.97,122.064 1324.53,98.5631 1345.09,87.9763 1365.66,91.9686 1386.22,111.767 1406.79,147.955 1427.35,200.297 1447.92,267.621 \n",
       "  1468.48,347.807 1489.05,437.918 1509.61,534.45 1530.18,633.68 1550.74,732.041 1571.3,826.436 1591.87,914.45 1612.43,994.425 1633,1065.42 1653.56,1127.1 \n",
       "  1674.13,1179.58 1694.69,1223.24 1715.26,1258.65 1735.82,1286.43 1756.39,1307.21 1776.95,1321.57 1797.51,1329.99 1818.08,1332.92 1838.64,1330.68 1859.21,1323.54 \n",
       "  1879.77,1311.71 1900.34,1295.3 1920.9,1274.4 1941.47,1249.02 1962.03,1219.16 1982.59,1184.76 2003.16,1145.75 2023.72,1102.04 2044.29,1053.53 2064.85,1000.11 \n",
       "  2085.42,941.708 2105.98,878.261 2126.55,809.759 2147.11,736.255 2167.68,657.897 2188.24,574.958 2208.8,487.871 2229.37,397.281 2249.93,304.092 2270.5,209.534 \n",
       "  2291.06,115.226 \n",
       "  \"/>\n",
       "<polyline clip-path=\"url(#clip722)\" style=\"stroke:#e26f46; stroke-width:4; stroke-opacity:1; fill:none\" points=\"\n",
       "  234.611,948.645 255.176,904.786 275.74,857.233 296.305,806.555 316.869,753.538 337.434,699.201 357.998,644.795 378.563,591.776 399.127,541.746 419.692,496.372 \n",
       "  440.256,457.274 460.821,425.909 481.385,403.452 501.95,390.708 522.514,388.051 543.079,395.416 563.643,412.326 584.208,437.959 604.772,471.237 625.337,510.918 \n",
       "  645.901,555.69 666.466,604.249 687.03,655.353 707.595,707.871 728.159,760.798 748.724,813.275 769.288,864.579 789.853,914.12 810.417,961.425 830.982,1006.13 \n",
       "  851.547,1047.95 872.111,1086.67 892.676,1122.15 913.24,1154.26 933.805,1182.94 954.369,1208.1 974.934,1229.71 995.498,1247.7 1016.06,1262 1036.63,1272.54 \n",
       "  1057.19,1279.2 1077.76,1281.86 1098.32,1280.34 1118.89,1274.43 1139.45,1263.88 1160.01,1248.4 1180.58,1227.64 1201.14,1201.22 1221.71,1168.75 1242.27,1129.82 \n",
       "  1262.84,1084.03 1283.4,1031.08 1303.97,970.779 1324.53,903.178 1345.09,828.631 1365.66,747.925 1386.22,662.384 1406.79,573.949 1427.35,485.2 1447.92,399.287 \n",
       "  1468.48,319.759 1489.05,250.268 1509.61,194.203 1530.18,154.311 1550.74,132.383 1571.3,129.074 1591.87,143.905 1612.43,175.407 1633,221.389 1653.56,279.229 \n",
       "  1674.13,346.162 1694.69,419.502 1715.26,496.796 1735.82,575.915 1756.39,655.086 1776.95,732.89 1797.51,808.228 1818.08,880.286 1838.64,948.488 1859.21,1012.45 \n",
       "  1879.77,1071.94 1900.34,1126.85 1920.9,1177.15 1941.47,1222.88 1962.03,1264.1 1982.59,1300.92 2003.16,1333.43 2023.72,1361.74 2044.29,1385.92 2064.85,1406.04 \n",
       "  2085.42,1422.12 2105.98,1434.15 2126.55,1442.06 2147.11,1445.72 2167.68,1444.93 2188.24,1439.43 2208.8,1428.84 2229.37,1412.67 2249.93,1390.34 2270.5,1361.1 \n",
       "  2291.06,1324.06 \n",
       "  \"/>\n",
       "<path clip-path=\"url(#clip720)\" d=\"\n",
       "M1986.87 276.658 L2280.09 276.658 L2280.09 95.2176 L1986.87 95.2176  Z\n",
       "  \" fill=\"#ffffff\" fill-rule=\"evenodd\" fill-opacity=\"1\"/>\n",
       "<polyline clip-path=\"url(#clip720)\" style=\"stroke:#000000; stroke-width:4; stroke-opacity:1; fill:none\" points=\"\n",
       "  1986.87,276.658 2280.09,276.658 2280.09,95.2176 1986.87,95.2176 1986.87,276.658 \n",
       "  \"/>\n",
       "<polyline clip-path=\"url(#clip720)\" style=\"stroke:#009af9; stroke-width:4; stroke-opacity:1; fill:none\" points=\"\n",
       "  2011.09,155.698 2156.42,155.698 \n",
       "  \"/>\n",
       "<path clip-path=\"url(#clip720)\" d=\"M 0 0 M2194.48 175.385 Q2192.67 180.015 2190.96 181.427 Q2189.25 182.839 2186.38 182.839 L2182.97 182.839 L2182.97 179.274 L2185.47 179.274 Q2187.23 179.274 2188.2 178.44 Q2189.18 177.607 2190.36 174.505 L2191.12 172.561 L2180.64 147.052 L2185.15 147.052 L2193.25 167.329 L2201.35 147.052 L2205.87 147.052 L2194.48 175.385 Z\" fill=\"#000000\" fill-rule=\"evenodd\" fill-opacity=\"1\" /><path clip-path=\"url(#clip720)\" d=\"M 0 0 M2211.75 169.042 L2219.39 169.042 L2219.39 142.677 L2211.08 144.343 L2211.08 140.084 L2219.34 138.418 L2224.01 138.418 L2224.01 169.042 L2231.65 169.042 L2231.65 172.978 L2211.75 172.978 L2211.75 169.042 Z\" fill=\"#000000\" fill-rule=\"evenodd\" fill-opacity=\"1\" /><polyline clip-path=\"url(#clip720)\" style=\"stroke:#e26f46; stroke-width:4; stroke-opacity:1; fill:none\" points=\"\n",
       "  2011.09,216.178 2156.42,216.178 \n",
       "  \"/>\n",
       "<path clip-path=\"url(#clip720)\" d=\"M 0 0 M2194.48 235.865 Q2192.67 240.495 2190.96 241.907 Q2189.25 243.319 2186.38 243.319 L2182.97 243.319 L2182.97 239.754 L2185.47 239.754 Q2187.23 239.754 2188.2 238.92 Q2189.18 238.087 2190.36 234.985 L2191.12 233.041 L2180.64 207.532 L2185.15 207.532 L2193.25 227.809 L2201.35 207.532 L2205.87 207.532 L2194.48 235.865 Z\" fill=\"#000000\" fill-rule=\"evenodd\" fill-opacity=\"1\" /><path clip-path=\"url(#clip720)\" d=\"M 0 0 M2214.96 229.522 L2231.28 229.522 L2231.28 233.458 L2209.34 233.458 L2209.34 229.522 Q2212 226.768 2216.58 222.138 Q2221.19 217.485 2222.37 216.143 Q2224.62 213.62 2225.5 211.884 Q2226.4 210.124 2226.4 208.435 Q2226.4 205.68 2224.45 203.944 Q2222.53 202.208 2219.43 202.208 Q2217.23 202.208 2214.78 202.972 Q2212.35 203.735 2209.57 205.286 L2209.57 200.564 Q2212.39 199.43 2214.85 198.851 Q2217.3 198.273 2219.34 198.273 Q2224.71 198.273 2227.9 200.958 Q2231.1 203.643 2231.1 208.134 Q2231.1 210.263 2230.29 212.185 Q2229.5 214.083 2227.39 216.675 Q2226.82 217.347 2223.71 220.564 Q2220.61 223.759 2214.96 229.522 Z\" fill=\"#000000\" fill-rule=\"evenodd\" fill-opacity=\"1\" /></svg>\n"
      ]
     },
     "execution_count": 198,
     "metadata": {},
     "output_type": "execute_result"
    }
   ],
   "source": [
    "N = 100\n",
    "k = nparts(lv, :StateVariable)\n",
    "\n",
    "xs = Array{Float64}(undef, N + 1, k)\n",
    "xs[1, : ] = subpart(lv, :value)\n",
    "\n",
    "for i in 1:N\n",
    "    update!(view(xs,i+1, 1:k), lv, view(xs, i, 1:k))\n",
    "end\n",
    "\n",
    "ts = map(t -> t*h, 1:N+1)\n",
    "rs = xs[:, 1]\n",
    "fs = xs[:, 2]\n",
    "\n",
    "plot(ts, rs)\n",
    "plot!(ts, fs)"
   ]
  },
  {
   "cell_type": "code",
   "execution_count": null,
   "metadata": {
    "collapsed": true
   },
   "outputs": [],
   "source": []
  }
 ],
 "metadata": {
  "kernelspec": {
   "display_name": "Julia 1.4.1",
   "language": "julia",
   "name": "julia-1.4"
  },
  "language_info": {
   "file_extension": ".jl",
   "mimetype": "application/julia",
   "name": "julia",
   "version": "1.4.1"
  }
 },
 "nbformat": 4,
 "nbformat_minor": 1
}
