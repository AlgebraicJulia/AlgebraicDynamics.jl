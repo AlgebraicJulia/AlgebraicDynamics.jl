{
 "cells": [
  {
   "cell_type": "markdown",
   "source": [
    "# Ecosystem Models"
   ],
   "metadata": {}
  },
  {
   "outputs": [],
   "cell_type": "code",
   "source": [
    "using AlgebraicDynamics\n",
    "using Catlab\n",
    "\n",
    "using LabelledArrays\n",
    "using OrdinaryDiffEq\n",
    "using Plots, Plots.PlotMeasures"
   ],
   "metadata": {},
   "execution_count": null
  },
  {
   "cell_type": "markdown",
   "source": [
    "There will be 16 parameters in to the total ecosystem. With four distinct types:\n",
    "- parameters $\\alpha$ represent the rate at which a species population grows\n",
    "- parameters $\\beta$ represent the rate at which a population of prey declines in a predation interaction\n",
    "- parameters $\\gamma$ represent the rate at which a population of predators grows in a predation interaction\n",
    "- parameters $\\delta$ represent the rate at with a species population declines"
   ],
   "metadata": {}
  },
  {
   "outputs": [],
   "cell_type": "code",
   "source": [
    "params = LVector(αr=0.3, βrf=0.015, γrf=0.015, δf=0.7,\n",
    "                 βrh=0.01, γrh=0.01, δh=0.5,\n",
    "                 γfishh=0.001, βfishh=0.003,\n",
    "                 αfish=0.35, βfishF=0.015, γfishF=0.015,\n",
    "                 δF=0.7, βFs=0.017, γFs=0.017, δs=0.35)"
   ],
   "metadata": {},
   "execution_count": null
  },
  {
   "cell_type": "markdown",
   "source": [
    "## Land Ecosystem"
   ],
   "metadata": {}
  },
  {
   "cell_type": "markdown",
   "source": [
    "### Rabbits and foxes"
   ],
   "metadata": {}
  },
  {
   "cell_type": "markdown",
   "source": [
    "A standard Lotka Volterra predator-prey model is the composition of three primitive resource sharers:"
   ],
   "metadata": {}
  },
  {
   "cell_type": "markdown",
   "source": [
    "1. a model of rabbit growth: this resource sharer has dynamics $\\dot r(t) = \\alpha r(t)$ and one port which exposes the rabbit population.\n",
    "2. a model of rabbit/fox predation: this resource sharer has dynamics $$\\dot r(t) = -\\beta r(t) f(t), \\dot f(t) = \\gamma r(t)f(t)$$ and two ports which expose the rabbit and fox populations respectively.\n",
    "3. a model of fox population decline: this resource sharer has dynamics $\\dot f(t) = -\\delta f(t)$ and one port which exposes the fox population."
   ],
   "metadata": {}
  },
  {
   "cell_type": "markdown",
   "source": [
    "However, there are not two independent rabbit populations -- one that grows and one that gets eaten by foxes. Likewise, there are not two independent fox populations -- one that declines and one that feasts on rabbits. To capture these interactions between the trio of resource sharers, we compose them by identifying the exposed rabbit populations and identifying the exposed fox populations.\n",
    "The syntax for this undirected composition is defined by an undirected wiring diagram."
   ],
   "metadata": {}
  },
  {
   "outputs": [],
   "cell_type": "code",
   "source": [
    "# Define the primitive systems\n",
    "dotr(u,p,t) = p.αr*u\n",
    "dotrf(u,p,t) = [-p.βrf*u[1]*u[2], p.γrf*u[1]*u[2]]\n",
    "dotf(u,p,t) = -p.δf*u\n",
    "\n",
    "rabbit_growth = ContinuousResourceSharer{Float64}(1, dotr)\n",
    "rabbitfox_predation = ContinuousResourceSharer{Float64}(2, dotrf)\n",
    "fox_decline = ContinuousResourceSharer{Float64}(1, dotf)\n",
    "\n",
    "# Define the composition pattern\n",
    "rabbitfox_pattern = @relation (rabbits, foxes) begin\n",
    "    rabbit_growth(rabbits)\n",
    "    rabbitfox_predation(rabbits,foxes)\n",
    "    fox_decline(foxes)\n",
    "end\n",
    "\n",
    "# Compose\n",
    "submodels = Dict(\n",
    "    :rabbit_growth => rabbit_growth,\n",
    "    :rabbitfox_predation => rabbitfox_predation,\n",
    "    :fox_decline => fox_decline\n",
    ")\n",
    "rabbitfox_system = oapply(rabbitfox_pattern, submodels)"
   ],
   "metadata": {},
   "execution_count": null
  },
  {
   "cell_type": "markdown",
   "source": [
    "Previously, when we derived the Lotka-Volterra model via [undirected composition](https://algebraicjulia.github.io/AlgebraicDynamics.jl/dev/examples/Lotka-Volterra/#Undirected-composition), we by-hand defined the undirected wiring diagram that implements the composition pattern. In contrast, here we implement the same composition pattern as before but this time using the [`@relation` macro](https://algebraicjulia.github.io/Catlab.jl/stable/apis/programs/#Catlab.Programs.RelationalPrograms.@relation-Tuple). This strategy simplifies the definition and explicitly names the boxes and variables. We  visualize the composition pattern below."
   ],
   "metadata": {}
  },
  {
   "outputs": [],
   "cell_type": "code",
   "source": [
    "to_graphviz(rabbitfox_pattern, box_labels = :name, junction_labels = :variable, edge_attrs=Dict(:len => \".75\"))"
   ],
   "metadata": {},
   "execution_count": null
  },
  {
   "cell_type": "markdown",
   "source": [
    "We can now construct an `ODEProblem` from the resource sharer `rabbitfox_system` and plot the solution."
   ],
   "metadata": {}
  },
  {
   "outputs": [],
   "cell_type": "code",
   "source": [
    "u0 = [10.0, 100.0]\n",
    "tspan = (0.0, 100.0)\n",
    "\n",
    "prob = ODEProblem(rabbitfox_system, u0, tspan, params)\n",
    "sol = solve(prob, Tsit5())\n",
    "\n",
    "plot(sol, rabbitfox_system,\n",
    "    lw=2,\n",
    "    title = \"Lotka-Volterra Predator-Prey Model\",\n",
    "    xlabel = \"time\", ylabel = \"population size\")"
   ],
   "metadata": {},
   "execution_count": null
  },
  {
   "cell_type": "markdown",
   "source": [
    "### Rabbits, foxes, and hawks\n",
    "Suppose we now have a three species ecosystem containing rabbits, foxes, and hawks. Foxes and hawks both prey upon rabbits but do not interact with each other. This ecosystem consists of five primitive systems which share variables.\n",
    "1. rabbit growth:  $\\dot r(t) = \\alpha r(t)$\n",
    "2. rabbit/fox predation:  $\\dot r(t) = -\\beta r(t) f(t), \\dot f(t) = \\delta r(t)f(t)$\n",
    "3. fox decline:  $\\dot f(t) = -\\gamma f(t)$\n",
    "4. rabbit/hawk predation: $\\dot r(t) = -\\beta' r(t)h(t), \\dot h(t) = \\delta' r(t)h(t)$\n",
    "5. hawk decline:  $\\dot h(t) = -\\gamma' h(t)$"
   ],
   "metadata": {}
  },
  {
   "cell_type": "markdown",
   "source": [
    "This means the desired composition pattern has five boxes and many ports and wires to keep track of. Instead of implementing this composition pattern by hand, we construct it as a pushout."
   ],
   "metadata": {}
  },
  {
   "outputs": [],
   "cell_type": "code",
   "source": [
    "# Define the composition pattern for rabbit growth\n",
    "rabbit_pattern = @relation (rabbits,) -> rabbit_growth(rabbits)\n",
    "\n",
    "# Define the composition pattern for the rabbit/hawk Lotka Volterra model\n",
    "rabbithawk_pattern = @relation (rabbits, hawks) begin\n",
    "    rabbit_growth(rabbits)\n",
    "    rabbithawk_predation(rabbits,hawks)\n",
    "    hawk_decline(hawks)\n",
    "end\n",
    "\n",
    "# Define transformations between the composition patterns\n",
    "rabbitfox_transform  = ACSetTransformation((Box=[1], Junction=[1], Port=[1], OuterPort=[1]), rabbit_pattern, rabbitfox_pattern)\n",
    "rabbithawk_transform = ACSetTransformation((Box=[1], Junction=[1], Port=[1], OuterPort=[1]), rabbit_pattern, rabbithawk_pattern)\n",
    "\n",
    "# Take the pushout to define the composition pattern for the rabbit, fox, hawk system\n",
    "rabbitfoxhawk_pattern = ob(pushout(rabbitfox_transform, rabbithawk_transform))\n",
    "\n",
    "# Visualize the compsition pattern\n",
    "to_graphviz(rabbitfoxhawk_pattern, box_labels = :name, junction_labels = :variable, edge_attrs=Dict(:len => \".9\"))"
   ],
   "metadata": {},
   "execution_count": null
  },
  {
   "outputs": [],
   "cell_type": "code",
   "source": [
    "# Define the additional primitive systems\n",
    "dotrh(u, p, t) = [-p.βrh*u[1]*u[2], p.γrh*u[1]*u[2]]\n",
    "doth(u, p, t)  = -p.δh*u\n",
    "\n",
    "rabbithawk_predation = ContinuousResourceSharer{Float64}(2, dotrh)\n",
    "hawk_decline         = ContinuousResourceSharer{Float64}(1, doth)\n",
    "\n",
    "# Compose\n",
    "merge!(submodels, Dict(\n",
    "    :rabbithawk_predation => rabbithawk_predation,\n",
    "    :hawk_decline => hawk_decline\n",
    "))\n",
    "\n",
    "land_system = oapply(rabbitfoxhawk_pattern, submodels)\n",
    "\n",
    "# Solve and plot\n",
    "u0 = [10.0, 100.0, 50.0]\n",
    "tspan = (0.0, 100.0)\n",
    "\n",
    "prob = ODEProblem(land_system, u0, tspan, params)\n",
    "sol = solve(prob, Tsit5())\n",
    "\n",
    "plot(sol, land_system,\n",
    "    lw=2,\n",
    "    title = \"Land Ecosystem\",\n",
    "    xlabel = \"time\", ylabel = \"population size\")"
   ],
   "metadata": {},
   "execution_count": null
  },
  {
   "cell_type": "markdown",
   "source": [
    "Unfortunately, the hawks are going extinct in this model. We'll have to give hawks something else to eat!"
   ],
   "metadata": {}
  },
  {
   "cell_type": "markdown",
   "source": [
    "## Ocean Ecosystem"
   ],
   "metadata": {}
  },
  {
   "cell_type": "markdown",
   "source": [
    "Consider a ocean ecosystem containing three species —- little fish, big fish, and sharks -— with two predation interactions —- sharks eat big fish and big fish eat little fish."
   ],
   "metadata": {}
  },
  {
   "cell_type": "markdown",
   "source": [
    "This ecosystem can be modeled as the composition of 3 machines:\n",
    "1. Evolution of the little fish population:  this machine has one exogenous variable which represents a population of predators $h(t)$ that hunt little fish. This machine has one output which emits the little fish population. The dynamics of this machine is the driven ODE $$\\dot f(t) = \\alpha f(t) - \\beta f(t)h(t)$$\n",
    "2. Evolution of the big fish population:  this machine has two exogenous variables which represent a population of prey $e(t)$ that are eaten by big fish and a population of predators $h(t)$ which hunt big fish. This machine has one output which emits the big fish population. The dynamics of this machine is the drive ODE $$\\dot F(t) = \\gamma F(t)e(t) - \\delta F(t) - \\beta'F(t)h(t)$$\n",
    "3. Evolution of the shark population:  this machine has one exogenous variable which represents a population of prey $e(t)$ that are eaten by sharks. This machine has one output which emits the shark population. The dynamics of this machine is the driven ODE $$\\dot s(t) = \\gamma's(t)e(t) - \\delta's(t)$$"
   ],
   "metadata": {}
  },
  {
   "outputs": [],
   "cell_type": "code",
   "source": [
    "# Define the primitive systems\n",
    "dotfish(f, x, p, t) = [p.αfish*f[1] - p.βfishF*x[1]*f[1]]\n",
    "dotFISH(F, x, p, t) = [p.γfishF*x[1]*F[1] - p.δF*F[1] - p.βFs*x[2]*F[1]]\n",
    "dotsharks(s, x, p, t) = [p.γFs*s[1]*x[1]-p.δs*s[1]]\n",
    "\n",
    "fish   = ContinuousMachine{Float64}(1,1,1, dotfish,   (f,p,t)->f)\n",
    "FISH   = ContinuousMachine{Float64}(2,1,1, dotFISH,   (F,p,t)->F)\n",
    "sharks = ContinuousMachine{Float64}(1,1,1, dotsharks, (s,p,t)->s)"
   ],
   "metadata": {},
   "execution_count": null
  },
  {
   "cell_type": "markdown",
   "source": [
    "We compose these machines by (1) sending the output of the big fish machine as the input to both the little fish and shark machines and (2) sending the output of the little fish and shark machines as the inputs to the big fish machine.\n",
    "The syntax for this directed composition is given by a directed wiring diagram."
   ],
   "metadata": {}
  },
  {
   "outputs": [],
   "cell_type": "code",
   "source": [
    "# Define the composition pattern\n",
    "ocean_pattern = WiringDiagram([], [:fish, :Fish, :shark])\n",
    "fish_box = add_box!(ocean_pattern, Box(:fish, [:pop], [:pop]))\n",
    "Fish_box = add_box!(ocean_pattern, Box(:Fish, [:pop, :pop], [:pop]))\n",
    "shark_box = add_box!(ocean_pattern, Box(:shark, [:pop], [:pop]))\n",
    "\n",
    "output_box = output_id(ocean_pattern)\n",
    "add_wires!(ocean_pattern, Pair[\n",
    "    (fish_box, 1)  => (Fish_box, 1),\n",
    "    (shark_box, 1) => (Fish_box, 2),\n",
    "    (Fish_box, 1)  => (fish_box, 1),\n",
    "    (Fish_box, 1)  => (shark_box, 1),\n",
    "    (fish_box, 1)  => (output_box, 1),\n",
    "    (Fish_box, 1)  => (output_box, 2),\n",
    "    (shark_box, 1) => (output_box, 3)\n",
    "])\n",
    "\n",
    "# Visualize the composition pattern\n",
    "to_graphviz(ocean_pattern, orientation=TopToBottom)"
   ],
   "metadata": {},
   "execution_count": null
  },
  {
   "outputs": [],
   "cell_type": "code",
   "source": [
    "# Compose\n",
    "ocean_system = oapply(ocean_pattern, [fish, FISH, sharks])\n",
    "\n",
    "# Solve and plot\n",
    "u0 = [100.0, 10, 2.0]\n",
    "tspan = (0.0, 100.0)\n",
    "\n",
    "prob = ODEProblem(ocean_system, u0, tspan, params)\n",
    "sol = solve(prob, Tsit5())\n",
    "\n",
    "plot(sol, ocean_system,\n",
    "    lw=2, title = \"Ocean Ecosystem\",\n",
    "    xlabel = \"time\", ylabel = \"population size\"\n",
    ")"
   ],
   "metadata": {},
   "execution_count": null
  },
  {
   "cell_type": "markdown",
   "source": [
    "## Total ecosystem\n",
    "### Another layer of composition"
   ],
   "metadata": {}
  },
  {
   "cell_type": "markdown",
   "source": [
    "We will introduce a final predation interaction -- hawks eat little fish --  which will combine the land and ocean ecosystems.\n",
    "The composition will be as resource shareres so the first thing we will do is use the dynamics of the machine `ocean_system` to define the dynamics of a resource sharer. We will also define a resource sharer that models hawk/little fish predation."
   ],
   "metadata": {}
  },
  {
   "outputs": [],
   "cell_type": "code",
   "source": [
    "# Define the additional primitive systems\n",
    "ocean_system_rs = ContinuousResourceSharer{Float64}(3, (u,p,t) -> eval_dynamics(ocean_system, u, [], p))\n",
    "\n",
    "dothf(u,p,t) = [p.γfishh*u[1]*u[2], -p.βfishh*u[1]*u[2]]\n",
    "fishhawk_predation = ContinuousResourceSharer{Float64}(2, dothf)\n",
    "\n",
    "# Define the composition pattern\n",
    "eco_pattern = @relation (rabbits, foxes, hawks, littlefish, BigFish, sharks)  begin\n",
    "    turf(rabbits,foxes,hawks)\n",
    "    air(hawks, littlefish)\n",
    "    surf(littlefish, BigFish, sharks)\n",
    "end\n",
    "\n",
    "# Visualize the composition pattern\n",
    "to_graphviz(eco_pattern, box_labels = :name, junction_labels = :variable, edge_attrs=Dict(:len => \".75\"))"
   ],
   "metadata": {},
   "execution_count": null
  },
  {
   "outputs": [],
   "cell_type": "code",
   "source": [
    "# Compose\n",
    "\n",
    "ecosystem = oapply(eco_pattern, Dict(\n",
    "    :turf => land_system,\n",
    "    :air => fishhawk_predation,\n",
    "    :surf => ocean_system_rs)\n",
    ")"
   ],
   "metadata": {},
   "execution_count": null
  },
  {
   "cell_type": "markdown",
   "source": [
    "We can now plot the evolution of the total ecosystem."
   ],
   "metadata": {}
  },
  {
   "outputs": [],
   "cell_type": "code",
   "source": [
    "# Solve and plot\n",
    "u0 = [100.0, 50.0, 20.0, 100, 10, 2.0]\n",
    "tspan = (0.0, 100.0)\n",
    "\n",
    "prob = ODEProblem(ecosystem, u0, tspan, params)\n",
    "sol = solve(prob, Tsit5())\n",
    "plot(sol, ecosystem,\n",
    "    lw=2, title = \"Total Ecosystem\",\n",
    "    xlabel = \"time\", ylabel = \"population size\"\n",
    ")"
   ],
   "metadata": {},
   "execution_count": null
  },
  {
   "cell_type": "markdown",
   "source": [
    "Let's zoom in on a narrower time-window."
   ],
   "metadata": {}
  },
  {
   "outputs": [],
   "cell_type": "code",
   "source": [
    "tspan = (0.0, 30.0)\n",
    "\n",
    "prob = ODEProblem(ecosystem, u0, tspan, params)\n",
    "sol = solve(prob, Tsit5())\n",
    "plot(sol, ecosystem,\n",
    "    lw=2, title = \"Total Ecosystem\",\n",
    "    xlabel = \"time\", ylabel = \"population size\"\n",
    ")"
   ],
   "metadata": {},
   "execution_count": null
  },
  {
   "cell_type": "markdown",
   "source": [
    "As a sanity check we can define the rates for the hawk/little fish predation to be 0. This decouples the land and ocean ecosystems. As expected, the plot shows the original evolution of the land ecosystem overlayed with the original evolution of the ocean ecosystem. This shows that they two ecosystems now evolve independently."
   ],
   "metadata": {}
  },
  {
   "outputs": [],
   "cell_type": "code",
   "source": [
    "tspan = (0.0, 100.0)\n",
    "params.βfishh = 0; params.γfishh = 0\n",
    "\n",
    "prob = ODEProblem(ecosystem, u0, tspan, params)\n",
    "sol = solve(prob, Tsit5())\n",
    "plot(sol, ecosystem,\n",
    "    lw=2, title = \"Decoupled Ecosystem\",\n",
    "    xlabel = \"time\", ylabel = \"population size\"\n",
    ")"
   ],
   "metadata": {},
   "execution_count": null
  }
 ],
 "nbformat_minor": 3,
 "metadata": {
  "language_info": {
   "file_extension": ".jl",
   "mimetype": "application/julia",
   "name": "julia",
   "version": "1.10.4"
  },
  "kernelspec": {
   "name": "julia-1.10",
   "display_name": "Julia 1.10.4",
   "language": "julia"
  }
 },
 "nbformat": 4
}
